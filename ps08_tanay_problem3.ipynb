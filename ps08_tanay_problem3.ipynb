{
 "cells": [
  {
   "cell_type": "markdown",
   "metadata": {},
   "source": [
    "# Introduction to Data Science"
   ]
  },
  {
   "cell_type": "markdown",
   "metadata": {},
   "source": [
    "Before you hand this problem in, make sure everything runs as expected. You should **restart the kernel and run all cells** by selecting \n",
    "\n",
    "`Kernel --> Restart Kernel and Run All Cells`\n",
    "\n",
    "in the menubar.\n",
    "\n",
    "- Of course, you should use **an appropriate kernel** on the Jupyterhub of the math department or locally, so that the right modules are used and the calculations can be checked deterministically.  \n",
    "- Make sure you fill in any place that says `YOUR CODE HERE` or \"YOUR ANSWER HERE\".\n",
    "- Rename this problem sheet as follows:\n",
    "\n",
    "      ps{number of lab}_{your user name}_problem{number of problem sheet in this lab}\n",
    "    \n",
    "  for example\n",
    "    \n",
    "      ps02_blja_problem1\n",
    "    \n",
    "- Please fill out the cell below for **every submission**.\n",
    "\n",
    "**Change in submission of files**: Please upload this submission until next Tuesday to your shared Nextcloud [https://tuc.cloud/](https://tuc.cloud/) directory with the name of your username which has been created during the third exercise lab.\n",
    "If you have not yet been assigned to a shared Nextcloud folder, please contact me via email (jan.blechschmidt@mathematik.tu-chemnitz.de) as soon as possible."
   ]
  },
  {
   "cell_type": "code",
   "execution_count": null,
   "metadata": {},
   "outputs": [],
   "source": [
    "NAME = \"Tanay Maurya\"\n",
    "EMAIL = \"tanay.maurya@s2024.tu-chemnitz.de\"\n",
    "USERNAME = \"tanay@tu-chemnitz.de\""
   ]
  },
  {
   "cell_type": "markdown",
   "metadata": {},
   "source": [
    "---"
   ]
  },
  {
   "attachments": {},
   "cell_type": "markdown",
   "metadata": {
    "deletable": false,
    "editable": false,
    "nbgrader": {
     "cell_type": "markdown",
     "checksum": "da465154543cb14b6a58467e18d23899",
     "grade": false,
     "grade_id": "cell-09e40ef55e74ddbf",
     "locked": true,
     "schema_version": 3,
     "solution": false,
     "task": false
    }
   },
   "source": [
    "# Introduction to Data Science\n",
    "## Lab 8: Cross-validation for a diabetes data set"
   ]
  },
  {
   "attachments": {},
   "cell_type": "markdown",
   "metadata": {
    "deletable": false,
    "editable": false,
    "nbgrader": {
     "cell_type": "markdown",
     "checksum": "96c70e1e5d52ad0fd39374d921d1f24e",
     "grade": false,
     "grade_id": "cell-6a9c350b8253c1c6",
     "locked": true,
     "schema_version": 3,
     "solution": false,
     "task": false
    }
   },
   "source": [
    "### Part A: Importing the data set"
   ]
  },
  {
   "attachments": {},
   "cell_type": "markdown",
   "metadata": {
    "deletable": false,
    "editable": false,
    "nbgrader": {
     "cell_type": "markdown",
     "checksum": "6135301e358aca496c532030a71772e0",
     "grade": false,
     "grade_id": "cell-e9f33802d3e4ed8f",
     "locked": true,
     "schema_version": 3,
     "solution": false,
     "task": false
    }
   },
   "source": [
    "The diabetes data set that we are using today contains ten measurements (age, sex, body mass index, average blood pressure, and six blood serum measurements) for each of the `n = 442` patients.\n",
    "\n",
    "The response variable is a quantitative measure of disease progression one year after baseline.\n",
    "\n",
    "**Task**: The data set is part of scikit learn, you can import it by executing the next cell."
   ]
  },
  {
   "cell_type": "code",
   "execution_count": 1,
   "metadata": {
    "deletable": false,
    "editable": false,
    "nbgrader": {
     "cell_type": "code",
     "checksum": "60a65c36d4e824c587423b2ff9770ba4",
     "grade": false,
     "grade_id": "cell-64880bb943a3eeb3",
     "locked": true,
     "schema_version": 3,
     "solution": false,
     "task": false
    }
   },
   "outputs": [],
   "source": [
    "from sklearn import datasets\n",
    "diabetes = datasets.load_diabetes()"
   ]
  },
  {
   "attachments": {},
   "cell_type": "markdown",
   "metadata": {
    "deletable": false,
    "editable": false,
    "nbgrader": {
     "cell_type": "markdown",
     "checksum": "33e371c44f82b5e59167810ad53e13d6",
     "grade": false,
     "grade_id": "cell-233004448533d63f",
     "locked": true,
     "schema_version": 3,
     "solution": false,
     "task": false
    }
   },
   "source": [
    "Here, `diabetes` will be a dictionary.\n",
    "A *dictionary* is an unordered collection of items.\n",
    "While other compound data types have only `values` as elements (a *list* for example), a dictionary consists of `key: value` pairs.\n",
    "\n",
    "**Task**: You can return the keys using the method `.keys()`."
   ]
  },
  {
   "cell_type": "code",
   "execution_count": 2,
   "metadata": {
    "deletable": false,
    "editable": false,
    "nbgrader": {
     "cell_type": "code",
     "checksum": "56a1c617b946cc02d136ac354ce8580d",
     "grade": false,
     "grade_id": "cell-230736cbe8e06f83",
     "locked": true,
     "schema_version": 3,
     "solution": false,
     "task": false
    }
   },
   "outputs": [
    {
     "data": {
      "text/plain": [
       "dict_keys(['data', 'target', 'frame', 'DESCR', 'feature_names', 'data_filename', 'target_filename', 'data_module'])"
      ]
     },
     "execution_count": 2,
     "metadata": {},
     "output_type": "execute_result"
    }
   ],
   "source": [
    "diabetes.keys()"
   ]
  },
  {
   "attachments": {},
   "cell_type": "markdown",
   "metadata": {
    "deletable": false,
    "editable": false,
    "nbgrader": {
     "cell_type": "markdown",
     "checksum": "ae39a9c65b181b9d5820efbb2cc996c6",
     "grade": false,
     "grade_id": "cell-f0857d4c565e2188",
     "locked": true,
     "schema_version": 3,
     "solution": false,
     "task": false
    }
   },
   "source": [
    "Here, you find that the *dictionary* diabetes contains the keys\n",
    "\n",
    "    'data', 'target', 'frame', 'DESCR', 'feature_names', 'data_filename', 'target_filename', 'data_module'\n",
    "\n",
    "Since `DESCR` sounds like description, we print its *value* by the following command\n",
    "    \n",
    "    print(diabetes.DESCR)"
   ]
  },
  {
   "cell_type": "code",
   "execution_count": 3,
   "metadata": {
    "deletable": false,
    "editable": false,
    "nbgrader": {
     "cell_type": "code",
     "checksum": "720b643071033e63bb59cadd6d81b9b2",
     "grade": false,
     "grade_id": "cell-d6d1064cfde4400b",
     "locked": true,
     "schema_version": 3,
     "solution": false,
     "task": false
    }
   },
   "outputs": [
    {
     "name": "stdout",
     "output_type": "stream",
     "text": [
      ".. _diabetes_dataset:\n",
      "\n",
      "Diabetes dataset\n",
      "----------------\n",
      "\n",
      "Ten baseline variables, age, sex, body mass index, average blood\n",
      "pressure, and six blood serum measurements were obtained for each of n =\n",
      "442 diabetes patients, as well as the response of interest, a\n",
      "quantitative measure of disease progression one year after baseline.\n",
      "\n",
      "**Data Set Characteristics:**\n",
      "\n",
      ":Number of Instances: 442\n",
      "\n",
      ":Number of Attributes: First 10 columns are numeric predictive values\n",
      "\n",
      ":Target: Column 11 is a quantitative measure of disease progression one year after baseline\n",
      "\n",
      ":Attribute Information:\n",
      "    - age     age in years\n",
      "    - sex\n",
      "    - bmi     body mass index\n",
      "    - bp      average blood pressure\n",
      "    - s1      tc, total serum cholesterol\n",
      "    - s2      ldl, low-density lipoproteins\n",
      "    - s3      hdl, high-density lipoproteins\n",
      "    - s4      tch, total cholesterol / HDL\n",
      "    - s5      ltg, possibly log of serum triglycerides level\n",
      "    - s6      glu, blood sugar level\n",
      "\n",
      "Note: Each of these 10 feature variables have been mean centered and scaled by the standard deviation times the square root of `n_samples` (i.e. the sum of squares of each column totals 1).\n",
      "\n",
      "Source URL:\n",
      "https://www4.stat.ncsu.edu/~boos/var.select/diabetes.html\n",
      "\n",
      "For more information see:\n",
      "Bradley Efron, Trevor Hastie, Iain Johnstone and Robert Tibshirani (2004) \"Least Angle Regression,\" Annals of Statistics (with discussion), 407-499.\n",
      "(https://web.stanford.edu/~hastie/Papers/LARS/LeastAngle_2002.pdf)\n",
      "\n"
     ]
    }
   ],
   "source": [
    "print(diabetes.DESCR)"
   ]
  },
  {
   "attachments": {},
   "cell_type": "markdown",
   "metadata": {
    "deletable": false,
    "editable": false,
    "nbgrader": {
     "cell_type": "markdown",
     "checksum": "3a9d3719b56c949fa7825309d148ac7a",
     "grade": false,
     "grade_id": "cell-9d7423f254773e52",
     "locked": true,
     "schema_version": 3,
     "solution": false,
     "task": false
    }
   },
   "source": [
    "Your first task will be to create a `pandas.DataFrame` to hold this information.\n",
    "\n",
    "**Task (2 points)**:\n",
    "Create a pandas data frame `X` holding the ten predictor variables. You should name the columns in the data frame using the optional argument `columns=cols`, where `cols` is given by\n",
    "    \n",
    "    cols = [\"age\", \"sex\", \"bmi\", \"map\", \"tc\",\n",
    "            \"ldl\", \"hdl\", \"tch\", \"ltg\", \"glu\"]\n",
    "            \n",
    "Store the response variables as a numpy array `y`\n",
    "\n",
    "**Hint**:\n",
    "As in the iris data set, the diabetes data set is as a python dictionary.\n",
    "The predictor variables can be accessed by `diabetes.data`, the responses via `diabetes.target`."
   ]
  },
  {
   "cell_type": "code",
   "execution_count": 15,
   "metadata": {
    "deletable": false,
    "nbgrader": {
     "cell_type": "code",
     "checksum": "171e20fd57fab2b905c00bf35dc7604b",
     "grade": false,
     "grade_id": "cell-db36fecb18abea08",
     "locked": false,
     "schema_version": 3,
     "solution": true,
     "task": false
    },
    "scrolled": true
   },
   "outputs": [],
   "source": [
    "import pandas as pd\n",
    "# YOUR CODE HERE\n",
    "cols = [\"age\", \"sex\", \"bmi\", \"map\", \"tc\",\"ldl\", \"hdl\", \"tch\", \"ltg\", \"glu\"]\n",
    "X = pd.DataFrame(diabetes.data, columns=cols)\n",
    "y = diabetes.target"
   ]
  },
  {
   "cell_type": "code",
   "execution_count": 16,
   "metadata": {
    "deletable": false,
    "editable": false,
    "nbgrader": {
     "cell_type": "code",
     "checksum": "ea67ab6f38e34b09d6bc13ed98b9f57f",
     "grade": true,
     "grade_id": "cell-29c0a4f3fa57f9b3",
     "locked": true,
     "points": 2,
     "schema_version": 3,
     "solution": false,
     "task": false
    }
   },
   "outputs": [],
   "source": [
    "assert 'X' in locals()\n",
    "assert 'y' in locals()"
   ]
  },
  {
   "attachments": {},
   "cell_type": "markdown",
   "metadata": {
    "deletable": false,
    "editable": false,
    "nbgrader": {
     "cell_type": "markdown",
     "checksum": "e0217ba271e8f6a96547a693e814d8eb",
     "grade": false,
     "grade_id": "cell-671c2584a7cbb043",
     "locked": true,
     "schema_version": 3,
     "solution": false,
     "task": false
    }
   },
   "source": [
    "In the following, we want to try two different estimation approaches:\n",
    "1. At first, we use a plain training-test set approach, where we exclude $1/5$ of the data from training.\n",
    "2. Our second approach is to estimate $5$ different models using 5-fold cross-validation"
   ]
  },
  {
   "attachments": {},
   "cell_type": "markdown",
   "metadata": {
    "deletable": false,
    "editable": false,
    "nbgrader": {
     "cell_type": "markdown",
     "checksum": "7324d481df79d76b84289d2dfa5c0d90",
     "grade": false,
     "grade_id": "cell-33c796b1ed15517f",
     "locked": true,
     "schema_version": 3,
     "solution": false,
     "task": false
    }
   },
   "source": [
    "### Part B: Simple splitting into training and test/validation set"
   ]
  },
  {
   "attachments": {},
   "cell_type": "markdown",
   "metadata": {
    "deletable": false,
    "editable": false,
    "nbgrader": {
     "cell_type": "markdown",
     "checksum": "e72b030a6e3eaf69270d68a20012a485",
     "grade": false,
     "grade_id": "cell-c1f1f7d6b17407a1",
     "locked": true,
     "schema_version": 3,
     "solution": false,
     "task": false
    }
   },
   "source": [
    "In this part, we want to train a linear model using a subset of our samples.\n",
    "We have done this by hand so far, but there are also methods provided by `sklearn` which will do this work for us.\n",
    "\n",
    "Use the function `train_test_split` from the module `sklearn.model_selection` to divide your data into a training and a test set.\n",
    "Since this selection is made randomly, you should set the optional input `random_state` to fix the seed of the random number generator to ensure comparability by setting `random_state=1`.\n",
    "\n",
    "**Task (1 point)**: Split your data into a training and a test set using the function `train_test_split`.\n",
    "Your *test set should contain 20\\% of the data*.\n",
    "Use `random_state=1`.\n",
    "Store your sets in variables `X_train, X_test, y_train, y_test`."
   ]
  },
  {
   "cell_type": "code",
   "execution_count": 17,
   "metadata": {
    "deletable": false,
    "nbgrader": {
     "cell_type": "code",
     "checksum": "b6e437dfd4263f73d0772f81208be3d3",
     "grade": false,
     "grade_id": "cell-253d355e804f66c1",
     "locked": false,
     "schema_version": 3,
     "solution": true,
     "task": false
    }
   },
   "outputs": [],
   "source": [
    "# YOUR CODE HERE\n",
    "from sklearn.model_selection import train_test_split\n",
    "X_train,X_test, y_train, y_test = train_test_split(X, y, random_state=1)"
   ]
  },
  {
   "cell_type": "code",
   "execution_count": 18,
   "metadata": {
    "deletable": false,
    "editable": false,
    "nbgrader": {
     "cell_type": "code",
     "checksum": "2bd5787b74d7a78004661046e3577093",
     "grade": true,
     "grade_id": "cell-5c8e4e639d5436be",
     "locked": true,
     "points": 1,
     "schema_version": 3,
     "solution": false,
     "task": false
    }
   },
   "outputs": [],
   "source": [
    "assert 'X_train' in locals()\n",
    "assert 'y_train' in locals()\n",
    "assert 'X_test' in locals()\n",
    "assert 'y_test' in locals()"
   ]
  },
  {
   "attachments": {},
   "cell_type": "markdown",
   "metadata": {},
   "source": [
    "**Task (1 point)**:\n",
    "Fit a *LinearRegression model* to your **training** data.\n",
    "Use the appropriate method from `sklearn`.\n",
    "\n",
    "Use your model to predict the response on the test set and store your prediction in a variable `test_pred`."
   ]
  },
  {
   "cell_type": "code",
   "execution_count": 23,
   "metadata": {
    "deletable": false,
    "nbgrader": {
     "cell_type": "code",
     "checksum": "47e942c9c722ddef5969df922aaf224e",
     "grade": false,
     "grade_id": "cell-9d2306f93189f453",
     "locked": false,
     "schema_version": 3,
     "solution": true,
     "task": false
    }
   },
   "outputs": [],
   "source": [
    "from sklearn.linear_model import LinearRegression\n",
    "# YOUR CODE HERE\n",
    "model = LinearRegression()\n",
    "model.fit(X_train,y_train)\n",
    "test_pred = model.predict(X_test)"
   ]
  },
  {
   "cell_type": "code",
   "execution_count": 24,
   "metadata": {
    "deletable": false,
    "editable": false,
    "nbgrader": {
     "cell_type": "code",
     "checksum": "ce0dd11471f2d71deb7065c8edbb6714",
     "grade": true,
     "grade_id": "cell-44c6b5d6f023a572",
     "locked": true,
     "points": 1,
     "schema_version": 3,
     "solution": false,
     "task": false
    }
   },
   "outputs": [],
   "source": [
    "assert 'test_pred' in locals()"
   ]
  },
  {
   "attachments": {},
   "cell_type": "markdown",
   "metadata": {
    "deletable": false,
    "editable": false,
    "nbgrader": {
     "cell_type": "markdown",
     "checksum": "c7af1084683db640e8de018bd328f954",
     "grade": false,
     "grade_id": "cell-cfb671f87ebfc359",
     "locked": true,
     "schema_version": 3,
     "solution": false,
     "task": false
    }
   },
   "source": [
    "Until now, our plots were always of the type predictor against response or against regression line.\n",
    "Another way to display the quality of a regression fit is to plot the true values against the predicted values.\n",
    "The closer the values are to the identity $f(x) = x$, the better the fit.\n",
    "\n",
    "**Task (2 points)**:\n",
    "Produce a scatterplot of the true values of the target variable in the test set against the predicted values. Draw also a line corresponding to the *ideal prediction*, i.e., each prediction is equal to its true value.\n",
    "Label the axes accordingly."
   ]
  },
  {
   "cell_type": "code",
   "execution_count": 46,
   "metadata": {
    "deletable": false,
    "nbgrader": {
     "cell_type": "code",
     "checksum": "8ebe308a38f31a94c988dc7ab0c147ed",
     "grade": true,
     "grade_id": "cell-0d7703946fd94797",
     "locked": false,
     "points": 2,
     "schema_version": 3,
     "solution": true,
     "task": false
    }
   },
   "outputs": [
    {
     "data": {
      "image/png": "[encoded data removed]",
      "text/plain": [
       "<Figure size 640x480 with 1 Axes>"
      ]
     },
     "metadata": {},
     "output_type": "display_data"
    }
   ],
   "source": [
    "from matplotlib import pyplot as plt\n",
    "import numpy as np\n",
    "%matplotlib inline\n",
    "# YOUR CODE HERE\n",
    "plt.scatter(y_test, test_pred, c='black', label=\"True vs Predicted\")\n",
    "ideal_line = np.linspace(min(y_test), max(y_test))\n",
    "plt.plot(ideal_line, ideal_line, color='red', linestyle='--', label='Ideal Prediction')\n",
    "plt.legend()\n",
    "plt.xlabel('True Values')\n",
    "plt.ylabel('Predicted Values')\n",
    "plt.show();"
   ]
  },
  {
   "attachments": {},
   "cell_type": "markdown",
   "metadata": {
    "deletable": false,
    "editable": false,
    "nbgrader": {
     "cell_type": "markdown",
     "checksum": "3bfb7e131bc548f90c8b6a21d835e585",
     "grade": false,
     "grade_id": "cell-0bfc37e71a4e2058",
     "locked": true,
     "schema_version": 3,
     "solution": false,
     "task": false
    }
   },
   "source": [
    "**Task (1 point)**: Compute the mean squared error $\\text{MSE}_\\text{test}$ on the test set.\n",
    "You can either use the method `mean_squared_error` from the module `sklearn.metrics`, or you can implement it by yourself.\n",
    "Store the mean squared error in a variable `mse_test`."
   ]
  },
  {
   "cell_type": "code",
   "execution_count": 52,
   "metadata": {
    "deletable": false,
    "nbgrader": {
     "cell_type": "code",
     "checksum": "a835cb6a9fe99c014d786c4b3224118c",
     "grade": false,
     "grade_id": "cell-0cf189f73fe1b8bb",
     "locked": false,
     "schema_version": 3,
     "solution": true,
     "task": false
    }
   },
   "outputs": [],
   "source": [
    "# YOUR CODE HERE\n",
    "from sklearn.metrics import mean_squared_error\n",
    "mse_test = mean_squared_error(y_test, test_pred)"
   ]
  },
  {
   "cell_type": "code",
   "execution_count": 53,
   "metadata": {
    "deletable": false,
    "editable": false,
    "nbgrader": {
     "cell_type": "code",
     "checksum": "2a00f16280ffa9028f3e55943ec84dcc",
     "grade": true,
     "grade_id": "cell-39655950c0337042",
     "locked": true,
     "points": 1,
     "schema_version": 3,
     "solution": false,
     "task": false
    }
   },
   "outputs": [],
   "source": [
    "assert 'mse_test' in locals()"
   ]
  },
  {
   "attachments": {},
   "cell_type": "markdown",
   "metadata": {
    "deletable": false,
    "editable": false,
    "nbgrader": {
     "cell_type": "markdown",
     "checksum": "8f57b67068d2cfaf6b20c84a2d93c498",
     "grade": false,
     "grade_id": "cell-6e3f79f47f759691",
     "locked": true,
     "schema_version": 3,
     "solution": false,
     "task": false
    }
   },
   "source": [
    "**Task (1 point)**: What is the proportion of variability that is explained by this linear fit within the test set. Store your answer in a variable `expl_var`.\n",
    "\n",
    "*Remember*: A `LinearRegression` has a method that computes exactly this."
   ]
  },
  {
   "cell_type": "code",
   "execution_count": 54,
   "metadata": {
    "deletable": false,
    "nbgrader": {
     "cell_type": "code",
     "checksum": "35c5865db1c7dbf69560091ebb9f6c0d",
     "grade": false,
     "grade_id": "cell-02da9e3b706ff219",
     "locked": false,
     "schema_version": 3,
     "solution": true,
     "task": false
    }
   },
   "outputs": [],
   "source": [
    "# YOUR CODE HERE\n",
    "expl_var = model.score(X_test, y_test)"
   ]
  },
  {
   "cell_type": "code",
   "execution_count": 55,
   "metadata": {
    "deletable": false,
    "editable": false,
    "nbgrader": {
     "cell_type": "code",
     "checksum": "792e7d9beaa6db6a95c7ed722b89a762",
     "grade": true,
     "grade_id": "cell-cd94b31e3414158f",
     "locked": true,
     "points": 1,
     "schema_version": 3,
     "solution": false,
     "task": false
    }
   },
   "outputs": [],
   "source": [
    "assert 'expl_var' in locals()"
   ]
  },
  {
   "attachments": {},
   "cell_type": "markdown",
   "metadata": {
    "deletable": false,
    "editable": false,
    "nbgrader": {
     "cell_type": "markdown",
     "checksum": "2895bb3f81c3b25c143ac1e3b17dcbac",
     "grade": false,
     "grade_id": "cell-63670992fba16704",
     "locked": true,
     "schema_version": 3,
     "solution": false,
     "task": false
    }
   },
   "source": [
    "### Part C: K-Fold Cross-Validation"
   ]
  },
  {
   "attachments": {},
   "cell_type": "markdown",
   "metadata": {
    "deletable": false,
    "editable": false,
    "nbgrader": {
     "cell_type": "markdown",
     "checksum": "8995999bcba98f079fe9ed13c47427a7",
     "grade": false,
     "grade_id": "cell-e8c06d868e91a629",
     "locked": true,
     "schema_version": 3,
     "solution": false,
     "task": false
    }
   },
   "source": [
    "Next, we want to use cross-validation to select our model.\n",
    "Scikit-learn is a powerful library and possesses numerous modules and functions.\n",
    "Here, we explore the function `cross_val_score`, which can be imported by\n",
    "\n",
    "    from sklearn.model_selection import cross_val_score\n",
    "    \n",
    "This function performs K-fold cross-validation and returns a score for each fold (this is the $R^2$-score by default).\n",
    "    \n",
    "**Task**: Please read the [documentation](https://scikit-learn.org/stable/modules/generated/sklearn.model_selection.cross_val_score.html#sklearn.model_selection.cross_val_score) and import the function `cross_val_score`."
   ]
  },
  {
   "cell_type": "code",
   "execution_count": 56,
   "metadata": {
    "deletable": false,
    "editable": false,
    "nbgrader": {
     "cell_type": "code",
     "checksum": "df0129b8049eac98c44bf8eb16284407",
     "grade": false,
     "grade_id": "cell-13e697d4b0ee21f2",
     "locked": true,
     "schema_version": 3,
     "solution": false,
     "task": false
    }
   },
   "outputs": [],
   "source": [
    "from sklearn.model_selection import cross_val_score"
   ]
  },
  {
   "attachments": {},
   "cell_type": "markdown",
   "metadata": {
    "deletable": false,
    "editable": false,
    "nbgrader": {
     "cell_type": "markdown",
     "checksum": "f7ec837aa594008a7463680567e93b59",
     "grade": false,
     "grade_id": "cell-b40037e4f1431811",
     "locked": true,
     "schema_version": 3,
     "solution": false,
     "task": false
    }
   },
   "source": [
    "The functions expects as a first argument an `estimator`.\n",
    "We are informed by the documentation that this should be an \"estimator object implementing \\[the method\\] ‘fit’\".\n",
    "\n",
    "This is fulfilled by all estimation methods used so far (e.g. linear models, logistic regression, LDA).\n",
    "In the case of a linear regression fit, this could be\n",
    "    \n",
    "    model = linear_model.LinearRegression()\n",
    "\n",
    "**Task (1 point)**: Perform a 5-fold cross-validation for a linear model on the diabetes data set and print the scores.\n",
    "Store the output of the function `cross_val_score` in a variable `cv_scores`."
   ]
  },
  {
   "cell_type": "code",
   "execution_count": 57,
   "metadata": {
    "deletable": false,
    "nbgrader": {
     "cell_type": "code",
     "checksum": "278b6e777f3d6fb0e14441fe1cb94773",
     "grade": false,
     "grade_id": "cell-c553fd69d4271177",
     "locked": false,
     "schema_version": 3,
     "solution": true,
     "task": false
    }
   },
   "outputs": [],
   "source": [
    "# YOUR CODE HERE\n",
    "cv_scores = cross_val_score(model,X,y,cv=5)"
   ]
  },
  {
   "cell_type": "code",
   "execution_count": 58,
   "metadata": {
    "deletable": false,
    "editable": false,
    "nbgrader": {
     "cell_type": "code",
     "checksum": "8a845baab5b169cec2c6cffc228982ea",
     "grade": true,
     "grade_id": "cell-99d619405f87a651",
     "locked": true,
     "points": 1,
     "schema_version": 3,
     "solution": false,
     "task": false
    }
   },
   "outputs": [],
   "source": [
    "assert 'cv_scores' in locals()"
   ]
  },
  {
   "attachments": {},
   "cell_type": "markdown",
   "metadata": {
    "deletable": false,
    "editable": false,
    "nbgrader": {
     "cell_type": "markdown",
     "checksum": "6ea091c1daace19403d9e9849cfc441d",
     "grade": false,
     "grade_id": "cell-1243681c5a0df9e3",
     "locked": true,
     "schema_version": 3,
     "solution": false,
     "task": false
    }
   },
   "source": [
    "**Task (1 point)**: Use the function `cross_val_predict` in the module `sklearn.model_selection` to make prediction on the diabetes data set.\n",
    "Store your answer in a variable `cv_pred`. Use again 5 folds."
   ]
  },
  {
   "cell_type": "code",
   "execution_count": 59,
   "metadata": {
    "deletable": false,
    "nbgrader": {
     "cell_type": "code",
     "checksum": "ebefdea203e886bf52e1ba3b784ceb34",
     "grade": false,
     "grade_id": "cell-007de9e596ef7ff7",
     "locked": false,
     "schema_version": 3,
     "solution": true,
     "task": false
    }
   },
   "outputs": [],
   "source": [
    "# YOUR CODE HERE\n",
    "from sklearn.model_selection import cross_val_predict\n",
    "cv_pred = cross_val_predict(model,X,y,cv=5)"
   ]
  },
  {
   "cell_type": "code",
   "execution_count": 60,
   "metadata": {
    "deletable": false,
    "editable": false,
    "nbgrader": {
     "cell_type": "code",
     "checksum": "b909a5f0613a8a733817f0520e6a8695",
     "grade": true,
     "grade_id": "cell-c0de606ebc88d567",
     "locked": true,
     "points": 1,
     "schema_version": 3,
     "solution": false,
     "task": false
    }
   },
   "outputs": [],
   "source": [
    "assert 'cv_pred' in locals()"
   ]
  },
  {
   "attachments": {},
   "cell_type": "markdown",
   "metadata": {
    "deletable": false,
    "editable": false,
    "nbgrader": {
     "cell_type": "markdown",
     "checksum": "d963193ea6d66d843c72229747ac4cad",
     "grade": false,
     "grade_id": "cell-91ce7cdbeca42c0e",
     "locked": true,
     "schema_version": 3,
     "solution": false,
     "task": false
    }
   },
   "source": [
    "**Task (1 point)**: Make a scatterplot of the true values in the test response against the predicted values similar to the one in **Part B**, but now using all of the data. Label the axes."
   ]
  },
  {
   "cell_type": "code",
   "execution_count": 63,
   "metadata": {
    "deletable": false,
    "nbgrader": {
     "cell_type": "code",
     "checksum": "739cceb0711dfd4d999913729d695c13",
     "grade": true,
     "grade_id": "cell-688b3f2f9f7696d3",
     "locked": false,
     "points": 1,
     "schema_version": 3,
     "solution": true,
     "task": false
    }
   },
   "outputs": [
    {
     "data": {
      "image/png": "[encoded data removed]",
      "text/plain": [
       "<Figure size 640x480 with 1 Axes>"
      ]
     },
     "metadata": {},
     "output_type": "display_data"
    }
   ],
   "source": [
    "from matplotlib import pyplot as plt\n",
    "%matplotlib inline\n",
    "# YOUR CODE HERE\n",
    "plt.scatter(y, cv_pred, color='black', label='Predicted vs True')\n",
    "ideal_line = np.linspace(min(y), max(y))\n",
    "plt.plot(ideal_line, ideal_line, color='red', linestyle='--', label='Ideal Prediction')\n",
    "plt.xlabel('True Values')\n",
    "plt.ylabel('Predicted Values')\n",
    "plt.legend()\n",
    "plt.title('True vs Predicted Values (Cross-Validation)')\n",
    "plt.show()"
   ]
  },
  {
   "attachments": {},
   "cell_type": "markdown",
   "metadata": {
    "deletable": false,
    "editable": false,
    "nbgrader": {
     "cell_type": "markdown",
     "checksum": "4dcd0d31a7aa7db4ca589eac8e1de862",
     "grade": false,
     "grade_id": "cell-f37498936a09e60f",
     "locked": true,
     "schema_version": 3,
     "solution": false,
     "task": false
    }
   },
   "source": [
    "**Task (1 point)**: Compute the $R^2$-score of this model and store it in a variable `accuracy`. You can use the function `r2_score` from the module `sklearn.metrics`."
   ]
  },
  {
   "cell_type": "code",
   "execution_count": 64,
   "metadata": {
    "deletable": false,
    "nbgrader": {
     "cell_type": "code",
     "checksum": "9edd8eb48fb829f877d9c890099b64bb",
     "grade": false,
     "grade_id": "cell-924703d0d9799788",
     "locked": false,
     "schema_version": 3,
     "solution": true,
     "task": false
    }
   },
   "outputs": [
    {
     "name": "stdout",
     "output_type": "stream",
     "text": [
      "Cross-validated Accuracy: 0.49532242216821853\n"
     ]
    }
   ],
   "source": [
    "# YOUR CODE HERE\n",
    "from sklearn.metrics import r2_score\n",
    "accuracy = r2_score(y,cv_pred)\n",
    "print(\"Cross-validated Accuracy:\", accuracy)"
   ]
  },
  {
   "cell_type": "code",
   "execution_count": null,
   "metadata": {
    "deletable": false,
    "editable": false,
    "nbgrader": {
     "cell_type": "code",
     "checksum": "fbe74bebcbe59079b2829b10abaa10f8",
     "grade": true,
     "grade_id": "cell-bec19fb2b666940c",
     "locked": true,
     "points": 1,
     "schema_version": 3,
     "solution": false,
     "task": false
    }
   },
   "outputs": [],
   "source": [
    "assert 'accuracy' in locals()"
   ]
  },
  {
   "attachments": {},
   "cell_type": "markdown",
   "metadata": {
    "deletable": false,
    "editable": false,
    "nbgrader": {
     "cell_type": "markdown",
     "checksum": "b8244f320f528f8bb2e38ddeac01e21f",
     "grade": false,
     "grade_id": "cell-d59732cd980a7b79",
     "locked": true,
     "schema_version": 3,
     "solution": false,
     "task": false
    }
   },
   "source": [
    "**Caution**: Although this $R^2$-score is higher than the score for the training/test set split, they are not really comparable since we computed them on different subsets of the data.\n",
    "To get a more reliable comparison, we must keep part of the data as a so-called *hold-out* data set to be used for estimating the true learning error."
   ]
  }
 ],
 "metadata": {
  "kernelspec": {
   "display_name": "Python 3 (ipykernel)",
   "language": "python",
   "name": "python3"
  },
  "language_info": {
   "codemirror_mode": {
    "name": "ipython",
    "version": 3
   },
   "file_extension": ".py",
   "mimetype": "text/x-python",
   "name": "python",
   "nbconvert_exporter": "python",
   "pygments_lexer": "ipython3",
   "version": "3.13.0"
  }
 },
 "nbformat": 4,
 "nbformat_minor": 4
}
