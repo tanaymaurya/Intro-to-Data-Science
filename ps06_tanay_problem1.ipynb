{
 "cells": [
  {
   "cell_type": "markdown",
   "metadata": {},
   "source": [
    "# Introduction to Data Science"
   ]
  },
  {
   "cell_type": "markdown",
   "metadata": {},
   "source": [
    "Before you hand this problem in, make sure everything runs as expected. You should **restart the kernel and run all cells** by selecting \n",
    "\n",
    "`Kernel --> Restart Kernel and Run All Cells`\n",
    "\n",
    "in the menubar.\n",
    "\n",
    "- Of course, you should use **an appropriate kernel** on the Jupyterhub of the math department or locally, so that the right modules are used and the calculations can be checked deterministically.  \n",
    "- Make sure you fill in any place that says `YOUR CODE HERE` or \"YOUR ANSWER HERE\".\n",
    "- Rename this problem sheet as follows:\n",
    "\n",
    "      ps{number of lab}_{your user name}_problem{number of problem sheet in this lab}\n",
    "    \n",
    "  for example\n",
    "    \n",
    "      ps02_blja_problem1\n",
    "    \n",
    "- Please fill out the cell below for **every submission**.\n",
    "\n",
    "**Change in submission of files**: Please upload this submission until next Tuesday to your shared Nextcloud [https://tuc.cloud/](https://tuc.cloud/) directory with the name of your username which has been created during the third exercise lab.\n",
    "If you have not yet been assigned to a shared Nextcloud folder, please contact me via email (jan.blechschmidt@mathematik.tu-chemnitz.de) as soon as possible."
   ]
  },
  {
   "cell_type": "code",
   "execution_count": 28,
   "metadata": {},
   "outputs": [],
   "source": [
    "NAME = \"Tanay Maurya\"\n",
    "EMAIL = \"tanay.maurya@s.2024.tu-chemnitz.de\"\n",
    "USERNAME = \"tanay\""
   ]
  },
  {
   "cell_type": "markdown",
   "metadata": {},
   "source": [
    "---"
   ]
  },
  {
   "attachments": {},
   "cell_type": "markdown",
   "metadata": {
    "deletable": false,
    "editable": false,
    "nbgrader": {
     "cell_type": "markdown",
     "checksum": "75998ad0be7bb835fdd23aa33879a397",
     "grade": false,
     "grade_id": "cell-d3f1af4753cf0349",
     "locked": true,
     "schema_version": 3,
     "solution": false,
     "task": false
    }
   },
   "source": [
    "# Introduction to Data Science\n",
    "## Lab 6: Test for importance of a subset of predictors"
   ]
  },
  {
   "attachments": {},
   "cell_type": "markdown",
   "metadata": {
    "deletable": false,
    "editable": false,
    "nbgrader": {
     "cell_type": "markdown",
     "checksum": "5c1912f1ab3cd263923b8a3e7c9bddbd",
     "grade": false,
     "grade_id": "cell-eb893e9a7222f145",
     "locked": true,
     "schema_version": 3,
     "solution": false,
     "task": false
    }
   },
   "source": [
    "In this problem, we want to investigate another data set.\n",
    "The data come from a study of [Stamey et al. (1989)](https://www.sciencedirect.com/science/article/pii/S002253471741175X?via%3Dihub).\n",
    "It consists of some clinical measurements of 97 patients, who where about to receive a prostatectomy.\n",
    "\n",
    "The predictors are:\n",
    "* lcavol - Logarithm of cancer volume\n",
    "* lweight - Logarithm of prostate weight\n",
    "* age - Age of patient\n",
    "* lbph - Logarithm of amount of benign prostatic hyperplasia\n",
    "* svi - Seminal vesicle invasion\n",
    "* lcp - Logarithm of capsular penetration\n",
    "* gleason - Gleason score\n",
    "* pgg45 - Percent of Gleason scores 4 or 5\n",
    "\n",
    "The variable that we want to predict is:\n",
    "* lpsa - Level of prostate-specific antigen\n",
    "\n",
    "There are no missing values."
   ]
  },
  {
   "attachments": {},
   "cell_type": "markdown",
   "metadata": {
    "deletable": false,
    "editable": false,
    "nbgrader": {
     "cell_type": "markdown",
     "checksum": "5bc3159809b840e80eb004f198f3eea5",
     "grade": false,
     "grade_id": "cell-505cbe735d8eeabd",
     "locked": true,
     "schema_version": 3,
     "solution": false,
     "task": false
    }
   },
   "source": [
    "The first task is to download and import the `prostate` data set.\n",
    "\n",
    "Taking a short look at the data reveals that the data is seperated by tabs.\n",
    "You can use the convenient `pandas` method `read_csv` with the options `sep = \"\\t\"` and `index_col = 0`."
   ]
  },
  {
   "cell_type": "code",
   "execution_count": 29,
   "metadata": {
    "deletable": false,
    "editable": false,
    "nbgrader": {
     "cell_type": "code",
     "checksum": "cf8f88a4a7cc826252186bd4b1f6bd94",
     "grade": false,
     "grade_id": "cell-04d76c8cb3e66529",
     "locked": true,
     "schema_version": 3,
     "solution": false,
     "task": false
    }
   },
   "outputs": [],
   "source": [
    "import pandas as pd\n",
    "import numpy as np\n",
    "# Import prostate cancer dataset\n",
    "pc = pd.read_csv('prostate.data', sep=\"\\t\", index_col=0)"
   ]
  },
  {
   "attachments": {},
   "cell_type": "markdown",
   "metadata": {
    "deletable": false,
    "editable": false,
    "nbgrader": {
     "cell_type": "markdown",
     "checksum": "50bfaecc8bee359c78b77ed2416154b5",
     "grade": false,
     "grade_id": "cell-8b7539177e190d44",
     "locked": true,
     "schema_version": 3,
     "solution": false,
     "task": false
    }
   },
   "source": [
    "The method `head` of a `pd.DataFrame` prints by default the first 5 rows of the `DataFrame`, which is suitable for getting an overview of the data.\n",
    "\n",
    "**Task**: Try it!"
   ]
  },
  {
   "cell_type": "code",
   "execution_count": 30,
   "metadata": {
    "deletable": false,
    "nbgrader": {
     "cell_type": "code",
     "checksum": "399ea4f51277c6192611fb11f8b21149",
     "grade": true,
     "grade_id": "cell-62a814ce0129cf1c",
     "locked": false,
     "points": 1,
     "schema_version": 3,
     "solution": true,
     "task": false
    }
   },
   "outputs": [
    {
     "data": {
      "text/html": [
       "<div>\n",
       "<style scoped>\n",
       "    .dataframe tbody tr th:only-of-type {\n",
       "        vertical-align: middle;\n",
       "    }\n",
       "\n",
       "    .dataframe tbody tr th {\n",
       "        vertical-align: top;\n",
       "    }\n",
       "\n",
       "    .dataframe thead th {\n",
       "        text-align: right;\n",
       "    }\n",
       "</style>\n",
       "<table border=\"1\" class=\"dataframe\">\n",
       "  <thead>\n",
       "    <tr style=\"text-align: right;\">\n",
       "      <th></th>\n",
       "      <th>lcavol</th>\n",
       "      <th>lweight</th>\n",
       "      <th>age</th>\n",
       "      <th>lbph</th>\n",
       "      <th>svi</th>\n",
       "      <th>lcp</th>\n",
       "      <th>gleason</th>\n",
       "      <th>pgg45</th>\n",
       "      <th>lpsa</th>\n",
       "      <th>train</th>\n",
       "    </tr>\n",
       "  </thead>\n",
       "  <tbody>\n",
       "    <tr>\n",
       "      <th>1</th>\n",
       "      <td>-0.579818</td>\n",
       "      <td>2.769459</td>\n",
       "      <td>50</td>\n",
       "      <td>-1.386294</td>\n",
       "      <td>0</td>\n",
       "      <td>-1.386294</td>\n",
       "      <td>6</td>\n",
       "      <td>0</td>\n",
       "      <td>-0.430783</td>\n",
       "      <td>T</td>\n",
       "    </tr>\n",
       "    <tr>\n",
       "      <th>2</th>\n",
       "      <td>-0.994252</td>\n",
       "      <td>3.319626</td>\n",
       "      <td>58</td>\n",
       "      <td>-1.386294</td>\n",
       "      <td>0</td>\n",
       "      <td>-1.386294</td>\n",
       "      <td>6</td>\n",
       "      <td>0</td>\n",
       "      <td>-0.162519</td>\n",
       "      <td>T</td>\n",
       "    </tr>\n",
       "    <tr>\n",
       "      <th>3</th>\n",
       "      <td>-0.510826</td>\n",
       "      <td>2.691243</td>\n",
       "      <td>74</td>\n",
       "      <td>-1.386294</td>\n",
       "      <td>0</td>\n",
       "      <td>-1.386294</td>\n",
       "      <td>7</td>\n",
       "      <td>20</td>\n",
       "      <td>-0.162519</td>\n",
       "      <td>T</td>\n",
       "    </tr>\n",
       "    <tr>\n",
       "      <th>4</th>\n",
       "      <td>-1.203973</td>\n",
       "      <td>3.282789</td>\n",
       "      <td>58</td>\n",
       "      <td>-1.386294</td>\n",
       "      <td>0</td>\n",
       "      <td>-1.386294</td>\n",
       "      <td>6</td>\n",
       "      <td>0</td>\n",
       "      <td>-0.162519</td>\n",
       "      <td>T</td>\n",
       "    </tr>\n",
       "    <tr>\n",
       "      <th>5</th>\n",
       "      <td>0.751416</td>\n",
       "      <td>3.432373</td>\n",
       "      <td>62</td>\n",
       "      <td>-1.386294</td>\n",
       "      <td>0</td>\n",
       "      <td>-1.386294</td>\n",
       "      <td>6</td>\n",
       "      <td>0</td>\n",
       "      <td>0.371564</td>\n",
       "      <td>T</td>\n",
       "    </tr>\n",
       "  </tbody>\n",
       "</table>\n",
       "</div>"
      ],
      "text/plain": [
       "     lcavol   lweight  age      lbph  svi       lcp  gleason  pgg45      lpsa  \\\n",
       "1 -0.579818  2.769459   50 -1.386294    0 -1.386294        6      0 -0.430783   \n",
       "2 -0.994252  3.319626   58 -1.386294    0 -1.386294        6      0 -0.162519   \n",
       "3 -0.510826  2.691243   74 -1.386294    0 -1.386294        7     20 -0.162519   \n",
       "4 -1.203973  3.282789   58 -1.386294    0 -1.386294        6      0 -0.162519   \n",
       "5  0.751416  3.432373   62 -1.386294    0 -1.386294        6      0  0.371564   \n",
       "\n",
       "  train  \n",
       "1     T  \n",
       "2     T  \n",
       "3     T  \n",
       "4     T  \n",
       "5     T  "
      ]
     },
     "execution_count": 30,
     "metadata": {},
     "output_type": "execute_result"
    }
   ],
   "source": [
    "# YOUR CODE HERE\n",
    "pc.head()"
   ]
  },
  {
   "attachments": {},
   "cell_type": "markdown",
   "metadata": {
    "deletable": false,
    "editable": false,
    "nbgrader": {
     "cell_type": "markdown",
     "checksum": "7339c24a2ab8666c9d720db6fdd07bb2",
     "grade": false,
     "grade_id": "cell-dfc617de98a26c2a",
     "locked": true,
     "schema_version": 3,
     "solution": false,
     "task": false
    }
   },
   "source": [
    "As you can see, there is a column named **train**, which is either `\"T\"` (True) or `\"F\"` (False).\n",
    "This means that the data has already been split up into a training and a test set, which we will use in some minutes."
   ]
  },
  {
   "attachments": {},
   "cell_type": "markdown",
   "metadata": {
    "deletable": false,
    "editable": false,
    "nbgrader": {
     "cell_type": "markdown",
     "checksum": "8ea3470c1b007e40141709210d10c944",
     "grade": false,
     "grade_id": "cell-1bc39fbcd62ea9c3",
     "locked": true,
     "schema_version": 3,
     "solution": false,
     "task": false
    }
   },
   "source": [
    "**Task**: You should also take a look at the correlation matrix using the method `corr`.\n",
    "What do you observe, especially concerning the correlation between the features? It might help to colorize the visualization of the correlation matrix using the method `style.background_gradient` of `pandas.DataFrame`s."
   ]
  },
  {
   "cell_type": "code",
   "execution_count": 31,
   "metadata": {
    "deletable": false,
    "nbgrader": {
     "cell_type": "code",
     "checksum": "6a47c290b31734f9f28ea1099f25d594",
     "grade": true,
     "grade_id": "cell-b48f0eca1685a99e",
     "locked": false,
     "points": 1,
     "schema_version": 3,
     "solution": true,
     "task": false
    }
   },
   "outputs": [
    {
     "data": {
      "text/html": [
       "<style type=\"text/css\">\n",
       "#T_600ee_row0_col0, #T_600ee_row1_col1, #T_600ee_row2_col2, #T_600ee_row3_col3, #T_600ee_row4_col4, #T_600ee_row5_col5, #T_600ee_row6_col6, #T_600ee_row7_col7, #T_600ee_row8_col8 {\n",
       "  background-color: #08306b;\n",
       "  color: #f1f1f1;\n",
       "}\n",
       "#T_600ee_row0_col1 {\n",
       "  background-color: #c9ddf0;\n",
       "  color: #000000;\n",
       "}\n",
       "#T_600ee_row0_col2 {\n",
       "  background-color: #dfebf7;\n",
       "  color: #000000;\n",
       "}\n",
       "#T_600ee_row0_col3, #T_600ee_row4_col1 {\n",
       "  background-color: #e3eef8;\n",
       "  color: #000000;\n",
       "}\n",
       "#T_600ee_row0_col4 {\n",
       "  background-color: #529dcc;\n",
       "  color: #f1f1f1;\n",
       "}\n",
       "#T_600ee_row0_col5 {\n",
       "  background-color: #3484bf;\n",
       "  color: #f1f1f1;\n",
       "}\n",
       "#T_600ee_row0_col6 {\n",
       "  background-color: #95c5df;\n",
       "  color: #000000;\n",
       "}\n",
       "#T_600ee_row0_col7 {\n",
       "  background-color: #9ac8e0;\n",
       "  color: #000000;\n",
       "}\n",
       "#T_600ee_row0_col8 {\n",
       "  background-color: #3383be;\n",
       "  color: #f1f1f1;\n",
       "}\n",
       "#T_600ee_row1_col0, #T_600ee_row1_col2 {\n",
       "  background-color: #c3daee;\n",
       "  color: #000000;\n",
       "}\n",
       "#T_600ee_row1_col3, #T_600ee_row5_col6 {\n",
       "  background-color: #71b1d7;\n",
       "  color: #f1f1f1;\n",
       "}\n",
       "#T_600ee_row1_col4 {\n",
       "  background-color: #ccdff1;\n",
       "  color: #000000;\n",
       "}\n",
       "#T_600ee_row1_col5, #T_600ee_row6_col2 {\n",
       "  background-color: #d6e5f4;\n",
       "  color: #000000;\n",
       "}\n",
       "#T_600ee_row1_col6, #T_600ee_row2_col8, #T_600ee_row3_col0, #T_600ee_row3_col4, #T_600ee_row3_col5, #T_600ee_row3_col7, #T_600ee_row4_col2, #T_600ee_row4_col3, #T_600ee_row6_col1 {\n",
       "  background-color: #f7fbff;\n",
       "  color: #000000;\n",
       "}\n",
       "#T_600ee_row1_col7 {\n",
       "  background-color: #f1f7fd;\n",
       "  color: #000000;\n",
       "}\n",
       "#T_600ee_row1_col8 {\n",
       "  background-color: #b0d2e7;\n",
       "  color: #000000;\n",
       "}\n",
       "#T_600ee_row2_col0 {\n",
       "  background-color: #cfe1f2;\n",
       "  color: #000000;\n",
       "}\n",
       "#T_600ee_row2_col1 {\n",
       "  background-color: #b3d3e8;\n",
       "  color: #000000;\n",
       "}\n",
       "#T_600ee_row2_col3, #T_600ee_row8_col1 {\n",
       "  background-color: #94c4df;\n",
       "  color: #000000;\n",
       "}\n",
       "#T_600ee_row2_col4 {\n",
       "  background-color: #d3e3f3;\n",
       "  color: #000000;\n",
       "}\n",
       "#T_600ee_row2_col5 {\n",
       "  background-color: #dceaf6;\n",
       "  color: #000000;\n",
       "}\n",
       "#T_600ee_row2_col6 {\n",
       "  background-color: #cbdef1;\n",
       "  color: #000000;\n",
       "}\n",
       "#T_600ee_row2_col7 {\n",
       "  background-color: #cde0f1;\n",
       "  color: #000000;\n",
       "}\n",
       "#T_600ee_row3_col1 {\n",
       "  background-color: #91c3de;\n",
       "  color: #000000;\n",
       "}\n",
       "#T_600ee_row3_col2 {\n",
       "  background-color: #c2d9ee;\n",
       "  color: #000000;\n",
       "}\n",
       "#T_600ee_row3_col6 {\n",
       "  background-color: #f3f8fe;\n",
       "  color: #000000;\n",
       "}\n",
       "#T_600ee_row3_col8 {\n",
       "  background-color: #f5f9fe;\n",
       "  color: #000000;\n",
       "}\n",
       "#T_600ee_row4_col0 {\n",
       "  background-color: #63a8d3;\n",
       "  color: #f1f1f1;\n",
       "}\n",
       "#T_600ee_row4_col5 {\n",
       "  background-color: #3585bf;\n",
       "  color: #f1f1f1;\n",
       "}\n",
       "#T_600ee_row4_col6 {\n",
       "  background-color: #bdd7ec;\n",
       "  color: #000000;\n",
       "}\n",
       "#T_600ee_row4_col7 {\n",
       "  background-color: #8fc2de;\n",
       "  color: #000000;\n",
       "}\n",
       "#T_600ee_row4_col8 {\n",
       "  background-color: #74b3d8;\n",
       "  color: #000000;\n",
       "}\n",
       "#T_600ee_row5_col0 {\n",
       "  background-color: #3787c0;\n",
       "  color: #f1f1f1;\n",
       "}\n",
       "#T_600ee_row5_col1 {\n",
       "  background-color: #e0ecf8;\n",
       "  color: #000000;\n",
       "}\n",
       "#T_600ee_row5_col2 {\n",
       "  background-color: #f5fafe;\n",
       "  color: #000000;\n",
       "}\n",
       "#T_600ee_row5_col3 {\n",
       "  background-color: #e9f2fa;\n",
       "  color: #000000;\n",
       "}\n",
       "#T_600ee_row5_col4 {\n",
       "  background-color: #2f7fbc;\n",
       "  color: #f1f1f1;\n",
       "}\n",
       "#T_600ee_row5_col7, #T_600ee_row8_col4 {\n",
       "  background-color: #4a98c9;\n",
       "  color: #f1f1f1;\n",
       "}\n",
       "#T_600ee_row5_col8 {\n",
       "  background-color: #7db8da;\n",
       "  color: #000000;\n",
       "}\n",
       "#T_600ee_row6_col0, #T_600ee_row7_col0 {\n",
       "  background-color: #8dc1dd;\n",
       "  color: #000000;\n",
       "}\n",
       "#T_600ee_row6_col3, #T_600ee_row7_col3 {\n",
       "  background-color: #d9e8f5;\n",
       "  color: #000000;\n",
       "}\n",
       "#T_600ee_row6_col4, #T_600ee_row8_col7 {\n",
       "  background-color: #9fcae1;\n",
       "  color: #000000;\n",
       "}\n",
       "#T_600ee_row6_col5 {\n",
       "  background-color: #65aad4;\n",
       "  color: #f1f1f1;\n",
       "}\n",
       "#T_600ee_row6_col7 {\n",
       "  background-color: #2575b7;\n",
       "  color: #f1f1f1;\n",
       "}\n",
       "#T_600ee_row6_col8 {\n",
       "  background-color: #c8dcf0;\n",
       "  color: #000000;\n",
       "}\n",
       "#T_600ee_row7_col1 {\n",
       "  background-color: #edf4fc;\n",
       "  color: #000000;\n",
       "}\n",
       "#T_600ee_row7_col2 {\n",
       "  background-color: #d4e4f4;\n",
       "  color: #000000;\n",
       "}\n",
       "#T_600ee_row7_col4 {\n",
       "  background-color: #6aaed6;\n",
       "  color: #f1f1f1;\n",
       "}\n",
       "#T_600ee_row7_col5 {\n",
       "  background-color: #3f8fc5;\n",
       "  color: #f1f1f1;\n",
       "}\n",
       "#T_600ee_row7_col6 {\n",
       "  background-color: #2474b7;\n",
       "  color: #f1f1f1;\n",
       "}\n",
       "#T_600ee_row7_col8 {\n",
       "  background-color: #b5d4e9;\n",
       "  color: #000000;\n",
       "}\n",
       "#T_600ee_row8_col0 {\n",
       "  background-color: #2676b8;\n",
       "  color: #f1f1f1;\n",
       "}\n",
       "#T_600ee_row8_col2 {\n",
       "  background-color: #ebf3fb;\n",
       "  color: #000000;\n",
       "}\n",
       "#T_600ee_row8_col3 {\n",
       "  background-color: #c7dcef;\n",
       "  color: #000000;\n",
       "}\n",
       "#T_600ee_row8_col5 {\n",
       "  background-color: #5aa2cf;\n",
       "  color: #f1f1f1;\n",
       "}\n",
       "#T_600ee_row8_col6 {\n",
       "  background-color: #add0e6;\n",
       "  color: #000000;\n",
       "}\n",
       "</style>\n",
       "<table id=\"T_600ee\">\n",
       "  <thead>\n",
       "    <tr>\n",
       "      <th class=\"blank level0\" >&nbsp;</th>\n",
       "      <th id=\"T_600ee_level0_col0\" class=\"col_heading level0 col0\" >lcavol</th>\n",
       "      <th id=\"T_600ee_level0_col1\" class=\"col_heading level0 col1\" >lweight</th>\n",
       "      <th id=\"T_600ee_level0_col2\" class=\"col_heading level0 col2\" >age</th>\n",
       "      <th id=\"T_600ee_level0_col3\" class=\"col_heading level0 col3\" >lbph</th>\n",
       "      <th id=\"T_600ee_level0_col4\" class=\"col_heading level0 col4\" >svi</th>\n",
       "      <th id=\"T_600ee_level0_col5\" class=\"col_heading level0 col5\" >lcp</th>\n",
       "      <th id=\"T_600ee_level0_col6\" class=\"col_heading level0 col6\" >gleason</th>\n",
       "      <th id=\"T_600ee_level0_col7\" class=\"col_heading level0 col7\" >pgg45</th>\n",
       "      <th id=\"T_600ee_level0_col8\" class=\"col_heading level0 col8\" >lpsa</th>\n",
       "    </tr>\n",
       "  </thead>\n",
       "  <tbody>\n",
       "    <tr>\n",
       "      <th id=\"T_600ee_level0_row0\" class=\"row_heading level0 row0\" >lcavol</th>\n",
       "      <td id=\"T_600ee_row0_col0\" class=\"data row0 col0\" >1.000000</td>\n",
       "      <td id=\"T_600ee_row0_col1\" class=\"data row0 col1\" >0.280521</td>\n",
       "      <td id=\"T_600ee_row0_col2\" class=\"data row0 col2\" >0.225000</td>\n",
       "      <td id=\"T_600ee_row0_col3\" class=\"data row0 col3\" >0.027350</td>\n",
       "      <td id=\"T_600ee_row0_col4\" class=\"data row0 col4\" >0.538845</td>\n",
       "      <td id=\"T_600ee_row0_col5\" class=\"data row0 col5\" >0.675310</td>\n",
       "      <td id=\"T_600ee_row0_col6\" class=\"data row0 col6\" >0.432417</td>\n",
       "      <td id=\"T_600ee_row0_col7\" class=\"data row0 col7\" >0.433652</td>\n",
       "      <td id=\"T_600ee_row0_col8\" class=\"data row0 col8\" >0.734460</td>\n",
       "    </tr>\n",
       "    <tr>\n",
       "      <th id=\"T_600ee_level0_row1\" class=\"row_heading level0 row1\" >lweight</th>\n",
       "      <td id=\"T_600ee_row1_col0\" class=\"data row1 col0\" >0.280521</td>\n",
       "      <td id=\"T_600ee_row1_col1\" class=\"data row1 col1\" >1.000000</td>\n",
       "      <td id=\"T_600ee_row1_col2\" class=\"data row1 col2\" >0.347969</td>\n",
       "      <td id=\"T_600ee_row1_col3\" class=\"data row1 col3\" >0.442264</td>\n",
       "      <td id=\"T_600ee_row1_col4\" class=\"data row1 col4\" >0.155385</td>\n",
       "      <td id=\"T_600ee_row1_col5\" class=\"data row1 col5\" >0.164537</td>\n",
       "      <td id=\"T_600ee_row1_col6\" class=\"data row1 col6\" >0.056882</td>\n",
       "      <td id=\"T_600ee_row1_col7\" class=\"data row1 col7\" >0.107354</td>\n",
       "      <td id=\"T_600ee_row1_col8\" class=\"data row1 col8\" >0.433319</td>\n",
       "    </tr>\n",
       "    <tr>\n",
       "      <th id=\"T_600ee_level0_row2\" class=\"row_heading level0 row2\" >age</th>\n",
       "      <td id=\"T_600ee_row2_col0\" class=\"data row2 col0\" >0.225000</td>\n",
       "      <td id=\"T_600ee_row2_col1\" class=\"data row2 col1\" >0.347969</td>\n",
       "      <td id=\"T_600ee_row2_col2\" class=\"data row2 col2\" >1.000000</td>\n",
       "      <td id=\"T_600ee_row2_col3\" class=\"data row2 col3\" >0.350186</td>\n",
       "      <td id=\"T_600ee_row2_col4\" class=\"data row2 col4\" >0.117658</td>\n",
       "      <td id=\"T_600ee_row2_col5\" class=\"data row2 col5\" >0.127668</td>\n",
       "      <td id=\"T_600ee_row2_col6\" class=\"data row2 col6\" >0.268892</td>\n",
       "      <td id=\"T_600ee_row2_col7\" class=\"data row2 col7\" >0.276112</td>\n",
       "      <td id=\"T_600ee_row2_col8\" class=\"data row2 col8\" >0.169593</td>\n",
       "    </tr>\n",
       "    <tr>\n",
       "      <th id=\"T_600ee_level0_row3\" class=\"row_heading level0 row3\" >lbph</th>\n",
       "      <td id=\"T_600ee_row3_col0\" class=\"data row3 col0\" >0.027350</td>\n",
       "      <td id=\"T_600ee_row3_col1\" class=\"data row3 col1\" >0.442264</td>\n",
       "      <td id=\"T_600ee_row3_col2\" class=\"data row3 col2\" >0.350186</td>\n",
       "      <td id=\"T_600ee_row3_col3\" class=\"data row3 col3\" >1.000000</td>\n",
       "      <td id=\"T_600ee_row3_col4\" class=\"data row3 col4\" >-0.085843</td>\n",
       "      <td id=\"T_600ee_row3_col5\" class=\"data row3 col5\" >-0.006999</td>\n",
       "      <td id=\"T_600ee_row3_col6\" class=\"data row3 col6\" >0.077820</td>\n",
       "      <td id=\"T_600ee_row3_col7\" class=\"data row3 col7\" >0.078460</td>\n",
       "      <td id=\"T_600ee_row3_col8\" class=\"data row3 col8\" >0.179809</td>\n",
       "    </tr>\n",
       "    <tr>\n",
       "      <th id=\"T_600ee_level0_row4\" class=\"row_heading level0 row4\" >svi</th>\n",
       "      <td id=\"T_600ee_row4_col0\" class=\"data row4 col0\" >0.538845</td>\n",
       "      <td id=\"T_600ee_row4_col1\" class=\"data row4 col1\" >0.155385</td>\n",
       "      <td id=\"T_600ee_row4_col2\" class=\"data row4 col2\" >0.117658</td>\n",
       "      <td id=\"T_600ee_row4_col3\" class=\"data row4 col3\" >-0.085843</td>\n",
       "      <td id=\"T_600ee_row4_col4\" class=\"data row4 col4\" >1.000000</td>\n",
       "      <td id=\"T_600ee_row4_col5\" class=\"data row4 col5\" >0.673111</td>\n",
       "      <td id=\"T_600ee_row4_col6\" class=\"data row4 col6\" >0.320412</td>\n",
       "      <td id=\"T_600ee_row4_col7\" class=\"data row4 col7\" >0.457648</td>\n",
       "      <td id=\"T_600ee_row4_col8\" class=\"data row4 col8\" >0.566218</td>\n",
       "    </tr>\n",
       "    <tr>\n",
       "      <th id=\"T_600ee_level0_row5\" class=\"row_heading level0 row5\" >lcp</th>\n",
       "      <td id=\"T_600ee_row5_col0\" class=\"data row5 col0\" >0.675310</td>\n",
       "      <td id=\"T_600ee_row5_col1\" class=\"data row5 col1\" >0.164537</td>\n",
       "      <td id=\"T_600ee_row5_col2\" class=\"data row5 col2\" >0.127668</td>\n",
       "      <td id=\"T_600ee_row5_col3\" class=\"data row5 col3\" >-0.006999</td>\n",
       "      <td id=\"T_600ee_row5_col4\" class=\"data row5 col4\" >0.673111</td>\n",
       "      <td id=\"T_600ee_row5_col5\" class=\"data row5 col5\" >1.000000</td>\n",
       "      <td id=\"T_600ee_row5_col6\" class=\"data row5 col6\" >0.514830</td>\n",
       "      <td id=\"T_600ee_row5_col7\" class=\"data row5 col7\" >0.631528</td>\n",
       "      <td id=\"T_600ee_row5_col8\" class=\"data row5 col8\" >0.548813</td>\n",
       "    </tr>\n",
       "    <tr>\n",
       "      <th id=\"T_600ee_level0_row6\" class=\"row_heading level0 row6\" >gleason</th>\n",
       "      <td id=\"T_600ee_row6_col0\" class=\"data row6 col0\" >0.432417</td>\n",
       "      <td id=\"T_600ee_row6_col1\" class=\"data row6 col1\" >0.056882</td>\n",
       "      <td id=\"T_600ee_row6_col2\" class=\"data row6 col2\" >0.268892</td>\n",
       "      <td id=\"T_600ee_row6_col3\" class=\"data row6 col3\" >0.077820</td>\n",
       "      <td id=\"T_600ee_row6_col4\" class=\"data row6 col4\" >0.320412</td>\n",
       "      <td id=\"T_600ee_row6_col5\" class=\"data row6 col5\" >0.514830</td>\n",
       "      <td id=\"T_600ee_row6_col6\" class=\"data row6 col6\" >1.000000</td>\n",
       "      <td id=\"T_600ee_row6_col7\" class=\"data row6 col7\" >0.751905</td>\n",
       "      <td id=\"T_600ee_row6_col8\" class=\"data row6 col8\" >0.368987</td>\n",
       "    </tr>\n",
       "    <tr>\n",
       "      <th id=\"T_600ee_level0_row7\" class=\"row_heading level0 row7\" >pgg45</th>\n",
       "      <td id=\"T_600ee_row7_col0\" class=\"data row7 col0\" >0.433652</td>\n",
       "      <td id=\"T_600ee_row7_col1\" class=\"data row7 col1\" >0.107354</td>\n",
       "      <td id=\"T_600ee_row7_col2\" class=\"data row7 col2\" >0.276112</td>\n",
       "      <td id=\"T_600ee_row7_col3\" class=\"data row7 col3\" >0.078460</td>\n",
       "      <td id=\"T_600ee_row7_col4\" class=\"data row7 col4\" >0.457648</td>\n",
       "      <td id=\"T_600ee_row7_col5\" class=\"data row7 col5\" >0.631528</td>\n",
       "      <td id=\"T_600ee_row7_col6\" class=\"data row7 col6\" >0.751905</td>\n",
       "      <td id=\"T_600ee_row7_col7\" class=\"data row7 col7\" >1.000000</td>\n",
       "      <td id=\"T_600ee_row7_col8\" class=\"data row7 col8\" >0.422316</td>\n",
       "    </tr>\n",
       "    <tr>\n",
       "      <th id=\"T_600ee_level0_row8\" class=\"row_heading level0 row8\" >lpsa</th>\n",
       "      <td id=\"T_600ee_row8_col0\" class=\"data row8 col0\" >0.734460</td>\n",
       "      <td id=\"T_600ee_row8_col1\" class=\"data row8 col1\" >0.433319</td>\n",
       "      <td id=\"T_600ee_row8_col2\" class=\"data row8 col2\" >0.169593</td>\n",
       "      <td id=\"T_600ee_row8_col3\" class=\"data row8 col3\" >0.179809</td>\n",
       "      <td id=\"T_600ee_row8_col4\" class=\"data row8 col4\" >0.566218</td>\n",
       "      <td id=\"T_600ee_row8_col5\" class=\"data row8 col5\" >0.548813</td>\n",
       "      <td id=\"T_600ee_row8_col6\" class=\"data row8 col6\" >0.368987</td>\n",
       "      <td id=\"T_600ee_row8_col7\" class=\"data row8 col7\" >0.422316</td>\n",
       "      <td id=\"T_600ee_row8_col8\" class=\"data row8 col8\" >1.000000</td>\n",
       "    </tr>\n",
       "  </tbody>\n",
       "</table>\n"
      ],
      "text/plain": [
       "<pandas.io.formats.style.Styler at 0x1fa6e30a350>"
      ]
     },
     "execution_count": 31,
     "metadata": {},
     "output_type": "execute_result"
    }
   ],
   "source": [
    "# YOUR CODE HERE\n",
    "pc_corr = pc.drop(columns=[\"train\"]).corr()\n",
    "pc_corr.style.background_gradient(cmap='Blues')"
   ]
  },
  {
   "attachments": {},
   "cell_type": "markdown",
   "metadata": {
    "deletable": false,
    "editable": false,
    "nbgrader": {
     "cell_type": "markdown",
     "checksum": "643823d9654bbe82794c6a3d1b9c6949",
     "grade": false,
     "grade_id": "cell-10742305a16beda7",
     "locked": true,
     "schema_version": 3,
     "solution": false,
     "task": false
    }
   },
   "source": [
    "You should observe that there are many predictor variables that have a high correlation.\n",
    "High correlation is always an *indicator* of multiple features having similar effects on the independent variable."
   ]
  },
  {
   "attachments": {},
   "cell_type": "markdown",
   "metadata": {
    "deletable": false,
    "editable": false,
    "nbgrader": {
     "cell_type": "markdown",
     "checksum": "b1ad82d6d6127a178a72ec19f1b64432",
     "grade": false,
     "grade_id": "cell-8a405ebfdf734fd5",
     "locked": true,
     "schema_version": 3,
     "solution": false,
     "task": false
    }
   },
   "source": [
    "From now on, we concentrate on the numerical values of the data set:\n",
    "- extract the predictors of the dataset as a `numpy.array` $X$\n",
    "- extract the column **lspa** as a `numpy.array` $y$"
   ]
  },
  {
   "cell_type": "code",
   "execution_count": 32,
   "metadata": {
    "deletable": false,
    "nbgrader": {
     "cell_type": "code",
     "checksum": "ea6e3a26b10426febb61144dc79bb4b2",
     "grade": false,
     "grade_id": "cell-75db3b8e79b3c7b3",
     "locked": false,
     "schema_version": 3,
     "solution": true,
     "task": false
    }
   },
   "outputs": [],
   "source": [
    "# YOUR CODE HERE\n",
    "predictors = [\"lcavol\", \"lweight\", \"age\", \"lbph\", \"svi\", \"lcp\", \"gleason\", \"pgg45\"]\n",
    "X = pc[predictors].to_numpy()\n",
    "y = pc[\"lpsa\"].to_numpy()"
   ]
  },
  {
   "cell_type": "code",
   "execution_count": 33,
   "metadata": {
    "deletable": false,
    "editable": false,
    "nbgrader": {
     "cell_type": "code",
     "checksum": "c5b42d1799366434e1da4dd25ba29e0e",
     "grade": true,
     "grade_id": "cell-7c379d1604861a94",
     "locked": true,
     "points": 1,
     "schema_version": 3,
     "solution": false,
     "task": false
    }
   },
   "outputs": [],
   "source": [
    "assert X.shape == (97,8)\n",
    "assert y.shape == (97,)\n",
    "\n",
    "# This cell contains further tests, don't remove!"
   ]
  },
  {
   "attachments": {},
   "cell_type": "markdown",
   "metadata": {
    "deletable": false,
    "editable": false,
    "nbgrader": {
     "cell_type": "markdown",
     "checksum": "9f519005cdfbdefaa8818a7376652183",
     "grade": false,
     "grade_id": "cell-da34f8777fc4dada",
     "locked": true,
     "schema_version": 3,
     "solution": false,
     "task": false
    }
   },
   "source": [
    "Before we further analyze our data, we want to normalize the predictor variables.\n",
    "This technique is often necessary when comparing different kinds of inputs.\n",
    "\n",
    "Here, we want to normalize the **predictor variables** such that the *normalized predictor variables* have mean $0$ and variance $1$.\n",
    "\n",
    "**Caution**: There are a lot of functions that sound like they're doing the right thing, but there are a lot more ways to normalize a data set, e.g. $l^2$-normalization etc."
   ]
  },
  {
   "attachments": {},
   "cell_type": "markdown",
   "metadata": {
    "deletable": false,
    "editable": false,
    "nbgrader": {
     "cell_type": "markdown",
     "checksum": "5fec04be2522f651a649c07a3ccd163a",
     "grade": false,
     "grade_id": "cell-59f260869b31429f",
     "locked": true,
     "schema_version": 3,
     "solution": false,
     "task": false
    }
   },
   "source": [
    "**Task**: Normalize the predictor variables, you can use the function `scale` from `scikit-learn`:\n",
    "\n",
    "    from sklearn.preprocessing import scale\n",
    "\n",
    "You should name the normalized variable `Xnorm`, otherwise the following code might not work.\n",
    "Print the mean value of each predictor as well as the varianze and make sure that they are zero and one, resp.\n",
    "You can use the function `np.array2string` to apply formatting options to each entry of a `numpy.array` and beautify and improve the readability of a printed array."
   ]
  },
  {
   "cell_type": "code",
   "execution_count": 34,
   "metadata": {
    "deletable": false,
    "nbgrader": {
     "cell_type": "code",
     "checksum": "dca6eec6fd56c56ec108664baab8582d",
     "grade": false,
     "grade_id": "cell-06c9aa04d05180bc",
     "locked": false,
     "schema_version": 3,
     "solution": true,
     "task": false
    }
   },
   "outputs": [
    {
     "name": "stdout",
     "output_type": "stream",
     "text": [
      "Means of normalized predictors: 0.0000\n",
      "Variances of normalized predictors: 1.\n"
     ]
    }
   ],
   "source": [
    "# YOUR CODE HERE\n",
    "from sklearn.preprocessing import scale\n",
    "Xnorm = scale(X)\n",
    "mean = np.array2string(Xnorm.mean(), formatter={'float_kind': lambda x: f\"{0 if abs(x) < 1e-10 else x:.4f}\"})\n",
    "variance = np.array2string(Xnorm.var())\n",
    "\n",
    "print(\"Means of normalized predictors:\", mean)\n",
    "print(\"Variances of normalized predictors:\", variance)"
   ]
  },
  {
   "cell_type": "code",
   "execution_count": 35,
   "metadata": {
    "deletable": false,
    "editable": false,
    "nbgrader": {
     "cell_type": "code",
     "checksum": "26cfe881454e6f0ed3a8cdfeb401c909",
     "grade": true,
     "grade_id": "cell-f05591af5072d7d6",
     "locked": true,
     "points": 1,
     "schema_version": 3,
     "solution": false,
     "task": false
    }
   },
   "outputs": [],
   "source": [
    "assert max(abs(Xnorm.mean(axis=0))) < 1e-10\n",
    "assert max(abs(Xnorm.var(axis=0)-1)) < 1e-10"
   ]
  },
  {
   "attachments": {},
   "cell_type": "markdown",
   "metadata": {
    "deletable": false,
    "editable": false,
    "nbgrader": {
     "cell_type": "markdown",
     "checksum": "aa30b81a16f201ec07fb5450e0e331c1",
     "grade": false,
     "grade_id": "cell-be8c7d7eef70202a",
     "locked": true,
     "schema_version": 3,
     "solution": false,
     "task": false
    }
   },
   "source": [
    "The next step is to divide the data set into a training and a test data set.\n",
    "Here, the assignment of training and test data has already been done.\n",
    "You can extract the column **train** by\n",
    "\n",
    "    is_train = (pc[\"train\"] == \"T\")\n",
    "    \n",
    "which is simply a `pandas.Series` object containing the values `True` and `False`.\n",
    "This object contains boolean values, i.e., `True` and `False` values.\n",
    "We can use this *filter* to get our training data by\n",
    "\n",
    "    Xtrain = Xnorm[is_train, :]\n",
    "    \n",
    "The same indexing can be applied to $y$.\n",
    "\n",
    "**Task**: Devide the dataset into training and test samples and save them under `Xtrain`, `ytrain`, `Xtest`, `ytest`."
   ]
  },
  {
   "cell_type": "code",
   "execution_count": 36,
   "metadata": {
    "deletable": false,
    "nbgrader": {
     "cell_type": "code",
     "checksum": "500edd9201a8addff12b22c2efe4190d",
     "grade": false,
     "grade_id": "cell-4d64145820558ddc",
     "locked": false,
     "schema_version": 3,
     "solution": true,
     "task": false
    }
   },
   "outputs": [],
   "source": [
    "# YOUR CODE HERE\n",
    "is_train = (pc[\"train\"] == \"T\")\n",
    "Xtrain = Xnorm[is_train, :]\n",
    "ytrain = y[is_train]        \n",
    "\n",
    "Xtest = Xnorm[~is_train, :]  \n",
    "ytest = y[~is_train]         "
   ]
  },
  {
   "cell_type": "code",
   "execution_count": 37,
   "metadata": {
    "deletable": false,
    "editable": false,
    "nbgrader": {
     "cell_type": "code",
     "checksum": "deea330bd5e15af54c3e117d67c464ce",
     "grade": true,
     "grade_id": "cell-93a67a49cfd901ea",
     "locked": true,
     "points": 1,
     "schema_version": 3,
     "solution": false,
     "task": false
    }
   },
   "outputs": [],
   "source": [
    "assert Xtrain.shape == (67,8)\n",
    "assert ytrain.shape == (67,)\n",
    "\n",
    "# This cell contains further tests, don't remove!"
   ]
  },
  {
   "attachments": {},
   "cell_type": "markdown",
   "metadata": {
    "deletable": false,
    "editable": false,
    "nbgrader": {
     "cell_type": "markdown",
     "checksum": "4add150f8512b6c2cc38967959cc66d4",
     "grade": false,
     "grade_id": "cell-ed8ef2a6c514abb7",
     "locked": true,
     "schema_version": 3,
     "solution": false,
     "task": false
    }
   },
   "source": [
    "Now, we want to fit a linear regression model on our **training set** using all of the predictor variables.\n",
    "In the last tutorials, we have employed `numpy`s class `numpy.polynomial.polynomial.Polynomial`.\n",
    "Here, you should use the following class:\n",
    "\n",
    "    from sklearn.linear_model import LinearRegression\n",
    "    \n",
    "Have a look at its documentation and fit the model.\n",
    "Store the trained intercept in the variable `intercept` as well as the regression coefficients (as a list) in the variable `coeffs`."
   ]
  },
  {
   "cell_type": "code",
   "execution_count": 38,
   "metadata": {
    "deletable": false,
    "nbgrader": {
     "cell_type": "code",
     "checksum": "02af79b9ee93d317e51a12411e4aab3a",
     "grade": false,
     "grade_id": "cell-6d868b7aa18e75f6",
     "locked": false,
     "schema_version": 3,
     "solution": true,
     "task": false
    }
   },
   "outputs": [
    {
     "name": "stdout",
     "output_type": "stream",
     "text": [
      "Intercept: 2.4649329221237446\n",
      "Coefficients: [0.6760163443892511, 0.26169360926381857, -0.14073374423100682, 0.2090605212320933, 0.3036233224985313, -0.2870018437521441, -0.021194934506172228, 0.26557613654260215]\n"
     ]
    }
   ],
   "source": [
    "# YOUR CODE HERE\n",
    "from sklearn.linear_model import LinearRegression\n",
    "\n",
    "model = LinearRegression()\n",
    "model.fit(Xtrain, ytrain)\n",
    "\n",
    "\n",
    "intercept = model.intercept_ \n",
    "coeffs = model.coef_.tolist()  \n",
    "\n",
    "# Verify the results\n",
    "print(f\"Intercept: {intercept}\")\n",
    "print(f\"Coefficients: {coeffs}\")"
   ]
  },
  {
   "cell_type": "code",
   "execution_count": 39,
   "metadata": {
    "deletable": false,
    "editable": false,
    "nbgrader": {
     "cell_type": "code",
     "checksum": "59365f1b2a1aeb3ae0f4f8a61ac23adc",
     "grade": true,
     "grade_id": "cell-2b4ce902b975c47a",
     "locked": true,
     "points": 2,
     "schema_version": 3,
     "solution": false,
     "task": false
    }
   },
   "outputs": [],
   "source": [
    "# This cell contains further tests, don't remove!"
   ]
  },
  {
   "attachments": {},
   "cell_type": "markdown",
   "metadata": {
    "deletable": false,
    "editable": false,
    "nbgrader": {
     "cell_type": "markdown",
     "checksum": "c7e69fc53152e27e5d98a6e0babb9d31",
     "grade": false,
     "grade_id": "cell-2c0bb12f770fc1b6",
     "locked": true,
     "schema_version": 3,
     "solution": false,
     "task": false
    }
   },
   "source": [
    "Download the file `multipleTTest.py` which contains basically the function that we used in problem sheet 04.\n",
    "After downloading the file and moving it into the current directory, you can import it using\n",
    "    \n",
    "    from multipleTTest import multipleTTest\n",
    "\n",
    "This function enhances the capability of our previous method `computeTStatistic` slightly:\n",
    "* You may now also provide a `labels` object that contains the names of the predictor variables and modifies only the output table. You can get the labels of a `pandas.DataFrame` by\n",
    "    \n",
    "        labels = pc.keys()\n",
    "     \n",
    "* Additionally, the function `multipleTTest` returns the residual sum of squares of the linear regression fit. \n",
    "* You may set the optional input variable `includeIntercept` to `True`. This appends the intercept in the estimate, and you do not have to put a column containing ones by yourself.\n",
    "\n",
    "**Task**: Execute the function for the normalized training data set. Store the RSS value as `RSS1`. Store also the number of variables in this model as `p1` (count the intercept as one variable!).\n",
    "How many variables are not significant at a threshold of 5 %?\n",
    "Store your answer in the variable `notSign1`."
   ]
  },
  {
   "cell_type": "code",
   "execution_count": 45,
   "metadata": {
    "deletable": false,
    "nbgrader": {
     "cell_type": "code",
     "checksum": "283714980220f6ecbfdbb8f86342a1c7",
     "grade": false,
     "grade_id": "cell-6ada2c15c960c6b6",
     "locked": false,
     "schema_version": 3,
     "solution": true,
     "task": false
    }
   },
   "outputs": [
    {
     "name": "stdout",
     "output_type": "stream",
     "text": [
      "|  Coefficient | Estimate |    SE    | t-statistic |  p-value  |\n",
      "---------------------------------------------------------------\n",
      "|  Intercept   |   2.465  |  0.0893  |    27.60    | < 0.0001  |\n",
      "|     lcavol   |   0.676  |  0.1260  |     5.37    | < 0.0001  |\n",
      "|    lweight   |   0.262  |  0.0951  |     2.75    |   0.0079  |\n",
      "|        age   |  -0.141  |  0.1008  |    -1.40    |   0.1681  |\n",
      "|       lbph   |   0.209  |  0.1017  |     2.06    |   0.0443  |\n",
      "|        svi   |   0.304  |  0.1230  |     2.47    |   0.0165  |\n",
      "|        lcp   |  -0.287  |  0.1537  |    -1.87    |   0.0670  |\n",
      "|    gleason   |  -0.021  |  0.1445  |    -0.15    |   0.8839  |\n",
      "|      pgg45   |   0.266  |  0.1528  |     1.74    |   0.0875  |\n",
      "Residual Sum of Squares (RSS1): 29.4263844599084\n",
      "Number of variables in the model (p1): 9\n",
      "Number of non-significant variables (notSign1): 4\n"
     ]
    }
   ],
   "source": [
    "# YOUR CODE HERE\n",
    "from multipleTTest import multipleTTest\n",
    "from scipy.stats import t\n",
    "labels = pc.keys()\n",
    "RSS1 = multipleTTest(Xtrain, ytrain, includeIntercept = True, labels=labels)\n",
    "p1 = Xtrain.shape[1]+1\n",
    "def get_p_values(X, y):\n",
    "    n, p = X.shape\n",
    "    X_with_intercept = np.hstack((np.ones((n, 1)), X))  # Add intercept\n",
    "    V = np.linalg.inv((X_with_intercept.T).dot(X_with_intercept))\n",
    "    beta = V.dot(X_with_intercept.T.dot(y))\n",
    "    y_pred = X_with_intercept.dot(beta)\n",
    "    RSS = np.sum((y - y_pred) ** 2)\n",
    "    sigma_hat = np.sqrt(RSS / (n - p - 1))\n",
    "    SE = np.sqrt(V.diagonal()) * sigma_hat\n",
    "    t_vals = beta / SE\n",
    "    p_vals = 2 * (1 - t.cdf(np.abs(t_vals), n - p - 1))\n",
    "    return p_vals\n",
    "p_values = get_p_values(Xtrain, ytrain)\n",
    "\n",
    "# Count the number of non-significant variables (p-value > 0.05)\n",
    "notSign1 = np.sum(p_values > 0.05)\n",
    "\n",
    "# Print the results\n",
    "print(f\"Residual Sum of Squares (RSS1): {RSS1}\")\n",
    "print(f\"Number of variables in the model (p1): {p1}\")\n",
    "print(f\"Number of non-significant variables (notSign1): {notSign1}\")"
   ]
  },
  {
   "cell_type": "code",
   "execution_count": 46,
   "metadata": {
    "deletable": false,
    "editable": false,
    "nbgrader": {
     "cell_type": "code",
     "checksum": "62cc56cfa87e70ea63e8e8ed7af40517",
     "grade": true,
     "grade_id": "cell-c13af06a1faa4ac4",
     "locked": true,
     "points": 2,
     "schema_version": 3,
     "solution": false,
     "task": false
    }
   },
   "outputs": [],
   "source": [
    "# This cell contains further tests, don't remove!"
   ]
  },
  {
   "attachments": {},
   "cell_type": "markdown",
   "metadata": {
    "deletable": false,
    "editable": false,
    "nbgrader": {
     "cell_type": "markdown",
     "checksum": "4251ce337774d033ca087fedd4254516",
     "grade": false,
     "grade_id": "cell-aff68d0577de7ebb",
     "locked": true,
     "schema_version": 3,
     "solution": false,
     "task": false
    }
   },
   "source": [
    "We want to compare the fit containing all predictor variables against a model containing only a subset of variables.\n",
    "The variables that we want to exclude are `age`, `lcp`, `gleason` and `pgg45`.\n",
    "\n",
    "**Task**: Use the function `multipleTTest` to perform a test using only this subset of variables.\n",
    "Store the residual sum of squares as `RSS0` and the number of variables as `p0`."
   ]
  },
  {
   "cell_type": "code",
   "execution_count": 50,
   "metadata": {
    "deletable": false,
    "nbgrader": {
     "cell_type": "code",
     "checksum": "8d9acb885394e069026e63a8b46b4314",
     "grade": false,
     "grade_id": "cell-f51321bcd10789a7",
     "locked": false,
     "schema_version": 3,
     "solution": true,
     "task": false
    }
   },
   "outputs": [
    {
     "name": "stdout",
     "output_type": "stream",
     "text": [
      "|  Coefficient | Estimate |    SE    | t-statistic |  p-value  |\n",
      "---------------------------------------------------------------\n",
      "|  Intercept   |   0.000  |  0.0000  |     1.37    |   0.1745  |\n",
      "|     lcavol   |   0.000  |  0.0000  |     0.26    |   0.7977  |\n",
      "|    lweight   |  -0.000  |  0.0000  |    -0.50    |   0.6174  |\n",
      "|       lbph   |   0.000  |  0.0000  |     0.20    |   0.8424  |\n",
      "|        svi   |   0.000  |  0.0000  |     0.00    |   1.0000  |\n",
      "|       lpsa   |   1.000  |  0.0000  |    257142729870932.06    | < 0.0001  |\n",
      "Residual Sum of Squares (RSS0): 3.027287543115456e-26\n",
      "Number of variables in the subset model (p0): 6\n"
     ]
    }
   ],
   "source": [
    "# YOUR CODE HERE\n",
    "# Define the variables to exclude\n",
    "exclude_vars = ['age', 'lcp', 'gleason', 'pgg45']\n",
    "\n",
    "# Select only the subset of variables (excluding the specified variables)\n",
    "subset_vars = [col for col in pc.columns[:-1] if col not in exclude_vars]\n",
    "X_subset = pc[subset_vars].to_numpy()\n",
    "\n",
    "# Split the data into training set for the subset of variables\n",
    "Xtrain_subset = X_subset[is_train, :]  # Subset training predictors\n",
    "\n",
    "# Run the multipleTTest function for the subset of variables\n",
    "RSS0 = multipleTTest(Xtrain_subset, ytrain, includeIntercept=True, labels=subset_vars)\n",
    "\n",
    "# Store the number of variables in the subset model (including intercept)\n",
    "p0 = Xtrain_subset.shape[1] + 1  # Number of predictors in the subset + 1 for intercept\n",
    "\n",
    "# Print the results\n",
    "print(f\"Residual Sum of Squares (RSS0): {RSS0}\")\n",
    "print(f\"Number of variables in the subset model (p0): {p0}\")"
   ]
  },
  {
   "cell_type": "code",
   "execution_count": null,
   "metadata": {
    "deletable": false,
    "editable": false,
    "nbgrader": {
     "cell_type": "code",
     "checksum": "e6967b81f811e35c68d385ebbce456a6",
     "grade": true,
     "grade_id": "cell-946379ec2bc62a02",
     "locked": true,
     "points": 2,
     "schema_version": 3,
     "solution": false,
     "task": false
    }
   },
   "outputs": [],
   "source": [
    "# This cell contains further tests, don't remove!"
   ]
  },
  {
   "attachments": {},
   "cell_type": "markdown",
   "metadata": {
    "deletable": false,
    "editable": false,
    "nbgrader": {
     "cell_type": "markdown",
     "checksum": "05d6433c5dfd74a9b6a06d337a229277",
     "grade": false,
     "grade_id": "cell-5d331a02b212f7b5",
     "locked": true,
     "schema_version": 3,
     "solution": false,
     "task": false
    }
   },
   "source": [
    "According to the lecture, we may now test the reduced model against the full model using an appropriate $F$-statistic.\n",
    "Thus, we test the null hypothesis:\n",
    "\n",
    "$$ \\textbf{H}_0: \\beta_{\\text{age}} = \\beta_{\\text{lcp}} = \\beta_{\\text{gleason}} = \\beta_{\\text{pgg45}} = 0$$\n",
    "\n",
    "against\n",
    "\n",
    "$$ \\textbf{H}_1: \\text{at least one of the variables } \\beta_{\\text{age}}, \\beta_{\\text{lcp}}, \\beta_{\\text{gleason}}, \\beta_{\\text{pgg45}} \\text{ is not zero } $$\n",
    "\n",
    "We can do this by computing the $F$-stastitic:\n",
    "\n",
    "$$ F = \\frac{(RSS_0 - RSS_1) / (p_1 - p_0)}{RSS_1 / (n - p_1)} $$\n",
    "\n",
    "while $n$ is the number of training samples.\n",
    "\n",
    "According to our assumptions, $F$ will have an $F$-distribution with $(p_1-p_0, n-p_1)$ degrees of freedom.\n",
    "\n",
    "**Task**: Compute the value of the test statistic and store it in a variable `F`."
   ]
  },
  {
   "cell_type": "code",
   "execution_count": 51,
   "metadata": {
    "deletable": false,
    "nbgrader": {
     "cell_type": "code",
     "checksum": "c0acaf09ea47e825dba6d7349e5dc8bc",
     "grade": false,
     "grade_id": "cell-348ff63a3e9ae6d1",
     "locked": false,
     "schema_version": 3,
     "solution": true,
     "task": false
    }
   },
   "outputs": [
    {
     "name": "stdout",
     "output_type": "stream",
     "text": [
      "F-statistic: -19.333333333333332\n"
     ]
    }
   ],
   "source": [
    "# YOUR CODE HERE\n",
    "# Compute the number of training samples\n",
    "n = Xtrain.shape[0]\n",
    "\n",
    "# Compute the F-statistic\n",
    "F = ((RSS0 - RSS1) / (p1 - p0)) / (RSS1 / (n - p1))\n",
    "\n",
    "# Print the F-statistic\n",
    "print(f\"F-statistic: {F}\")\n"
   ]
  },
  {
   "cell_type": "code",
   "execution_count": 52,
   "metadata": {
    "deletable": false,
    "editable": false,
    "nbgrader": {
     "cell_type": "code",
     "checksum": "68d632107213f71223bca689762e14ec",
     "grade": true,
     "grade_id": "cell-94f2551615bec23c",
     "locked": true,
     "points": 1,
     "schema_version": 3,
     "solution": false,
     "task": false
    }
   },
   "outputs": [],
   "source": [
    "assert 'F' in locals()\n",
    "\n",
    "# This cell contains further tests, don't remove!"
   ]
  },
  {
   "attachments": {},
   "cell_type": "markdown",
   "metadata": {
    "deletable": false,
    "editable": false,
    "nbgrader": {
     "cell_type": "markdown",
     "checksum": "1ce9d10c2e7fe1a5e9e56b04e089f212",
     "grade": false,
     "grade_id": "cell-75a2e3c93b1433f5",
     "locked": true,
     "schema_version": 3,
     "solution": false,
     "task": false
    }
   },
   "source": [
    "To compute the $p$-value, we may import the $F$-distribution by\n",
    "\n",
    "    from scipy.stats import f as f_dist\n",
    "    \n",
    "**Task**: Determine the corresponding $p$-value and store the value in a variable `pval`.\n",
    "Assuming a level of significance of 5%, can we safely reject the null hypothesis? Store either `True` or `False` in the variable `reject_null`."
   ]
  },
  {
   "cell_type": "code",
   "execution_count": 53,
   "metadata": {
    "deletable": false,
    "nbgrader": {
     "cell_type": "code",
     "checksum": "ca1428cbf972504cc8b69f5f3eda1535",
     "grade": false,
     "grade_id": "cell-b4943a831c958b55",
     "locked": false,
     "schema_version": 3,
     "solution": true,
     "task": false
    }
   },
   "outputs": [
    {
     "name": "stdout",
     "output_type": "stream",
     "text": [
      "p-value: 1.0\n",
      "Reject null hypothesis (at 5% level): False\n"
     ]
    }
   ],
   "source": [
    "# YOUR CODE HERE\n",
    "from scipy.stats import f as f_dist\n",
    "\n",
    "# Compute the p-value for the F-statistic\n",
    "df1 = p1 - p0  # Degrees of freedom for the numerator (difference in model complexity)\n",
    "df2 = n - p1   # Degrees of freedom for the denominator (full model)\n",
    "\n",
    "# Calculate the p-value\n",
    "pval = 1 - f_dist.cdf(F, df1, df2)\n",
    "\n",
    "# Check if we can reject the null hypothesis at the 5% significance level\n",
    "reject_null = pval < 0.05\n",
    "\n",
    "# Print the results\n",
    "print(f\"p-value: {pval}\")\n",
    "print(f\"Reject null hypothesis (at 5% level): {reject_null}\")"
   ]
  },
  {
   "cell_type": "code",
   "execution_count": 54,
   "metadata": {
    "deletable": false,
    "editable": false,
    "nbgrader": {
     "cell_type": "code",
     "checksum": "ade28ef63a4e428ee50f5503ecb1e513",
     "grade": true,
     "grade_id": "cell-bf8f4276b433f952",
     "locked": true,
     "points": 2,
     "schema_version": 3,
     "solution": false,
     "task": false
    }
   },
   "outputs": [],
   "source": [
    "assert 'pval' in locals()\n",
    "assert 'reject_null' in locals()\n",
    "\n",
    "# This cell contains further tests, don't remove!"
   ]
  },
  {
   "cell_type": "markdown",
   "metadata": {
    "deletable": false,
    "editable": false,
    "nbgrader": {
     "cell_type": "markdown",
     "checksum": "2fc01371945697c75412a4eea3ecbcbd",
     "grade": false,
     "grade_id": "cell-a692bd2d765a88fe",
     "locked": true,
     "schema_version": 3,
     "solution": false,
     "task": false
    }
   },
   "source": [
    "**Task**: Finally, you should train and evaluate the full model and the reduced model.\n",
    "Compare both in terms of the $R^2$-value on the test set.\n",
    "Which model performs better on the training set and the test set, resp.?\n",
    "Try to explain your findings and store your answer in a comment."
   ]
  },
  {
   "cell_type": "code",
   "execution_count": 59,
   "metadata": {
    "deletable": false,
    "nbgrader": {
     "cell_type": "code",
     "checksum": "6c7c2258be39140819ebca9ebb5e7ea1",
     "grade": false,
     "grade_id": "cell-6a123485fa3eb2b4",
     "locked": false,
     "schema_version": 3,
     "solution": true,
     "task": false
    }
   },
   "outputs": [
    {
     "ename": "IndexError",
     "evalue": "index 8 is out of bounds for axis 1 with size 8",
     "output_type": "error",
     "traceback": [
      "\u001b[1;31m---------------------------------------------------------------------------\u001b[0m",
      "\u001b[1;31mIndexError\u001b[0m                                Traceback (most recent call last)",
      "Cell \u001b[1;32mIn[59], line 11\u001b[0m\n\u001b[0;32m      9\u001b[0m \u001b[38;5;66;03m# Predict on the training and test set for the reduced model\u001b[39;00m\n\u001b[0;32m     10\u001b[0m ytrain_pred_reduced \u001b[38;5;241m=\u001b[39m reduced_model\u001b[38;5;241m.\u001b[39mpredict(Xtrain_subset)\n\u001b[1;32m---> 11\u001b[0m ytest_pred_reduced \u001b[38;5;241m=\u001b[39m reduced_model\u001b[38;5;241m.\u001b[39mpredict(\u001b[43mXtest\u001b[49m\u001b[43m[\u001b[49m\u001b[43m:\u001b[49m\u001b[43m,\u001b[49m\u001b[43m \u001b[49m\u001b[43msubset_indices\u001b[49m\u001b[43m]\u001b[49m)\n\u001b[0;32m     13\u001b[0m \u001b[38;5;66;03m# Calculate R^2 for both models on the training and test sets\u001b[39;00m\n\u001b[0;32m     14\u001b[0m r2_train_full \u001b[38;5;241m=\u001b[39m r2_score(ytrain, ytrain_pred_full)\n",
      "\u001b[1;31mIndexError\u001b[0m: index 8 is out of bounds for axis 1 with size 8"
     ]
    }
   ],
   "source": [
    "# YOUR CODE HERE\n"
   ]
  },
  {
   "cell_type": "code",
   "execution_count": null,
   "metadata": {},
   "outputs": [],
   "source": []
  }
 ],
 "metadata": {
  "kernelspec": {
   "display_name": "Python 3 (ipykernel)",
   "language": "python",
   "name": "python3"
  },
  "language_info": {
   "codemirror_mode": {
    "name": "ipython",
    "version": 3
   },
   "file_extension": ".py",
   "mimetype": "text/x-python",
   "name": "python",
   "nbconvert_exporter": "python",
   "pygments_lexer": "ipython3",
   "version": "3.13.0"
  }
 },
 "nbformat": 4,
 "nbformat_minor": 4
}
