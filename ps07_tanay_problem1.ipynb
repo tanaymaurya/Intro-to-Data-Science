{
 "cells": [
  {
   "cell_type": "markdown",
   "metadata": {},
   "source": [
    "# Introduction to Data Science"
   ]
  },
  {
   "cell_type": "markdown",
   "metadata": {},
   "source": [
    "Before you hand this problem in, make sure everything runs as expected. You should **restart the kernel and run all cells** by selecting \n",
    "\n",
    "`Kernel --> Restart Kernel and Run All Cells`\n",
    "\n",
    "in the menubar.\n",
    "\n",
    "- Of course, you should use **an appropriate kernel** on the Jupyterhub of the math department or locally, so that the right modules are used and the calculations can be checked deterministically.  \n",
    "- Make sure you fill in any place that says `YOUR CODE HERE` or \"YOUR ANSWER HERE\".\n",
    "- Rename this problem sheet as follows:\n",
    "\n",
    "      ps{number of lab}_{your user name}_problem{number of problem sheet in this lab}\n",
    "    \n",
    "  for example\n",
    "    \n",
    "      ps02_blja_problem1\n",
    "    \n",
    "- Please fill out the cell below for **every submission**.\n",
    "\n",
    "**Change in submission of files**: Please upload this submission until next Tuesday to your shared Nextcloud [https://tuc.cloud/](https://tuc.cloud/) directory with the name of your username which has been created during the third exercise lab.\n",
    "If you have not yet been assigned to a shared Nextcloud folder, please contact me via email (jan.blechschmidt@mathematik.tu-chemnitz.de) as soon as possible."
   ]
  },
  {
   "cell_type": "code",
   "execution_count": null,
   "metadata": {},
   "outputs": [],
   "source": [
    "NAME = \"Tanay Maurya\"\n",
    "EMAIL = \"tanay.maurya@s.2024.tu-chemnitz.de\"\n",
    "USERNAME = \"tanay@tu-chemnitz.de\""
   ]
  },
  {
   "cell_type": "markdown",
   "metadata": {},
   "source": [
    "---"
   ]
  },
  {
   "attachments": {},
   "cell_type": "markdown",
   "metadata": {
    "deletable": false,
    "editable": false,
    "nbgrader": {
     "cell_type": "markdown",
     "checksum": "62d13ca5fdad3dfd2069fa8991c7d3d5",
     "grade": false,
     "grade_id": "cell-2f2cbd6f50d7ae76",
     "locked": true,
     "schema_version": 3,
     "solution": false,
     "task": false
    }
   },
   "source": [
    "# Introduction to Data Science\n",
    "## Lab 7: Logistic regression\n",
    "### Part A: Implementing the logistic function"
   ]
  },
  {
   "attachments": {},
   "cell_type": "markdown",
   "metadata": {
    "deletable": false,
    "editable": false,
    "nbgrader": {
     "cell_type": "markdown",
     "checksum": "514133bedeea20e361714718bc18ff98",
     "grade": false,
     "grade_id": "cell-50dffcded16d74eb",
     "locked": true,
     "schema_version": 3,
     "solution": false,
     "task": false
    }
   },
   "source": [
    "**Task**:\n",
    "Implement the logistic function\n",
    "\n",
    "$$ \\sigma(x) = \\frac{e^x}{1+e^x} = \\frac{1}{1+e^{-x}}$$\n",
    "\n",
    "using methods from `numpy`."
   ]
  },
  {
   "cell_type": "code",
   "execution_count": 1,
   "metadata": {
    "deletable": false,
    "nbgrader": {
     "cell_type": "code",
     "checksum": "8f5184b62b56e5295d25bcabbc80bbe2",
     "grade": false,
     "grade_id": "cell-e34e975989fd0590",
     "locked": false,
     "schema_version": 3,
     "solution": true,
     "task": false
    }
   },
   "outputs": [],
   "source": [
    "import numpy as np\n",
    "def sigma(x):\n",
    "    # YOUR CODE HERE\n",
    "    return 1/(1 + np.exp(-x))"
   ]
  },
  {
   "cell_type": "code",
   "execution_count": 2,
   "metadata": {
    "deletable": false,
    "editable": false,
    "nbgrader": {
     "cell_type": "code",
     "checksum": "119860ed92f17cd9a66ea780de8f8474",
     "grade": true,
     "grade_id": "cell-9d5048808a942daa",
     "locked": true,
     "points": 1,
     "schema_version": 3,
     "solution": false,
     "task": false
    }
   },
   "outputs": [],
   "source": [
    "assert sigma(0) == 1/2\n",
    "# This cell contains further tests, don't remove!"
   ]
  },
  {
   "attachments": {},
   "cell_type": "markdown",
   "metadata": {
    "deletable": false,
    "editable": false,
    "nbgrader": {
     "cell_type": "markdown",
     "checksum": "6db07d233d0e4d04e2efe5d8d2fc5d1d",
     "grade": false,
     "grade_id": "cell-e1200e1e06b2bf32",
     "locked": true,
     "schema_version": 3,
     "solution": false,
     "task": false
    }
   },
   "source": [
    "Next, we want to investigate how the shape of the logistic function changes for an affine linear input, i.e.,\n",
    "\n",
    "$$ \\sigma(\\beta_0 + \\beta_1 x) $$\n",
    "\n",
    "for different values of $\\beta_0$ and $\\beta_1$.\n",
    "\n",
    "For this purpose, the following function `plot_sigma` (which uses your function `sigma`) has been defined.\n",
    "\n",
    "**Task**: Understand and execute the following code cell! There will be no plot here, since we are only defining a function."
   ]
  },
  {
   "cell_type": "code",
   "execution_count": 3,
   "metadata": {
    "deletable": false,
    "editable": false,
    "nbgrader": {
     "cell_type": "code",
     "checksum": "ffe0aceb2149ffb4787421db8453761f",
     "grade": false,
     "grade_id": "cell-0fc2c91c190de57a",
     "locked": true,
     "schema_version": 3,
     "solution": false,
     "task": false
    }
   },
   "outputs": [],
   "source": [
    "import matplotlib.pyplot as plt\n",
    "%matplotlib inline\n",
    "\n",
    "def plot_sigma(b0, b1):\n",
    "    plt.figure('Sigma interactive')\n",
    "    x = np.linspace(-10,10,1001)\n",
    "    plt.plot(x, sigma(b0 + b1*x), label = 'Logistic function')\n",
    "    plt.plot(x, 0.5*np.ones(x.shape), label = 'Const 0.5')\n",
    "    plt.ylim(-0.1, 1.1)\n",
    "    plt.xlabel('x')\n",
    "    plt.ylabel('p(x)')\n",
    "    plt.legend()\n",
    "    plt.show()"
   ]
  },
  {
   "attachments": {},
   "cell_type": "markdown",
   "metadata": {
    "deletable": false,
    "editable": false,
    "nbgrader": {
     "cell_type": "markdown",
     "checksum": "7d6b9de0d0468b76e28029ad716730d3",
     "grade": false,
     "grade_id": "cell-2f913c1c252996d6",
     "locked": true,
     "schema_version": 3,
     "solution": false,
     "task": false
    }
   },
   "source": [
    "**Task**: Call the function `plot_sigma` with arguments `b0 = 0.3` and `b1 = 0.4`."
   ]
  },
  {
   "cell_type": "code",
   "execution_count": 4,
   "metadata": {
    "deletable": false,
    "nbgrader": {
     "cell_type": "code",
     "checksum": "ad3ea89dc99a9712e46956595734724e",
     "grade": true,
     "grade_id": "cell-49a4ec4e6f79756e",
     "locked": false,
     "points": 1,
     "schema_version": 3,
     "solution": true,
     "task": false
    }
   },
   "outputs": [
    {
     "data": {
      "image/png": "[encoded data removed]",
      "text/plain": [
       "<Figure size 640x480 with 1 Axes>"
      ]
     },
     "metadata": {},
     "output_type": "display_data"
    }
   ],
   "source": [
    "# YOUR CODE HERE\n",
    "plot_sigma(b0 = 0.3, b1 = 0.4)"
   ]
  },
  {
   "attachments": {},
   "cell_type": "markdown",
   "metadata": {
    "deletable": false,
    "editable": false,
    "nbgrader": {
     "cell_type": "markdown",
     "checksum": "cf359986d12e176e7063988d9b126aa1",
     "grade": false,
     "grade_id": "cell-767e9d8d7dd764c4",
     "locked": true,
     "schema_version": 3,
     "solution": false,
     "task": false
    }
   },
   "source": [
    "**Task**: Execute the next code cell and take your time to investigate how the values of $\\beta_0$ and $\\beta_1$ affect the behaviour of the shape of the function.\n",
    "\n",
    "**You have nothing to implement here, only evaluate the cell below and play with the sliders to answer the following questions.**"
   ]
  },
  {
   "cell_type": "code",
   "execution_count": 5,
   "metadata": {
    "deletable": false,
    "editable": false,
    "nbgrader": {
     "cell_type": "code",
     "checksum": "ed0ab1328c422678fb9f08f1866e7764",
     "grade": false,
     "grade_id": "cell-8d72088ec5537ae5",
     "locked": true,
     "schema_version": 3,
     "solution": false,
     "task": false
    }
   },
   "outputs": [
    {
     "data": {
      "application/vnd.jupyter.widget-view+json": {
       "model_id": "fae0d281b63243de836a435c5d4f0116",
       "version_major": 2,
       "version_minor": 0
      },
      "text/plain": [
       "interactive(children=(FloatSlider(value=0.0, description='b0', max=10.0, min=-10.0, step=1.0), FloatSlider(val…"
      ]
     },
     "execution_count": 5,
     "metadata": {},
     "output_type": "execute_result"
    }
   ],
   "source": [
    "from ipywidgets import interactive\n",
    "plt.rcParams['figure.figsize'] = [13, 5]\n",
    "interactive_plot = interactive(plot_sigma, b0=(-10.0, 10.0, 1.0), b1=(-3., 3., 0.2))\n",
    "output = interactive_plot.children[-1]\n",
    "output.layout.height = '450px'\n",
    "interactive_plot"
   ]
  },
  {
   "attachments": {},
   "cell_type": "markdown",
   "metadata": {
    "deletable": false,
    "editable": false,
    "nbgrader": {
     "cell_type": "markdown",
     "checksum": "a08182aeb18c717f86745348ed89a5bd",
     "grade": false,
     "grade_id": "cell-2ae207c2b0664853",
     "locked": true,
     "schema_version": 3,
     "solution": false,
     "task": false
    }
   },
   "source": [
    "### Decide whether the statements are true or false!\n",
    "\n",
    "Set the answer-variable either to `True` or `False`."
   ]
  },
  {
   "attachments": {},
   "cell_type": "markdown",
   "metadata": {
    "deletable": false,
    "editable": false,
    "nbgrader": {
     "cell_type": "markdown",
     "checksum": "e4cfbf13b3e21132b0e9c1f45e694fa3",
     "grade": false,
     "grade_id": "cell-bacc8702c42ad836",
     "locked": true,
     "schema_version": 3,
     "solution": false,
     "task": false
    }
   },
   "source": [
    "**Statement A**: The logistic function is monotonically increasing for $\\beta_0 > 0$.\n",
    "Store your answer in the variable `answer_A`."
   ]
  },
  {
   "cell_type": "code",
   "execution_count": 6,
   "metadata": {
    "deletable": false,
    "nbgrader": {
     "cell_type": "code",
     "checksum": "b858d48fadfb783525e52be90cf4c3de",
     "grade": false,
     "grade_id": "cell-ec99f53493c4e27e",
     "locked": false,
     "schema_version": 3,
     "solution": true,
     "task": false
    }
   },
   "outputs": [],
   "source": [
    "# answer_A =\n",
    "# YOUR CODE HERE\n",
    "answer_A = False"
   ]
  },
  {
   "cell_type": "code",
   "execution_count": 7,
   "metadata": {
    "deletable": false,
    "editable": false,
    "nbgrader": {
     "cell_type": "code",
     "checksum": "bf6f5a00d84263cb3facb05aff8f6c59",
     "grade": true,
     "grade_id": "cell-2c3481b9216171ec",
     "locked": true,
     "points": 1,
     "schema_version": 3,
     "solution": false,
     "task": false
    }
   },
   "outputs": [],
   "source": [
    "assert 'answer_A' in locals()\n",
    "# This cell contains further tests, don't remove!"
   ]
  },
  {
   "attachments": {},
   "cell_type": "markdown",
   "metadata": {
    "deletable": false,
    "editable": false,
    "nbgrader": {
     "cell_type": "markdown",
     "checksum": "f2d2272b01f20fb3e5bd8095f04343fd",
     "grade": false,
     "grade_id": "cell-a0c64afc3ed6e04c",
     "locked": true,
     "schema_version": 3,
     "solution": false,
     "task": false
    }
   },
   "source": [
    "**Statement B**: The logistic function is monotonically increasing for $\\beta_1 > 0$.\n",
    "Store your answer in the variable `answer_B`."
   ]
  },
  {
   "cell_type": "code",
   "execution_count": 8,
   "metadata": {
    "deletable": false,
    "nbgrader": {
     "cell_type": "code",
     "checksum": "81af8f8639cbf2f4848aa228d6b025d9",
     "grade": false,
     "grade_id": "cell-cbe3bf01fbd82764",
     "locked": false,
     "schema_version": 3,
     "solution": true,
     "task": false
    }
   },
   "outputs": [],
   "source": [
    "# answer_B = \n",
    "# YOUR CODE HERE\n",
    "answer_B = True"
   ]
  },
  {
   "cell_type": "code",
   "execution_count": 9,
   "metadata": {
    "deletable": false,
    "editable": false,
    "nbgrader": {
     "cell_type": "code",
     "checksum": "bbe67ac328ab5b616ce35b58ccb64bbe",
     "grade": true,
     "grade_id": "cell-38098558fe896986",
     "locked": true,
     "points": 1,
     "schema_version": 3,
     "solution": false,
     "task": false
    }
   },
   "outputs": [],
   "source": [
    "assert 'answer_B' in locals()\n",
    "# This cell contains further tests, don't remove!"
   ]
  },
  {
   "attachments": {},
   "cell_type": "markdown",
   "metadata": {
    "deletable": false,
    "editable": false,
    "nbgrader": {
     "cell_type": "markdown",
     "checksum": "94410245609c65116f06b2820b76cfef",
     "grade": false,
     "grade_id": "cell-1adc1112648671b2",
     "locked": true,
     "schema_version": 3,
     "solution": false,
     "task": false
    }
   },
   "source": [
    "**Task**: \n",
    "1. Determine the derivative of the logistic function\n",
    "\n",
    "    $$ \\sigma(x) = \\frac{e^x}{1+e^x} = \\frac{1}{1+e^{-x}}$$\n",
    "\n",
    "    with respect to $x$, i.e., determine $\\sigma'(x)$ and write it in the following `Markdown` cell.\n",
    "2. Use this to confirm that the equation\n",
    "\n",
    "$$\n",
    "\\sigma'(x) = \\sigma(x) \\, \\left( 1- \\sigma(x) \\right)\n",
    "$$\n",
    "\n",
    "    holds.\n",
    "\n",
    "**Hint**: Use the chain rule!"
   ]
  },
  {
   "attachments": {},
   "cell_type": "markdown",
   "metadata": {
    "deletable": false,
    "nbgrader": {
     "cell_type": "markdown",
     "checksum": "a24aae68824da2618e948845e50c5950",
     "grade": true,
     "grade_id": "cell-fd5a2bd92861c285",
     "locked": false,
     "points": 2,
     "schema_version": 3,
     "solution": true,
     "task": false
    }
   },
   "source": [
    "YOUR ANSWER HERE sigma'(x) = np.exp(-x)/(1+np.exp(-x))**2"
   ]
  }
 ],
 "metadata": {
  "kernelspec": {
   "display_name": "Python 3 (ipykernel)",
   "language": "python",
   "name": "python3"
  },
  "language_info": {
   "codemirror_mode": {
    "name": "ipython",
    "version": 3
   },
   "file_extension": ".py",
   "mimetype": "text/x-python",
   "name": "python",
   "nbconvert_exporter": "python",
   "pygments_lexer": "ipython3",
   "version": "3.13.0"
  }
 },
 "nbformat": 4,
 "nbformat_minor": 4
}
