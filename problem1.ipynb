{
 "cells": [
  {
   "attachments": {},
   "cell_type": "markdown",
   "metadata": {},
   "source": [
    "# Introduction to Data Science\n",
    "## Lab 1: Brief introduction to Python and Jupyter"
   ]
  },
  {
   "attachments": {},
   "cell_type": "markdown",
   "metadata": {},
   "source": [
    "This course assumes that you are comfortable with the basic functions of Jupyter and Python."
   ]
  },
  {
   "attachments": {},
   "cell_type": "markdown",
   "metadata": {},
   "source": [
    "### Part A: Introduction Python"
   ]
  },
  {
   "attachments": {},
   "cell_type": "markdown",
   "metadata": {},
   "source": [
    "With the command `a = [1, 2, 3]` you can set up a list."
   ]
  },
  {
   "cell_type": "code",
   "execution_count": 3,
   "metadata": {
    "deletable": false,
    "nbgrader": {
     "cell_type": "code",
     "checksum": "7a3eda0e2767b60b0491b6aa82a9dffd",
     "grade": false,
     "grade_id": "cell-ef61d944d6baafc5",
     "locked": false,
     "schema_version": 3,
     "solution": true,
     "task": false
    }
   },
   "outputs": [],
   "source": [
    "# Type the command a = [1, 2, 3] and hit Shift + Enter\n",
    "# to execute this code cell and jump to the next cell.\n",
    "\n",
    "# YOUR CODE HERE\n",
    "a = [1,2,3]"
   ]
  },
  {
   "attachments": {},
   "cell_type": "markdown",
   "metadata": {},
   "source": [
    "With the function type, we can find out that `a` is of type *list*."
   ]
  },
  {
   "cell_type": "code",
   "execution_count": 4,
   "metadata": {
    "deletable": false,
    "nbgrader": {
     "cell_type": "code",
     "checksum": "bb3ddc356f67ef2b4c93cad4d61d57dc",
     "grade": false,
     "grade_id": "cell-5dff3198c0f31109",
     "locked": false,
     "schema_version": 3,
     "solution": true,
     "task": false
    }
   },
   "outputs": [
    {
     "data": {
      "text/plain": [
       "list"
      ]
     },
     "execution_count": 4,
     "metadata": {},
     "output_type": "execute_result"
    }
   ],
   "source": [
    "# Type the command \n",
    "#\n",
    "# type(a)\n",
    "#\n",
    "# and hit Shift + Enter to execute this code cell\n",
    "# and jump to the next cell.\n",
    "\n",
    "# YOUR CODE HERE\n",
    "type(a)"
   ]
  },
  {
   "attachments": {},
   "cell_type": "markdown",
   "metadata": {},
   "source": [
    "By the way, comments can be set in various ways.\n",
    "The can start either with the hashtag sign **#**, i.e., \n",
    "    \n",
    "    # This is your code\n",
    "    \n",
    "or, for longer comments, start and end with three quotation marks **\"\"\"**, i.e.\n",
    "    \n",
    "    \"\"\" This comment\n",
    "    \n",
    "    be\n",
    "    across\n",
    "    multiple\n",
    "    lines...\n",
    "    \n",
    "    ... and may also include empty lines.\n",
    "    \"\"\"\n",
    "\n",
    "They should become a vital part of your code, and often help to increase the readability of your programs."
   ]
  },
  {
   "attachments": {},
   "cell_type": "markdown",
   "metadata": {},
   "source": [
    "The expression `a[1]` accesses the **second** element in the list `a`. In contrast to other programming languages such as *MATLAB*, python starts its enumeration with index `0`."
   ]
  },
  {
   "cell_type": "code",
   "execution_count": 5,
   "metadata": {
    "deletable": false,
    "nbgrader": {
     "cell_type": "code",
     "checksum": "cb96f064017ee50400622596e2680367",
     "grade": false,
     "grade_id": "cell-adf6ca5dad89aca9",
     "locked": false,
     "schema_version": 3,
     "solution": true,
     "task": false
    }
   },
   "outputs": [
    {
     "data": {
      "text/plain": [
       "2"
      ]
     },
     "execution_count": 5,
     "metadata": {},
     "output_type": "execute_result"
    }
   ],
   "source": [
    "# Type the command \n",
    "#\n",
    "# a[1]\n",
    "#\n",
    "# and hit Shift + Enter to execute this code cell\n",
    "# and jump to the next cell.\n",
    "\n",
    "# YOUR CODE HERE\n",
    "a[1]"
   ]
  },
  {
   "attachments": {},
   "cell_type": "markdown",
   "metadata": {},
   "source": [
    "Similar to `type()`, `len()` is a Python function that can be applied to different objects. It returns the length of the object.\n",
    "Find out the length of the list `a`."
   ]
  },
  {
   "cell_type": "code",
   "execution_count": 6,
   "metadata": {
    "deletable": false,
    "nbgrader": {
     "cell_type": "code",
     "checksum": "804e227a1c95fa1da3437c1c2ac439c6",
     "grade": false,
     "grade_id": "cell-604e067848d71be3",
     "locked": false,
     "schema_version": 3,
     "solution": true,
     "task": false
    }
   },
   "outputs": [
    {
     "data": {
      "text/plain": [
       "3"
      ]
     },
     "execution_count": 6,
     "metadata": {},
     "output_type": "execute_result"
    }
   ],
   "source": [
    "# YOUR CODE HERE\n",
    "len(a)"
   ]
  },
  {
   "attachments": {},
   "cell_type": "markdown",
   "metadata": {},
   "source": [
    "Now, set up a list `b` with elements `[4, 5, 6]`."
   ]
  },
  {
   "cell_type": "code",
   "execution_count": 7,
   "metadata": {
    "deletable": false,
    "nbgrader": {
     "cell_type": "code",
     "checksum": "bd572e17591e123dc664a0c5edf07cfe",
     "grade": false,
     "grade_id": "cell-a2bfdf28dbcbca46",
     "locked": false,
     "schema_version": 3,
     "solution": true,
     "task": false
    }
   },
   "outputs": [],
   "source": [
    "# YOUR CODE HERE\n",
    "b = [4,5,6]"
   ]
  },
  {
   "attachments": {},
   "cell_type": "markdown",
   "metadata": {},
   "source": [
    "Try the command `a + b`. What happens if you multiply the list `a` by a scalar?\n",
    "\n",
    "If you have multiple commands that yield an output, only the last one is displayed. You can show it by putting the command inside the `print()` function."
   ]
  },
  {
   "cell_type": "code",
   "execution_count": 8,
   "metadata": {
    "deletable": false,
    "nbgrader": {
     "cell_type": "code",
     "checksum": "6b53f67f47d451b51f45ea151e095ac2",
     "grade": false,
     "grade_id": "cell-d44e98983a6dec33",
     "locked": false,
     "schema_version": 3,
     "solution": true,
     "task": false
    }
   },
   "outputs": [
    {
     "name": "stdout",
     "output_type": "stream",
     "text": [
      "[1, 2, 3, 4, 5, 6]\n",
      "[1, 2, 3, 1, 2, 3, 1, 2, 3]\n"
     ]
    }
   ],
   "source": [
    "# YOUR CODE HERE\n",
    "print(a + b)\n",
    "print(a*3)"
   ]
  },
  {
   "attachments": {},
   "cell_type": "markdown",
   "metadata": {},
   "source": [
    "To find out what else we can do with a list, we may type `a.` and press the **Tab** key. In Jupyter and other programming environments, a listing will be displayed with the available methods of the\n",
    "class *list*.\n",
    "You can, for example, append the number 1 to the list `a` by evaluating `a.append(1)`."
   ]
  },
  {
   "cell_type": "code",
   "execution_count": 9,
   "metadata": {
    "deletable": false,
    "nbgrader": {
     "cell_type": "code",
     "checksum": "fbf5e5fbe7afff6e439a6cb7567f20b1",
     "grade": false,
     "grade_id": "cell-41fe2e77a4dabeee",
     "locked": false,
     "schema_version": 3,
     "solution": true,
     "task": false
    }
   },
   "outputs": [],
   "source": [
    "# Type the command \n",
    "#\n",
    "# a.append(1)\n",
    "#\n",
    "# and hit Shift + Enter to execute this code cell\n",
    "# and jump to the next cell.\n",
    "\n",
    "# YOUR CODE HERE\n",
    "a.append(1)"
   ]
  },
  {
   "attachments": {},
   "cell_type": "markdown",
   "metadata": {},
   "source": [
    "You can always type a question mark **?** in front or behind of a function, e.g., `? a.append`, in order to see the built-in documentation of a function.\n",
    "Depending on how extensively the function/method is commented this\n",
    "can be more or less helpful.\n",
    "Now, you should sort the list `a` in descending order.\n",
    "\n",
    "**Task**: Find a suitable function by typing `a.` and use the **Tab** key to get a listing of the various methods available for a list.\n",
    "Then use the question mark to find out the function's behaviour."
   ]
  },
  {
   "cell_type": "code",
   "execution_count": 10,
   "metadata": {
    "deletable": false,
    "nbgrader": {
     "cell_type": "code",
     "checksum": "733574d3e6fcf53257a6b47becb34941",
     "grade": false,
     "grade_id": "cell-8222ee4d50c8ab9c",
     "locked": false,
     "schema_version": 3,
     "solution": true,
     "task": false
    }
   },
   "outputs": [
    {
     "name": "stdout",
     "output_type": "stream",
     "text": [
      "[1, 1, 2, 3]\n"
     ]
    }
   ],
   "source": [
    "# YOUR CODE HERE\n",
    "a.sort(key=None, reverse=False)\n",
    "print(a)"
   ]
  },
  {
   "attachments": {},
   "cell_type": "markdown",
   "metadata": {},
   "source": [
    "We conclude, that the method has two optional inputs, namely `key` with default value `None` and `reverse` with default value `False`.\n",
    "You can close the help dialogue by typing **q**.\n"
   ]
  },
  {
   "attachments": {},
   "cell_type": "markdown",
   "metadata": {},
   "source": [
    "**Task**: Now sort the list in descending order. Since this function has no output, you may type `print(a)` in a new line to check whether your sorting has been successful."
   ]
  },
  {
   "cell_type": "code",
   "execution_count": 11,
   "metadata": {
    "deletable": false,
    "nbgrader": {
     "cell_type": "code",
     "checksum": "dda3067d5fa7aac640a5d1e3fb3a964e",
     "grade": false,
     "grade_id": "cell-a392ea066e962016",
     "locked": false,
     "schema_version": 3,
     "solution": true,
     "task": false
    }
   },
   "outputs": [
    {
     "name": "stdout",
     "output_type": "stream",
     "text": [
      "[3, 2, 1, 1]\n"
     ]
    }
   ],
   "source": [
    "# YOUR CODE HERE\n",
    "a.sort(key=None, reverse=True)\n",
    "print(a)"
   ]
  },
  {
   "attachments": {},
   "cell_type": "markdown",
   "metadata": {},
   "source": [
    "**Task**: Insert the number `5` at the second position of `a`.\n",
    "To achieve this, look for a suitable method and become comfortable with it using `?`.\n",
    "\n",
    "Finally, you should have `a = [3, 5, 2, 1, 1]`."
   ]
  },
  {
   "cell_type": "code",
   "execution_count": 12,
   "metadata": {
    "deletable": false,
    "nbgrader": {
     "cell_type": "code",
     "checksum": "dc3702cb5f8cbe7d9e9a8de8b1d98150",
     "grade": false,
     "grade_id": "cell-6198c8ff5d9bb816",
     "locked": false,
     "schema_version": 3,
     "solution": true,
     "task": false
    }
   },
   "outputs": [
    {
     "name": "stdout",
     "output_type": "stream",
     "text": [
      "[3, 5, 2, 1, 1]\n"
     ]
    }
   ],
   "source": [
    "# YOUR CODE HERE\n",
    "a.insert(1,5)\n",
    "print(a)"
   ]
  },
  {
   "attachments": {},
   "cell_type": "markdown",
   "metadata": {},
   "source": [
    "Plain python without additional modules is not capable of handling advanced mathematical problems.\n",
    "Packages extend the functionalities of python in different ways.\n",
    "We will introduce some of them in the upcoming exercises."
   ]
  },
  {
   "attachments": {},
   "cell_type": "markdown",
   "metadata": {},
   "source": [
    "### Part B: Introduction Numpy"
   ]
  },
  {
   "attachments": {},
   "cell_type": "markdown",
   "metadata": {},
   "source": [
    "As already indicated, packages are extremly important in `Python`.\n",
    "Undoubtedly, one of the most useful package for scientific computing is numpy, which is imported by typing\n",
    "    \n",
    "    import numpy as np\n",
    "\n",
    "Please familiarize yourself with one of the many tutorials, e.g.,\n",
    "\n",
    "https://docs.scipy.org/doc/numpy/user/quickstart.html\n",
    "\n",
    "\n",
    "For those who have previously worked with MATLAB, the following overview is also worth a short look\n",
    "\n",
    "https://docs.scipy.org/doc/numpy/user/numpy-for-matlab-users.html.\n",
    "\n",
    "**Short note**: It is not common to import all functions of a package via `from numpy import ∗`.\n",
    "Instead, one uses `import numpy` or `import numpy as np`, which provides access to the package’s functions via `numpy.ndarray` or `np.ndarray`, resp."
   ]
  },
  {
   "cell_type": "code",
   "execution_count": 13,
   "metadata": {},
   "outputs": [],
   "source": [
    "import numpy as np"
   ]
  },
  {
   "attachments": {},
   "cell_type": "markdown",
   "metadata": {},
   "source": [
    "Execute the following code block to initialize the matrix\n",
    "\n",
    "$$\n",
    "A = \\begin{pmatrix} 1 & -1 \\\\ -1 & 1\\end{pmatrix}\n",
    "$$\n",
    "\n",
    "as an array.\n",
    "\n",
    "*Note*: Numpy also supports the data type `matrix` which is no longer recommended, even for linear algebra. Instead use arrays as we'll do throughout our labs."
   ]
  },
  {
   "cell_type": "code",
   "execution_count": 14,
   "metadata": {},
   "outputs": [
    {
     "name": "stdout",
     "output_type": "stream",
     "text": [
      "[[ 1 -1]\n",
      " [-1  1]]\n"
     ]
    }
   ],
   "source": [
    "A = np.array([[1, -1], [-1, 1]])\n",
    "print(A)"
   ]
  },
  {
   "attachments": {},
   "cell_type": "markdown",
   "metadata": {},
   "source": [
    "\n",
    "**Task**: Create the following matrix\n",
    "\n",
    "$$\n",
    "B = \\begin{pmatrix}\n",
    "5 & 6 & 7 & 8 \\\\\n",
    "1 & 2 & 3 & 4\n",
    "\\end{pmatrix}\n",
    "$$\n",
    "\n",
    "as an `array` through direct input using the function `np.array`."
   ]
  },
  {
   "cell_type": "code",
   "execution_count": 15,
   "metadata": {
    "deletable": false,
    "nbgrader": {
     "cell_type": "code",
     "checksum": "50452b7a10de80e66e16e6d9f1c79586",
     "grade": false,
     "grade_id": "cell-148bd14a392de2b3",
     "locked": false,
     "schema_version": 3,
     "solution": true,
     "task": false
    }
   },
   "outputs": [
    {
     "name": "stdout",
     "output_type": "stream",
     "text": [
      "[[5 6 7 8]\n",
      " [1 2 3 4]]\n"
     ]
    }
   ],
   "source": [
    "# YOUR CODE HERE\n",
    "B = np.array([[5, 6, 7, 8],[1, 2, 3, 4]])\n",
    "print(B)"
   ]
  },
  {
   "attachments": {},
   "cell_type": "markdown",
   "metadata": {},
   "source": [
    "**Task**: Create the matrix \n",
    "\n",
    "$$\n",
    "C = \\begin{pmatrix}\n",
    "1 & 2 & 3 & 4 \\\\\n",
    "5 & 6 & 7 & 8\n",
    "\\end{pmatrix}\n",
    "$$\n",
    "\n",
    "using the commands `np.arange` and `np.reshape`. Again, you can always use the question mark `? np.arange` to get immediate help."
   ]
  },
  {
   "cell_type": "code",
   "execution_count": 16,
   "metadata": {
    "deletable": false,
    "nbgrader": {
     "cell_type": "code",
     "checksum": "52533e55536a338e2984d739feb0f7bb",
     "grade": false,
     "grade_id": "cell-e705355bab2be952",
     "locked": false,
     "schema_version": 3,
     "solution": true,
     "task": false
    }
   },
   "outputs": [
    {
     "name": "stdout",
     "output_type": "stream",
     "text": [
      "[[1 2 3 4]\n",
      " [5 6 7 8]]\n"
     ]
    }
   ],
   "source": [
    "# YOUR CODE HERE\n",
    "C=np.arange(1,9).reshape(2,4)\n",
    "print(C)"
   ]
  },
  {
   "attachments": {},
   "cell_type": "markdown",
   "metadata": {},
   "source": [
    "Data science often requires not only matrix products but also element-wise products, also called Hadamard product. Since we are typically using arrays instead of matrices, the product sign `*` is used for the entrywise product.\n",
    "\n",
    "**Task**: Check this by computing `B * C`."
   ]
  },
  {
   "cell_type": "code",
   "execution_count": 17,
   "metadata": {
    "deletable": false,
    "nbgrader": {
     "cell_type": "code",
     "checksum": "459d0d5aefda93411a0da79f926b730b",
     "grade": false,
     "grade_id": "cell-941447700b956618",
     "locked": false,
     "schema_version": 3,
     "solution": true,
     "task": false
    }
   },
   "outputs": [
    {
     "data": {
      "text/plain": [
       "array([[ 5, 12, 21, 32],\n",
       "       [ 5, 12, 21, 32]])"
      ]
     },
     "execution_count": 17,
     "metadata": {},
     "output_type": "execute_result"
    }
   ],
   "source": [
    "# YOUR CODE HERE\n",
    "B*C"
   ]
  },
  {
   "attachments": {},
   "cell_type": "markdown",
   "metadata": {},
   "source": [
    "Fortunately, the matrix product is also important. In order to compute the matrix product $A \\cdot B$ you can either type `A.dot(B)` or use the `@` operator.\n",
    "\n",
    "**Task**: Compute the matrix product $A \\cdot B$ by executing `A @ B`."
   ]
  },
  {
   "cell_type": "code",
   "execution_count": 18,
   "metadata": {
    "deletable": false,
    "nbgrader": {
     "cell_type": "code",
     "checksum": "8f28b4f3518e0938346fe43b48fd3694",
     "grade": false,
     "grade_id": "cell-e6094007b2b0ca46",
     "locked": false,
     "schema_version": 3,
     "solution": true,
     "task": false
    }
   },
   "outputs": [
    {
     "name": "stdout",
     "output_type": "stream",
     "text": [
      "[[ 4  4  4  4]\n",
      " [-4 -4 -4 -4]]\n"
     ]
    }
   ],
   "source": [
    "# YOUR CODE HERE\n",
    "print(A@B)"
   ]
  },
  {
   "attachments": {},
   "cell_type": "markdown",
   "metadata": {},
   "source": [
    "The transpose of an array can be computed by the method `.T`.\n",
    "\n",
    "\n",
    "**Task**: Use this to compute $D =  B \\cdot C^\\top$."
   ]
  },
  {
   "cell_type": "code",
   "execution_count": 19,
   "metadata": {
    "deletable": false,
    "nbgrader": {
     "cell_type": "code",
     "checksum": "ec0e0d4940bbd58c41ca20b6ee281fab",
     "grade": false,
     "grade_id": "cell-122aed4e0d6c83d8",
     "locked": false,
     "schema_version": 3,
     "solution": true,
     "task": false
    }
   },
   "outputs": [
    {
     "data": {
      "text/plain": [
       "array([[ 70, 174],\n",
       "       [ 30,  70]])"
      ]
     },
     "execution_count": 19,
     "metadata": {},
     "output_type": "execute_result"
    }
   ],
   "source": [
    "# YOUR CODE HERE\n",
    "D = B @ C.T\n",
    "D"
   ]
  },
  {
   "attachments": {},
   "cell_type": "markdown",
   "metadata": {},
   "source": [
    "What happens if you execute `D ** 2`?"
   ]
  },
  {
   "cell_type": "code",
   "execution_count": 20,
   "metadata": {
    "deletable": false,
    "nbgrader": {
     "cell_type": "code",
     "checksum": "199c91d98686ec0fe140eb7af297cc0a",
     "grade": false,
     "grade_id": "cell-c615c2d03a6ce63c",
     "locked": false,
     "schema_version": 3,
     "solution": true,
     "task": false
    }
   },
   "outputs": [
    {
     "name": "stdout",
     "output_type": "stream",
     "text": [
      "[[ 4900 30276]\n",
      " [  900  4900]]\n"
     ]
    }
   ],
   "source": [
    "# YOUR CODE HERE\n",
    "print(D ** 2)"
   ]
  },
  {
   "attachments": {},
   "cell_type": "markdown",
   "metadata": {},
   "source": [
    "The command\n",
    "\n",
    "    np.random.randint(5, size=(2, 4))\n",
    "    \n",
    "generates a `2 × 4` array of random integers between 0 and 4.\n",
    "Now, create a `40 × 4` array `X` of standard-normal distributed random variables using `np.random.randn`.\n",
    "Compute the columnwise mean and variance of `X` using the commands `np.mean` and `np.var` (or the corresponding methods).\n",
    "Since you generate random numbers, the result will be slightly different each time you run your code.\n",
    "For debugging and testing purposes you should always initially set the seed of the random number generator to a fixed value by typing\n",
    "\n",
    "    np.random.seed(0)\n",
    "    \n",
    "**Task**: Set the random number seed to 0 and repeat the generation of `X` as well as the computation of the *mean* and the *variance*. Compare your results with those of your colleagues."
   ]
  },
  {
   "cell_type": "code",
   "execution_count": 21,
   "metadata": {
    "deletable": false,
    "nbgrader": {
     "cell_type": "code",
     "checksum": "153d48f7f0c958e3980f6718276c0f0d",
     "grade": false,
     "grade_id": "cell-025766ec0d808ecf",
     "locked": false,
     "schema_version": 3,
     "solution": true,
     "task": false
    }
   },
   "outputs": [
    {
     "name": "stdout",
     "output_type": "stream",
     "text": [
      "Columnwise mean:  [ 0.12574572  0.06527791 -0.09834263  0.3218424 ]\n",
      "Columnwise variance:  [1.52615915 1.07103582 0.59718157 0.84903403]\n"
     ]
    }
   ],
   "source": [
    "# YOUR CODE HERE\n",
    "np.random.seed(0)\n",
    "X=np.random.randn(40,4)\n",
    "print(\"Columnwise mean: \", np.mean(X, axis=0))\n",
    "print(\"Columnwise variance: \", np.var(X, axis=0))"
   ]
  },
  {
   "attachments": {},
   "cell_type": "markdown",
   "metadata": {},
   "source": [
    "### Part C: Introduction Plots"
   ]
  },
  {
   "attachments": {},
   "cell_type": "markdown",
   "metadata": {},
   "source": [
    "This exercise introduces to you some important plot routines.\n",
    "The package `matplotlib` is one of the most popular modules in this context.\n",
    "It provides similar functionality as *MATLAB*, and is fairly user-friendly.\n",
    "You can import the core module `pyplot` by\n",
    "    \n",
    "    import matplotlib.pyplot as plt\n",
    "    \n",
    "You can find more information and a nice tutorial under\n",
    "https://realpython.com/python-matplotlib-guide/\n"
   ]
  },
  {
   "cell_type": "code",
   "execution_count": 22,
   "metadata": {},
   "outputs": [],
   "source": [
    "import matplotlib.pyplot as plt"
   ]
  },
  {
   "attachments": {},
   "cell_type": "markdown",
   "metadata": {},
   "source": [
    "**Task**: Create a vector `x` (here as a numpy array)\n",
    "\n",
    "    x = np.linspace(-5,5,101)\n",
    "    \n",
    "that partitions the interval $[−5, 5]$ into 101 equidistant points. Compute $y = x^2$ as well as $z = x^3$.\n",
    "The commands\n",
    "\n",
    "    plt.plot(x,y)\n",
    "    plt.show()\n",
    "    \n",
    "create a simple plot of the function $y = f(x) = x^2$.\n",
    "In contrast to MATLAB, python does not create a new figure each time you call `plt.plot`.\n",
    "Python tries to plot everthing into one figure until one finally calls plt.show().\n",
    "\n",
    "**Task**: Try to plot both functions $y(x)$ and $z(x)$\n",
    "in one figure.\n",
    "\n",
    "You can beautify the plot by setting axes labels as well as choose a suitable title. Test this by including the lines\n",
    "\n",
    "    plt.xlabel('x')\n",
    "    plt.ylabel('f(x)')\n",
    "    plt.title('Example functions')\n",
    "\n",
    "into your code cell.\n",
    "It is important to do this before you finally call `plt.show()`."
   ]
  },
  {
   "cell_type": "code",
   "execution_count": 23,
   "metadata": {
    "deletable": false,
    "nbgrader": {
     "cell_type": "code",
     "checksum": "60a2f666c2fe97c37f7cf7fdafcc648a",
     "grade": false,
     "grade_id": "cell-da73f07b588384aa",
     "locked": false,
     "schema_version": 3,
     "solution": true,
     "task": false
    }
   },
   "outputs": [
    {
     "data": {
      "text/plain": [
       "Text(0.5, 1.0, 'Example functions')"
      ]
     },
     "execution_count": 23,
     "metadata": {},
     "output_type": "execute_result"
    },
    {
     "data": {
      "image/png": "[encoded data removed]",
      "text/plain": [
       "<Figure size 640x480 with 1 Axes>"
      ]
     },
     "metadata": {},
     "output_type": "display_data"
    }
   ],
   "source": [
    "# YOUR CODE HERE\n",
    "x = np.linspace(-5,5,101)\n",
    "y = x**2\n",
    "z = x**3\n",
    "plt.plot(x,y)\n",
    "plt.plot(x,z)\n",
    "plt.xlabel('x')\n",
    "plt.ylabel('f(x)')\n",
    "plt.title('Example functions')"
   ]
  },
  {
   "attachments": {},
   "cell_type": "markdown",
   "metadata": {},
   "source": [
    "Now we want to plot the bivariate function\n",
    "\n",
    "$$\n",
    "f(x,y) = e^{−(x^2 +y^2)}.\n",
    "$$\n",
    "\n",
    "**Task**: Execute the following code and try to figure out what it is doing."
   ]
  },
  {
   "cell_type": "code",
   "execution_count": 24,
   "metadata": {},
   "outputs": [
    {
     "data": {
      "image/png": "[encoded data removed]",
      "text/plain": [
       "<Figure size 640x480 with 1 Axes>"
      ]
     },
     "metadata": {},
     "output_type": "display_data"
    }
   ],
   "source": [
    "from matplotlib import cm\n",
    "\n",
    "# Generate a 1 dimensional array ...\n",
    "z = np.linspace(-3, 3, 201)\n",
    "\n",
    "# ... and use this to create a mesh grid\n",
    "x, y = np.meshgrid(z, z)\n",
    "\n",
    "# Now, we can compute the function values f(x,y)\n",
    "f = np.exp(-(np.power(x,2) + np.power(y,2)))\n",
    "\n",
    "# The following command opens a new figure\n",
    "fig = plt.figure()\n",
    "\n",
    "# The next command determines the 3d type\n",
    "ax = plt.axes(projection='3d')\n",
    "\n",
    "# Generate a surface plot of the function\n",
    "ax.plot_surface(x,y,f, cmap=cm.coolwarm)\n",
    "\n",
    "# And finally show the plot (this is actually not necessary in Jupyter)\n",
    "plt.show()"
   ]
  },
  {
   "attachments": {},
   "cell_type": "markdown",
   "metadata": {},
   "source": [
    "**Task**: Create a contour plot of the function\n",
    "\n",
    "$$\n",
    "g(x,y) = \\sin(3 \\,x)\\,  \\cos(2 \\, y)\n",
    "$$\n",
    "\n",
    "using the function `plt.contour` or `plt.contourf`."
   ]
  },
  {
   "cell_type": "code",
   "execution_count": 25,
   "metadata": {
    "deletable": false,
    "nbgrader": {
     "cell_type": "code",
     "checksum": "5b72a2fbac9dbc54823dfec3b1860058",
     "grade": false,
     "grade_id": "cell-4dbdb8c867345b71",
     "locked": false,
     "schema_version": 3,
     "solution": true,
     "task": false
    }
   },
   "outputs": [
    {
     "data": {
      "image/png": "[encoded data removed]",
      "text/plain": [
       "<Figure size 640x480 with 1 Axes>"
      ]
     },
     "metadata": {},
     "output_type": "display_data"
    }
   ],
   "source": [
    "# YOUR CODE HERE\n",
    "f = np.sin(3*x) * np.cos(2*y)\n",
    "fig = plt.figure\n",
    "plt.contourf(x,y,f)\n",
    "plt.show()"
   ]
  },
  {
   "attachments": {},
   "cell_type": "markdown",
   "metadata": {},
   "source": [
    "### Part D: Dice example"
   ]
  },
  {
   "attachments": {},
   "cell_type": "markdown",
   "metadata": {},
   "source": [
    "We revisit the example of rolling a dice from the first lecture.\n",
    "\n",
    "**Task**: Create a numpy array containing the value of `n` realizations of a random variable $X_1$ with $\\Omega=\\{ 1, 2, 3, 4, 5, 6 \\}$ and \n",
    "\n",
    "$$\n",
    "P(X_1=1) = P(X_1=2) = \\dots = P(X_1=6) = \\frac{1}{6}\n",
    "$$\n",
    "\n",
    "using the functions `np.random.rand`, `np.ones`, and `np.round`.\n",
    "\n",
    "Set `n=100` using the random seed `np.random.seed(0)` and verify that the mean of the array is $3.3$. You should also observe that the mean converges to $3.5$ as you increase `n`."
   ]
  },
  {
   "cell_type": "code",
   "execution_count": null,
   "metadata": {
    "deletable": false,
    "nbgrader": {
     "cell_type": "code",
     "checksum": "201f59a9cb46a95a73c4cf71a5d29269",
     "grade": false,
     "grade_id": "cell-8a503d5b73e25381",
     "locked": false,
     "schema_version": 3,
     "solution": true,
     "task": false
    }
   },
   "outputs": [],
   "source": [
    "np.random.seed(0)\n",
    "# YOUR CODE HERE\n",
    "raise NotImplementedError()"
   ]
  },
  {
   "attachments": {},
   "cell_type": "markdown",
   "metadata": {},
   "source": [
    "**Task:** Now create a second array containing the outcome of another `n` dice throws and consider the sum of both arrays and name it `dices`. Verify that the entries of `dices` are no smaller than $2$ and no larger than $12$.\n",
    "\n"
   ]
  },
  {
   "cell_type": "code",
   "execution_count": null,
   "metadata": {
    "deletable": false,
    "nbgrader": {
     "cell_type": "code",
     "checksum": "c4381a28c59ef544832ada5c4bb93543",
     "grade": false,
     "grade_id": "cell-f118517c9613183a",
     "locked": false,
     "schema_version": 3,
     "solution": true,
     "task": false
    }
   },
   "outputs": [],
   "source": [
    "# YOUR CODE HERE\n",
    "raise NotImplementedError()"
   ]
  },
  {
   "attachments": {},
   "cell_type": "markdown",
   "metadata": {},
   "source": [
    "If you have done everything correctly, the cell below should now create a histogram plot of the `n` outcomes of the random variable $X_2: \\Omega \\times \\Omega \\rightarrow B$ with $X_2((n_1, n_2)) = n_1 + n_2$.\n",
    "\n",
    "**Task:** Increase the number `n` and re-run the two cells above as well as the one cell below. What do you observe in the histogram?"
   ]
  },
  {
   "cell_type": "code",
   "execution_count": null,
   "metadata": {},
   "outputs": [],
   "source": [
    "# Generate a histogram plot with one bin for each obtained outcome\n",
    "plt.hist(dices, int(max(dices)) - int(min(dices)) + 1)\n",
    "# Show the plot\n",
    "plt.show()"
   ]
  },
  {
   "attachments": {},
   "cell_type": "markdown",
   "metadata": {},
   "source": [
    "### Optional Task : "
   ]
  },
  {
   "attachments": {},
   "cell_type": "markdown",
   "metadata": {},
   "source": [
    "Given that we have a set of (independent) random variables $X_1$ up to $X_n$ with identical distribution with existing expectation and variance.\n",
    "We want to visualize that the sum $S_n := X_1 + ... + X_n$ is approximately distributed like a normal distribution (it converges for $n\\to\\infty$).\n",
    "\n",
    "**Task:** Create an $m\\times n$-array `samples` with each of it's $m$ samples is of size $n$.\n",
    "Fill each sample with realizations of a discrete uniform distributed random variable with outcomes $\\lbrace 1,2,\\dots,9 \\rbrace$.\n",
    "Create an array `sum` which contains the sum of each row of `samples`.\n"
   ]
  },
  {
   "cell_type": "code",
   "execution_count": null,
   "metadata": {
    "deletable": false,
    "nbgrader": {
     "cell_type": "code",
     "checksum": "d8da744b14127a8292e3a58dd53ce64c",
     "grade": false,
     "grade_id": "cell-66ad44534ad293cf",
     "locked": false,
     "schema_version": 3,
     "solution": true,
     "task": false
    }
   },
   "outputs": [],
   "source": [
    "np.random.seed(0)\n",
    "\n",
    "# size of samples\n",
    "n = 10\n",
    "# number of samples\n",
    "m = 100000\n",
    "\n",
    "# YOUR CODE HERE\n",
    "raise NotImplementedError()\n"
   ]
  },
  {
   "attachments": {},
   "cell_type": "markdown",
   "metadata": {},
   "source": [
    "Our next goal is to draw a histogram of `sum` and the belonging probability density function of the normal distribution (also known as bell-curve) in the same figure.\n",
    "\n",
    "**Task:** Get the sample-mean and the sample-variance of `sum` and use it to draw the belongig bell-curve:\n",
    "\n",
    "$$\n",
    "f(x) = \\frac{1}{\\sqrt{2\\pi\\sigma^2}} \\mathrm{e}^{-\\frac{(x-\\mu)^2}{2\\sigma^2}}\n",
    "$$"
   ]
  },
  {
   "cell_type": "code",
   "execution_count": null,
   "metadata": {
    "deletable": false,
    "nbgrader": {
     "cell_type": "code",
     "checksum": "f1514145d7477374fe7f43bffc90d9b9",
     "grade": false,
     "grade_id": "cell-b7c9124b37f84f16",
     "locked": false,
     "schema_version": 3,
     "solution": true,
     "task": false
    }
   },
   "outputs": [],
   "source": [
    "# x is the domain of f we are interested in\n",
    "x = np.arange(int(min(sum)), int(max(sum)) + 1)\n",
    "\n",
    "# YOUR CODE HERE\n",
    "raise NotImplementedError()"
   ]
  },
  {
   "attachments": {},
   "cell_type": "markdown",
   "metadata": {},
   "source": [
    "**Task:** Plot now the histogram and the bell-curve in the same figure.\n",
    "\n",
    "(Hint: Use density=True in plt.hist)"
   ]
  },
  {
   "cell_type": "code",
   "execution_count": null,
   "metadata": {
    "deletable": false,
    "nbgrader": {
     "cell_type": "code",
     "checksum": "3a33f3f776a64bdca164da9ae03e4a93",
     "grade": false,
     "grade_id": "cell-754ba9373f79396b",
     "locked": false,
     "schema_version": 3,
     "solution": true,
     "task": false
    }
   },
   "outputs": [],
   "source": [
    "# YOUR CODE HERE\n",
    "raise NotImplementedError()"
   ]
  }
 ],
 "metadata": {
  "kernelspec": {
   "display_name": "Python 3 (ipykernel)",
   "language": "python",
   "name": "python3"
  },
  "language_info": {
   "codemirror_mode": {
    "name": "ipython",
    "version": 3
   },
   "file_extension": ".py",
   "mimetype": "text/x-python",
   "name": "python",
   "nbconvert_exporter": "python",
   "pygments_lexer": "ipython3",
   "version": "3.13.0"
  },
  "vscode": {
   "interpreter": {
    "hash": "64f66822a0f77c79a13345922a004189662baff35ab326d8d7e9a08c27c4bee1"
   }
  }
 },
 "nbformat": 4,
 "nbformat_minor": 4
}
