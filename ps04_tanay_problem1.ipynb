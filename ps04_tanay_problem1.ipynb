{
 "cells": [
  {
   "cell_type": "markdown",
   "metadata": {},
   "source": [
    "# Introduction to Data Science"
   ]
  },
  {
   "cell_type": "markdown",
   "metadata": {},
   "source": [
    "Before you hand this problem in, make sure everything runs as expected. You should **restart the kernel and run all cells** by selecting \n",
    "\n",
    "`Kernel --> Restart Kernel and Run All Cells`\n",
    "\n",
    "in the menubar.\n",
    "\n",
    "- Of course, you should use **an appropriate kernel** on the Jupyterhub of the math department or locally, so that the right modules are used and the calculations can be checked deterministically.  \n",
    "- Make sure you fill in any place that says `YOUR CODE HERE` or \"YOUR ANSWER HERE\".\n",
    "- Rename this problem sheet as follows:\n",
    "\n",
    "      ps{number of lab}_{your user name}_problem{number of problem sheet in this lab}\n",
    "    \n",
    "  for example\n",
    "    \n",
    "      ps04_blja_problem1\n",
    "    \n",
    "- Please fill out the cell below for **every submission**.\n",
    "\n",
    "**Change in submission of files**: Please upload this submission until next Tuesday to your shared Nextcloud [https://tuc.cloud/](https://tuc.cloud/) directory with the name of your username which has been created during the third exercise lab.\n",
    "If you have not yet been assigned to a shared Nextcloud folder, please contact me via email (jan.blechschmidt@mathematik.tu-chemnitz.de) as soon as possible."
   ]
  },
  {
   "cell_type": "code",
   "execution_count": 1,
   "metadata": {},
   "outputs": [],
   "source": [
    "NAME = \"Tanay Maurya\"\n",
    "EMAIL = \"tanay.maurya@s2024.tu-chemnitz.de\"\n",
    "USERNAME = \"tanay@tu-chemnitz.de\""
   ]
  },
  {
   "cell_type": "markdown",
   "metadata": {},
   "source": [
    "---"
   ]
  },
  {
   "attachments": {},
   "cell_type": "markdown",
   "metadata": {
    "deletable": false,
    "editable": false,
    "nbgrader": {
     "cell_type": "markdown",
     "checksum": "c1d10555f944a7d1cf302f22ca3825f7",
     "grade": false,
     "grade_id": "cell-2c0be3d551ee40ab",
     "locked": true,
     "schema_version": 3,
     "solution": false,
     "task": false
    }
   },
   "source": [
    "# Introduction to Data Science\n",
    "## Lab 4: Further aspects of linear regression"
   ]
  },
  {
   "attachments": {},
   "cell_type": "markdown",
   "metadata": {
    "deletable": false,
    "editable": false,
    "nbgrader": {
     "cell_type": "markdown",
     "checksum": "6c4344f7c14157f80995777e849d035d",
     "grade": false,
     "grade_id": "cell-6e6033c0dc952d4a",
     "locked": true,
     "schema_version": 3,
     "solution": false,
     "task": false
    }
   },
   "source": [
    "### Part A - Limitations of the t-test"
   ]
  },
  {
   "attachments": {},
   "cell_type": "markdown",
   "metadata": {
    "deletable": false,
    "editable": false,
    "nbgrader": {
     "cell_type": "markdown",
     "checksum": "c656db423322338bd84399e2dc28bf8f",
     "grade": false,
     "grade_id": "cell-6e50608863f3b9af",
     "locked": true,
     "schema_version": 3,
     "solution": false,
     "task": false
    }
   },
   "source": [
    "In this notebook, we investigate the limitations of a single-variable **t-test** for the predictor coefficients $\\beta$ in a linear regression setting.\n",
    "Recall the following statements from the lecture:\n",
    "* Does a single small $p$-value indicate at least one variable relevant? No.\n",
    "* Example: $p=100$, $H_0 : \\beta_1 = \\dots = \\beta_p = 0$ true. Then by chance, $5\\%$ of $p$-values below $0.05$. Almost guaranteed that $p<0.05$ for at least one variable by chance.\n",
    "* Thus, for large $p$, looking only at $p$-values of individual $t$-statistics tends to discover spurious relationships.\n",
    "\n",
    "In what follows, we use slightly different values than in the above mentioned example, setting $n = 100$ and $p = 20$."
   ]
  },
  {
   "cell_type": "code",
   "execution_count": 2,
   "metadata": {
    "deletable": false,
    "editable": false,
    "nbgrader": {
     "cell_type": "code",
     "checksum": "20cfc0dfdc9f2f4d47ee527a4d26ba5a",
     "grade": false,
     "grade_id": "cell-9bf98be6407d8b03",
     "locked": true,
     "schema_version": 3,
     "solution": false,
     "task": false
    }
   },
   "outputs": [],
   "source": [
    "import numpy as np\n",
    "\n",
    "# Set parameters n (number of training samples) and p (number of predictor variables)\n",
    "n = 100\n",
    "p = 20"
   ]
  },
  {
   "attachments": {},
   "cell_type": "markdown",
   "metadata": {
    "deletable": false,
    "editable": false,
    "nbgrader": {
     "cell_type": "markdown",
     "checksum": "bf75f2483d2f71c28718c29c923b01a1",
     "grade": false,
     "grade_id": "cell-6d855e4e79bf6669",
     "locked": true,
     "schema_version": 3,
     "solution": false,
     "task": false
    }
   },
   "source": [
    "For this purpose, we generate random uncorrelated input and output vectors.\n",
    "\n",
    "**Task**: Write the function `drawSample` that generates **uniformly distributed** arrays of random variables\n",
    "* $X$ should be of size (n, p+1) with values in $[0,1)$; the first column is reserved for the intercept and should contain only ones\n",
    "* $y$ should be of size (n,) with values in $[-0.5,0.5)$"
   ]
  },
  {
   "cell_type": "code",
   "execution_count": 3,
   "metadata": {
    "deletable": false,
    "nbgrader": {
     "cell_type": "code",
     "checksum": "7aa585db04266dd7eea6fc43e5f75839",
     "grade": false,
     "grade_id": "cell-8b1fa66b64d265fb",
     "locked": false,
     "schema_version": 3,
     "solution": true,
     "task": false
    }
   },
   "outputs": [],
   "source": [
    "def drawSample(n,p):\n",
    "    \"\"\" This function draws a\n",
    "    sample for our experiment. \"\"\"\n",
    "    \n",
    "    # YOUR CODE HERE\n",
    "    X = np.random.rand(n,p+1)\n",
    "    X[:,0] = 1\n",
    "    y = np.random.uniform(-0.5,0.5,n)\n",
    "    return (X,y)"
   ]
  },
  {
   "cell_type": "code",
   "execution_count": 4,
   "metadata": {
    "deletable": false,
    "editable": false,
    "nbgrader": {
     "cell_type": "code",
     "checksum": "054f97fab92420b6f28b53f990dea3fb",
     "grade": true,
     "grade_id": "cell-c21e8f578a5dd23f",
     "locked": true,
     "points": 1,
     "schema_version": 3,
     "solution": false,
     "task": false
    }
   },
   "outputs": [],
   "source": [
    "assert drawSample(40,4)[0].shape == (40,5), 'Wrong shape of X'\n",
    "assert drawSample(40,4)[1].shape == (40,), 'Wrong shape of y'\n",
    "assert all(drawSample(40,4)[0][:,0]==1), 'Check the first column of X'\n",
    "assert drawSample(40,4)[1].min() > -0.5 and drawSample(40,4)[1].max() < 0.5, 'Wrong range of y'\n",
    "assert drawSample(40,4)[0].min() > 0 and drawSample(40,4)[0].max() <= 1, 'Wrong range of X'"
   ]
  },
  {
   "attachments": {},
   "cell_type": "markdown",
   "metadata": {
    "deletable": false,
    "editable": false,
    "nbgrader": {
     "cell_type": "markdown",
     "checksum": "f91710a8c5bcb85f8d2d36ec4e80ad81",
     "grade": false,
     "grade_id": "cell-6c4fe93ee7103cf8",
     "locked": true,
     "schema_version": 3,
     "solution": false,
     "task": false
    }
   },
   "source": [
    "The following function computes single-variable t-statistics for the model\n",
    "$$ y \\approx X \\beta $$\n",
    "whose parameters $\\beta \\in \\mathbb{R}^{p+1}$ are estimated via\n",
    "$$ \\hat \\beta = (X^\\top X)^{-1} X^\\top y. $$\n",
    "\n",
    "**Task:** Extend the function `printTStatistic`. It should **return the proportion of significant predictor variables** at a certain threshold `p_threshold`. "
   ]
  },
  {
   "cell_type": "code",
   "execution_count": 5,
   "metadata": {
    "deletable": false,
    "nbgrader": {
     "cell_type": "code",
     "checksum": "052f3824b4270f1475ef908cf755e533",
     "grade": true,
     "grade_id": "cell-888372a43aa00783",
     "locked": false,
     "points": 1,
     "schema_version": 3,
     "solution": true,
     "task": false
    }
   },
   "outputs": [],
   "source": [
    "from scipy.stats import t\n",
    "\n",
    "def printTStatistic(X, y, p_threshold = 0.10, print_table=True):\n",
    "    n, m = X.shape\n",
    "    p = m - 1\n",
    "\n",
    "    # Invert X^T * X\n",
    "    V = np.linalg.inv((X.T).dot(X))\n",
    "    \n",
    "\n",
    "    # Compute regression coefficients beta\n",
    "    beta = V.dot( X.T.dot(y) )\n",
    "\n",
    "    # Extract diagonal of matrix (X^T * X)^-1\n",
    "    v = V.diagonal()\n",
    "\n",
    "    # Predict y using beta\n",
    "    y_pred = X.dot(beta)\n",
    "\n",
    "    # Compute estimate of sigma\n",
    "    sigma_hat = np.sqrt( 1./(n-p-1) * np.power(y - y_pred,2).sum() )\n",
    "\n",
    "    # Compute the standard errors\n",
    "    SE = np.sqrt(v) * sigma_hat\n",
    "\n",
    "    # Compute the values of the t-statistic\n",
    "    t_vals = beta / SE\n",
    "\n",
    "    # Compute the corresponding p values\n",
    "    p_vals = 2*t.cdf(-np.absolute(t_vals), n-p-1)\n",
    "\n",
    "    if print_table:\n",
    "        \n",
    "        # Print header\n",
    "        print('|  Coefficient  | Estimate |    SE    | t-statistic |  p-value  | p < %4.2f |' % p_threshold)\n",
    "        print('----------------------------------------------------------------------------')\n",
    "        \n",
    "        # Print \n",
    "        for i in range(p+1):\n",
    "            pval = p_vals[i]\n",
    "            if pval < 0.0001:\n",
    "                pval_str = '< 0.0001'\n",
    "            else:\n",
    "                pval_str = '  %5.4f' % pval\n",
    "            print('|    beta_%02d    |  %6.3f  |  %6.4f  |    %5.2f    | %s  |     %d    |' % (i, beta[i], SE[i], t_vals[i], pval_str, pval < p_threshold))\n",
    "    \n",
    "    # YOUR CODE HERE\n",
    "    significant_count = np.sum(p_vals < p_threshold)\n",
    "    proportion_significant = significant_count/(p)\n",
    "    return proportion_significant"
   ]
  },
  {
   "attachments": {},
   "cell_type": "markdown",
   "metadata": {
    "deletable": false,
    "editable": false,
    "nbgrader": {
     "cell_type": "markdown",
     "checksum": "542916d0faa0dece8cf62c87fdef348b",
     "grade": false,
     "grade_id": "cell-982d858d0c6e6425",
     "locked": true,
     "schema_version": 3,
     "solution": false,
     "task": false
    }
   },
   "source": [
    "Now, we want to find out, how many predictor variables are statistically significant for a threshold of $0.10$ in our setting with `n = 100` and `p = 20`.\n",
    "\n",
    "**Task**: Test the function `printTStatistic` using an example drawn with your function `drawSample`. Execute the cell multiple times (by hitting `Ctrl + Enter`)."
   ]
  },
  {
   "cell_type": "code",
   "execution_count": 6,
   "metadata": {
    "deletable": false,
    "nbgrader": {
     "cell_type": "code",
     "checksum": "7e24ae0ba1409b728f705385c3b77c28",
     "grade": true,
     "grade_id": "cell-92e5e11d02c2543d",
     "locked": false,
     "points": 1,
     "schema_version": 3,
     "solution": true,
     "task": false
    }
   },
   "outputs": [
    {
     "name": "stdout",
     "output_type": "stream",
     "text": [
      "|  Coefficient  | Estimate |    SE    | t-statistic |  p-value  | p < 0.10 |\n",
      "----------------------------------------------------------------------------\n",
      "|    beta_00    |  -0.229  |  0.2669  |    -0.86    |   0.3931  |     0    |\n",
      "|    beta_01    |   0.215  |  0.1111  |     1.93    |   0.0567  |     1    |\n",
      "|    beta_02    |  -0.106  |  0.1079  |    -0.98    |   0.3287  |     0    |\n",
      "|    beta_03    |  -0.114  |  0.1107  |    -1.03    |   0.3082  |     0    |\n",
      "|    beta_04    |  -0.084  |  0.1011  |    -0.83    |   0.4099  |     0    |\n",
      "|    beta_05    |  -0.037  |  0.1164  |    -0.32    |   0.7528  |     0    |\n",
      "|    beta_06    |   0.027  |  0.1144  |     0.24    |   0.8107  |     0    |\n",
      "|    beta_07    |   0.083  |  0.1160  |     0.71    |   0.4790  |     0    |\n",
      "|    beta_08    |  -0.036  |  0.1067  |    -0.34    |   0.7381  |     0    |\n",
      "|    beta_09    |  -0.027  |  0.1125  |    -0.24    |   0.8108  |     0    |\n",
      "|    beta_10    |  -0.120  |  0.1099  |    -1.09    |   0.2770  |     0    |\n",
      "|    beta_11    |  -0.115  |  0.1116  |    -1.03    |   0.3065  |     0    |\n",
      "|    beta_12    |   0.063  |  0.1089  |     0.58    |   0.5632  |     0    |\n",
      "|    beta_13    |   0.171  |  0.1030  |     1.66    |   0.1009  |     0    |\n",
      "|    beta_14    |   0.115  |  0.1151  |     1.00    |   0.3225  |     0    |\n",
      "|    beta_15    |  -0.013  |  0.1019  |    -0.13    |   0.8990  |     0    |\n",
      "|    beta_16    |   0.050  |  0.1103  |     0.45    |   0.6537  |     0    |\n",
      "|    beta_17    |   0.017  |  0.1040  |     0.17    |   0.8679  |     0    |\n",
      "|    beta_18    |  -0.067  |  0.1115  |    -0.60    |   0.5479  |     0    |\n",
      "|    beta_19    |   0.283  |  0.1079  |     2.62    |   0.0104  |     1    |\n",
      "|    beta_20    |   0.052  |  0.1158  |     0.45    |   0.6567  |     0    |\n"
     ]
    }
   ],
   "source": [
    "# YOUR CODE HERE\n",
    "n = 100\n",
    "p = 20\n",
    "X,y = drawSample(n,p)\n",
    "printTStatistic(X, y, p_threshold=0.10);"
   ]
  },
  {
   "attachments": {},
   "cell_type": "markdown",
   "metadata": {
    "deletable": false,
    "editable": false,
    "nbgrader": {
     "cell_type": "markdown",
     "checksum": "9c808d6b5339ed279a2596f4403335b9",
     "grade": false,
     "grade_id": "cell-0ada6a2275e9f16e",
     "locked": true,
     "schema_version": 3,
     "solution": false,
     "task": false
    }
   },
   "source": [
    "**Task**: Write a small script that carries out the experiment `1000` times and computes the mean proportion of significant values in our experiment. It should be around `p_threshold`.\n",
    "\n",
    "**Hint 1**: Use the keyword argument `print_table` of the function `printTStatistic` to suppress the printing of the tables.\n",
    "\n",
    "**Hint 2**: You can collect the returned values in a list initialized by `vals = []`. You can append a new value `new_val` using `vals.append(new_val)`. You can also use a `numpy.array` initialized with proper size."
   ]
  },
  {
   "cell_type": "code",
   "execution_count": 7,
   "metadata": {
    "deletable": false,
    "nbgrader": {
     "cell_type": "code",
     "checksum": "e7d2eff96689491da971484e4e87d239",
     "grade": true,
     "grade_id": "cell-900fd83ad0f07f69",
     "locked": false,
     "points": 2,
     "schema_version": 3,
     "solution": true,
     "task": false
    }
   },
   "outputs": [
    {
     "name": "stdout",
     "output_type": "stream",
     "text": [
      "Mean proportion of significant predictors (over 1000 runs): 0.1000\n"
     ]
    }
   ],
   "source": [
    "# YOUR CODE HERE\n",
    "runs = 1000\n",
    "vals = []\n",
    "for i in range(runs):\n",
    "    new_val = printTStatistic(X, y, p_threshold = 0.10, print_table = False)\n",
    "    vals.append(new_val)\n",
    "mean_significant_values = np.mean(vals)\n",
    "print(f\"Mean proportion of significant predictors (over {runs} runs): {mean_significant_values:.4f}\")"
   ]
  },
  {
   "attachments": {},
   "cell_type": "markdown",
   "metadata": {
    "deletable": false,
    "editable": false,
    "nbgrader": {
     "cell_type": "markdown",
     "checksum": "675c9b37600859028ebb0c7ebf7402e0",
     "grade": false,
     "grade_id": "cell-ade74e5fc814e08d",
     "locked": true,
     "schema_version": 3,
     "solution": false,
     "task": false
    }
   },
   "source": [
    "### Part B: Nonlinear regression"
   ]
  },
  {
   "attachments": {},
   "cell_type": "markdown",
   "metadata": {
    "deletable": false,
    "editable": false,
    "nbgrader": {
     "cell_type": "markdown",
     "checksum": "ab2e602d57345d3a1be8381c9438d1a3",
     "grade": false,
     "grade_id": "cell-56275c08b9d03356",
     "locked": true,
     "schema_version": 3,
     "solution": false,
     "task": false
    }
   },
   "source": [
    "The goal of this problem is to approximate given data points $(x_i,y_i)$ for $i=1,\\ldots,n$ by polynomials of degree $p$.\n",
    "This can be done by solving the linear regression problem:\n",
    "\n",
    "$$\n",
    " y_i \\approx \\beta_0 + \\beta_1 \\, x_i + \\beta_2 \\, x_i^2 + \\ldots + \\beta_p \\, x_i^p\n",
    "$$\n",
    "\n",
    "By splitting our data into a training and test data set, we want to graphically illustrate the problem of overfitting."
   ]
  },
  {
   "attachments": {},
   "cell_type": "markdown",
   "metadata": {
    "deletable": false,
    "editable": false,
    "nbgrader": {
     "cell_type": "markdown",
     "checksum": "f31b01b4889c82cd5383e7e54c083fcd",
     "grade": false,
     "grade_id": "cell-160b12607c089949",
     "locked": true,
     "schema_version": 3,
     "solution": false,
     "task": false
    }
   },
   "source": [
    "**Task**: Define the 'unknown' function\n",
    "\n",
    "$$\n",
    "f(x) = \\sin(10 \\, x) + 5 \\, \\cos(3 \\, x)\n",
    "$$\n",
    "\n",
    "using `numpy`."
   ]
  },
  {
   "cell_type": "code",
   "execution_count": 8,
   "metadata": {
    "deletable": false,
    "nbgrader": {
     "cell_type": "code",
     "checksum": "57cbeb5aec80bf01037439faa3650392",
     "grade": false,
     "grade_id": "cell-f885a94e9c772a30",
     "locked": false,
     "schema_version": 3,
     "solution": true,
     "task": false
    }
   },
   "outputs": [],
   "source": [
    "import numpy as np\n",
    "\n",
    "# Define the 'unknown' function f\n",
    "# YOUR CODE HERE\n",
    "def f(x):\n",
    "    return np.sin(10 * x) + 5 * np.cos(3 * x)"
   ]
  },
  {
   "cell_type": "code",
   "execution_count": 9,
   "metadata": {
    "deletable": false,
    "editable": false,
    "nbgrader": {
     "cell_type": "code",
     "checksum": "04ce35def95374efc148afb1a6db84e9",
     "grade": true,
     "grade_id": "cell-97535adf15a536a9",
     "locked": true,
     "points": 1,
     "schema_version": 3,
     "solution": false,
     "task": false
    }
   },
   "outputs": [],
   "source": [
    "assert(np.abs(f(np.pi)+5) < 1e-8)\n",
    "assert(np.abs(f(np.pi/2)) < 1e-8)"
   ]
  },
  {
   "attachments": {},
   "cell_type": "markdown",
   "metadata": {
    "deletable": false,
    "editable": false,
    "nbgrader": {
     "cell_type": "markdown",
     "checksum": "e230df4127b89855d831e0c900a7b70c",
     "grade": false,
     "grade_id": "cell-07c30dcca25eb800",
     "locked": true,
     "schema_version": 3,
     "solution": false,
     "task": false
    }
   },
   "source": [
    "**Task**: Generate a uniformly distributed random vector `x` of size `n = 200`."
   ]
  },
  {
   "cell_type": "code",
   "execution_count": 10,
   "metadata": {
    "deletable": false,
    "nbgrader": {
     "cell_type": "code",
     "checksum": "27a8aca60ea1224422f2aee65d4f5e72",
     "grade": false,
     "grade_id": "cell-a3beb882c6199b0e",
     "locked": false,
     "schema_version": 3,
     "solution": true,
     "task": false
    }
   },
   "outputs": [],
   "source": [
    "# Set random seed to make random variables 'predictable'\n",
    "np.random.seed(0)\n",
    "\n",
    "# Generate uniformly distributed data samples over [0,1)\n",
    "# YOUR CODE HERE\n",
    "n= 200\n",
    "x = np.random.rand(n)"
   ]
  },
  {
   "cell_type": "code",
   "execution_count": 11,
   "metadata": {
    "deletable": false,
    "editable": false,
    "nbgrader": {
     "cell_type": "code",
     "checksum": "e2fb7ea14d7cca19cd3822c6b3b66e10",
     "grade": true,
     "grade_id": "cell-1c0f265beb29c4ea",
     "locked": true,
     "points": 1,
     "schema_version": 3,
     "solution": false,
     "task": false
    }
   },
   "outputs": [],
   "source": [
    "assert n == 200\n",
    "assert x.shape == (200,)"
   ]
  },
  {
   "attachments": {},
   "cell_type": "markdown",
   "metadata": {
    "deletable": false,
    "editable": false,
    "nbgrader": {
     "cell_type": "markdown",
     "checksum": "a2ac7f1d0a779b41b48dd0f4b907cfc2",
     "grade": false,
     "grade_id": "cell-3b0982ae444d1c27",
     "locked": true,
     "schema_version": 3,
     "solution": false,
     "task": false
    }
   },
   "source": [
    "**Task**: Determine the vector `y` in the following way\n",
    "\n",
    "$$\n",
    "y_i = f(x_i) + \\varepsilon \\, \\eta_i\n",
    "$$\n",
    "\n",
    "with $\\eta_i$ standard-normally distributed and $\\varepsilon = 1$."
   ]
  },
  {
   "cell_type": "code",
   "execution_count": 12,
   "metadata": {
    "deletable": false,
    "nbgrader": {
     "cell_type": "code",
     "checksum": "8a13460794c88d0d71743504633bc9e8",
     "grade": false,
     "grade_id": "cell-a98eacb6c66093ab",
     "locked": false,
     "schema_version": 3,
     "solution": true,
     "task": false
    }
   },
   "outputs": [],
   "source": [
    "# YOUR CODE HERE\n",
    "epsilon = 1\n",
    "f_x = f(x)\n",
    "n_i = np.random.randn(n)\n",
    "y = f_x + epsilon * n_i"
   ]
  },
  {
   "cell_type": "code",
   "execution_count": 13,
   "metadata": {
    "deletable": false,
    "editable": false,
    "nbgrader": {
     "cell_type": "code",
     "checksum": "1e9025b854f5764d06c85a6b30bda6b7",
     "grade": true,
     "grade_id": "cell-f632b8c0c5988c29",
     "locked": true,
     "points": 1,
     "schema_version": 3,
     "solution": false,
     "task": false
    }
   },
   "outputs": [],
   "source": [
    "assert y.shape == (200,)"
   ]
  },
  {
   "attachments": {},
   "cell_type": "markdown",
   "metadata": {
    "deletable": false,
    "editable": false,
    "nbgrader": {
     "cell_type": "markdown",
     "checksum": "e7f39ca5dfaa2340c8def43af64ed1ba",
     "grade": false,
     "grade_id": "cell-e0628aef205798bf",
     "locked": true,
     "schema_version": 3,
     "solution": false,
     "task": false
    }
   },
   "source": [
    "**Task**: Generate one figure with the following data:\n",
    "* mark the **data points** $(x_i,y_i)$ as black circles\n",
    "* draw the **population line** (the line representing the *unknown* function $f$) as a red solid line\n",
    "* draw the **regression line** for a fitted polynomial with polynomial degree `p = 20` as a blue dashed line\n",
    "* add a legend to your plot with proper labels\n",
    "\n",
    "**Hint**: You can use the function `np.polynomial.Polynomial.fit()` to determine a regression model. This regression model contains a method `linspace()` which can be used to plot a regression line."
   ]
  },
  {
   "cell_type": "code",
   "execution_count": 14,
   "metadata": {
    "deletable": false,
    "nbgrader": {
     "cell_type": "code",
     "checksum": "d8a3a96894091b4fda3cf4bab166c598",
     "grade": true,
     "grade_id": "cell-374277908e484443",
     "locked": false,
     "points": 4,
     "schema_version": 3,
     "solution": true,
     "task": false
    }
   },
   "outputs": [
    {
     "data": {
      "image/png": "[encoded data removed]",
      "text/plain": [
       "<Figure size 1500x800 with 1 Axes>"
      ]
     },
     "metadata": {},
     "output_type": "display_data"
    }
   ],
   "source": [
    "import matplotlib.pyplot as plt\n",
    "plt.rcParams['figure.figsize'] = (15,8)\n",
    "\n",
    "fig = plt.figure(1, clear = True)\n",
    "\n",
    "# YOUR CODE HERE\n",
    "p = 20\n",
    "poly_fit = np.polynomial.Polynomial.fit(x, y, p)\n",
    "\n",
    "x_fit = np.linspace(0, 1,500)\n",
    "y_fit = poly_fit(x_fit)\n",
    "\n",
    "\n",
    "plt.scatter(x, y, color='black', label='Data points',zorder=5)\n",
    "plt.plot(x_fit, f(x_fit), color='red', label ='Population Line', lw=2)\n",
    "plt.plot(x_fit, y_fit, color='blue', linestyle='--', label ='Regression Line',lw=3)\n",
    "plt.xlabel('x')\n",
    "plt.ylabel('y')\n",
    "plt.title('Polynomial Regression Fit and Population Function')\n",
    "plt.legend();"
   ]
  },
  {
   "attachments": {},
   "cell_type": "markdown",
   "metadata": {
    "deletable": false,
    "editable": false,
    "nbgrader": {
     "cell_type": "markdown",
     "checksum": "1ca7f33500a62feff146a47a7621c95e",
     "grade": false,
     "grade_id": "cell-c482bc8c1c9bf128",
     "locked": true,
     "schema_version": 3,
     "solution": false,
     "task": false
    }
   },
   "source": [
    "Split the dataset $(x,y)$ into a training and test set using `np.split`\n",
    "- the training set should contain `ntrain` samples\n",
    "- the test set should contain `n - ntrain` samples\n",
    "\n",
    "Choose `ntrain = 80`."
   ]
  },
  {
   "cell_type": "code",
   "execution_count": 37,
   "metadata": {
    "deletable": false,
    "nbgrader": {
     "cell_type": "code",
     "checksum": "65986c9c8b187b17a2d3b11737c2b263",
     "grade": false,
     "grade_id": "cell-8f48e7bce19fd7cb",
     "locked": false,
     "schema_version": 3,
     "solution": true,
     "task": false
    }
   },
   "outputs": [],
   "source": [
    "# YOUR CODE HERE\n",
    "ntrain = 80\n",
    "ntest = n - ntrain\n",
    "dataset = np.column_stack((x,y))\n",
    "train_set, test_set = np.split(dataset, [ntrain])\n",
    "xtrain, ytrain = train_set[:,0], train_set[:,1]\n",
    "xtest, ytest = test_set[:,0], test_set[:,1]"
   ]
  },
  {
   "cell_type": "code",
   "execution_count": 38,
   "metadata": {
    "deletable": false,
    "editable": false,
    "nbgrader": {
     "cell_type": "code",
     "checksum": "9f830b2dbc76f335ca29798d0f0779c0",
     "grade": true,
     "grade_id": "cell-7e8109022605f809",
     "locked": true,
     "points": 1,
     "schema_version": 3,
     "solution": false,
     "task": false
    }
   },
   "outputs": [],
   "source": [
    "assert(ntrain == 80)\n",
    "assert(xtrain.shape == (80,))\n",
    "assert(xtest.shape == (120,))"
   ]
  },
  {
   "attachments": {},
   "cell_type": "markdown",
   "metadata": {},
   "source": [
    "Now we want to fit polynomial models with varying polynomial degrees $p= 0,\\ldots,20$.\n",
    "As a quality measure, we store the training MSE (mean squared error) and the test MSE."
   ]
  },
  {
   "cell_type": "code",
   "execution_count": 39,
   "metadata": {
    "deletable": false,
    "nbgrader": {
     "cell_type": "code",
     "checksum": "7d1564caeb108a57333df0d040748689",
     "grade": false,
     "grade_id": "cell-fc2d52ce5ecc280d",
     "locked": false,
     "schema_version": 3,
     "solution": true,
     "task": false
    }
   },
   "outputs": [],
   "source": [
    "def computeMSE(y, fhatx):\n",
    "    \" This function returns the mean squared error between x and y.\"\n",
    "    return np.mean(np.power(y-fhatx,2))\n",
    "\n",
    "# Initialize lists that contain test and training mean squared errors\n",
    "MSEtrain = []\n",
    "MSEtest = []\n",
    "\n",
    "# Set variable deg_range for different degrees\n",
    "# YOUR CODE HERE\n",
    "deg_range = range(0,21)\n",
    "# raise NotImplementedError()\n",
    "\n",
    "for j in deg_range:\n",
    "    \n",
    "#     # Fit polynomial of degree 'j' on training data\n",
    "#     # YOUR CODE HERE\n",
    "#     raise NotImplementedError()\n",
    "    poly_fit = np.polynomial.Polynomial.fit(xtrain, ytrain, j)\n",
    "    f_hat_xtrain = poly_fit(xtrain)\n",
    "    f_hat_xtest = poly_fit(xtest)\n",
    "#     # Append test and training mse to according list\n",
    "#     # YOUR CODE HERE\n",
    "    msetrain = computeMSE(ytrain, f_hat_xtrain)\n",
    "    msetest = computeMSE(ytest, f_hat_xtest)\n",
    "    MSEtrain.append(msetrain)\n",
    "    MSEtest.append(msetest)"
   ]
  },
  {
   "attachments": {},
   "cell_type": "markdown",
   "metadata": {
    "deletable": false,
    "editable": false,
    "nbgrader": {
     "cell_type": "markdown",
     "checksum": "59054fe3c60c4b0bd370b3d818c939b8",
     "grade": false,
     "grade_id": "cell-6f0e245c3fb999fe",
     "locked": true,
     "schema_version": 3,
     "solution": false,
     "task": false
    }
   },
   "source": [
    "**Task**: Generate one figure that contains\n",
    "- the test MSE in a semi-logarithmic plot as a blue dashed line\n",
    "- the training MSE in a semi-logarithmic plot as a red solid line\n",
    "\n",
    "against the polynomial degree.\n",
    "You should use the function `plt.semilogy` and set meaningful `label`s."
   ]
  },
  {
   "cell_type": "code",
   "execution_count": 40,
   "metadata": {
    "deletable": false,
    "nbgrader": {
     "cell_type": "code",
     "checksum": "4b2a041c05c6cc6cb6cebc1689468a8f",
     "grade": true,
     "grade_id": "cell-ca2617631310e831",
     "locked": false,
     "points": 4,
     "schema_version": 3,
     "solution": true,
     "task": false
    }
   },
   "outputs": [
    {
     "data": {
      "image/png": "[encoded data removed]",
      "text/plain": [
       "<Figure size 1500x800 with 1 Axes>"
      ]
     },
     "metadata": {},
     "output_type": "display_data"
    }
   ],
   "source": [
    "fig = plt.figure(2, clear=True)\n",
    "# YOUR CODE HERE\n",
    "plt.semilogy(deg_range, MSEtrain, color='red', label='Training MSE',lw=2)\n",
    "plt.semilogy(deg_range, MSEtest, color='blue', label='Test MSE', ls='--',lw=3)\n",
    "plt.xticks(deg_range)\n",
    "plt.legend()\n",
    "plt.xlabel(\"Polynomial degree\")\n",
    "plt.ylabel(\"MSE\");"
   ]
  },
  {
   "cell_type": "code",
   "execution_count": null,
   "metadata": {},
   "outputs": [],
   "source": []
  }
 ],
 "metadata": {
  "kernelspec": {
   "display_name": "Python 3 (ipykernel)",
   "language": "python",
   "name": "python3"
  },
  "language_info": {
   "codemirror_mode": {
    "name": "ipython",
    "version": 3
   },
   "file_extension": ".py",
   "mimetype": "text/x-python",
   "name": "python",
   "nbconvert_exporter": "python",
   "pygments_lexer": "ipython3",
   "version": "3.13.0"
  }
 },
 "nbformat": 4,
 "nbformat_minor": 4
}
