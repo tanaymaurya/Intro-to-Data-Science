{
 "cells": [
  {
   "cell_type": "markdown",
   "metadata": {},
   "source": [
    "# Introduction to Data Science"
   ]
  },
  {
   "cell_type": "markdown",
   "metadata": {},
   "source": [
    "Before you hand this problem in, make sure everything runs as expected. You should **restart the kernel and run all cells** by selecting \n",
    "\n",
    "`Kernel --> Restart Kernel and Run All Cells`\n",
    "\n",
    "in the menubar.\n",
    "\n",
    "- Of course, you should use **an appropriate kernel** on the Jupyterhub of the math department or locally, so that the right modules are used and the calculations can be checked deterministically.  \n",
    "- Make sure you fill in any place that says `YOUR CODE HERE` or \"YOUR ANSWER HERE\".\n",
    "- Rename this problem sheet as follows:\n",
    "\n",
    "      ps{number of lab}_{your user name}_problem{number of problem sheet in this lab}\n",
    "    \n",
    "  for example\n",
    "    \n",
    "      ps02_blja_problem1\n",
    "    \n",
    "- Please fill out the cell below for **every submission**.\n",
    "\n",
    "**Change in submission of files**: Please upload this submission until next Tuesday to your shared Nextcloud [https://tuc.cloud/](https://tuc.cloud/) directory with the name of your username which has been created during the third exercise lab.\n",
    "If you have not yet been assigned to a shared Nextcloud folder, please contact me via email (jan.blechschmidt@mathematik.tu-chemnitz.de) as soon as possible."
   ]
  },
  {
   "cell_type": "code",
   "execution_count": 2,
   "metadata": {},
   "outputs": [],
   "source": [
    "NAME = \"Tanay Maurya\"\n",
    "EMAIL = \"tanay.maurya@s2024.tu-chemnitz.de\"\n",
    "USERNAME = \"tanay@tu-chemnitz.de\""
   ]
  },
  {
   "cell_type": "markdown",
   "metadata": {},
   "source": [
    "---"
   ]
  },
  {
   "attachments": {},
   "cell_type": "markdown",
   "metadata": {
    "deletable": false,
    "editable": false,
    "nbgrader": {
     "cell_type": "markdown",
     "checksum": "c1db3b882ceb32f56a6a9644418e8421",
     "grade": false,
     "grade_id": "cell-b47b7ad681cdf966",
     "locked": true,
     "schema_version": 3,
     "solution": false,
     "task": false
    }
   },
   "source": [
    "## Lab 3: Regression"
   ]
  },
  {
   "attachments": {},
   "cell_type": "markdown",
   "metadata": {
    "deletable": false,
    "editable": false,
    "nbgrader": {
     "cell_type": "markdown",
     "checksum": "d20b8914b716e4ee08434b45d2cf8ea7",
     "grade": false,
     "grade_id": "cell-36d5a9b32a439550",
     "locked": true,
     "schema_version": 3,
     "solution": false,
     "task": false
    }
   },
   "source": [
    "The previous exercises gave an introduction to Python, Numpy and Pandas. Beginning with this exercise, we shift our focus to statistical learning itself. To this end, we will employ the module scikit-learn which offers many functions we will cover over the remaining semester."
   ]
  },
  {
   "attachments": {},
   "cell_type": "markdown",
   "metadata": {
    "deletable": false,
    "editable": false,
    "nbgrader": {
     "cell_type": "markdown",
     "checksum": "f389e52b8682872e3683a707456ed376",
     "grade": false,
     "grade_id": "cell-57c93d79027cbcac",
     "locked": true,
     "schema_version": 3,
     "solution": false,
     "task": false
    }
   },
   "source": [
    "### Part A: Linear regression for the Advertising dataset"
   ]
  },
  {
   "attachments": {},
   "cell_type": "markdown",
   "metadata": {
    "deletable": false,
    "editable": false,
    "nbgrader": {
     "cell_type": "markdown",
     "checksum": "3fef5d81a7481229060f851d45501c7d",
     "grade": false,
     "grade_id": "cell-1948a892082e1234",
     "locked": true,
     "schema_version": 3,
     "solution": false,
     "task": false
    }
   },
   "source": [
    "If not already done, please download the file [Advertising.csv](https://www.tu-chemnitz.de/mathematik/numa/lehre/ds-2019/Exercises/ps3/Advertising.csv) and move it into the current directory."
   ]
  },
  {
   "attachments": {},
   "cell_type": "markdown",
   "metadata": {},
   "source": [
    "**Task**: Import the *Advertising* dataset as `adv` using the `pandas.read_csv` function. Ensure, that the first column is treated as the index column."
   ]
  },
  {
   "cell_type": "code",
   "execution_count": 3,
   "metadata": {
    "deletable": false,
    "nbgrader": {
     "cell_type": "code",
     "checksum": "5bc404a50048cbd3310c7f72d759d89a",
     "grade": false,
     "grade_id": "cell-8d64ab6b1a68631f",
     "locked": false,
     "schema_version": 3,
     "solution": true,
     "task": false
    }
   },
   "outputs": [
    {
     "name": "stdout",
     "output_type": "stream",
     "text": [
      "      TV  radio  newspaper  sales\n",
      "1  230.1   37.8       69.2   22.1\n",
      "2   44.5   39.3       45.1   10.4\n",
      "3   17.2   45.9       69.3    9.3\n",
      "4  151.5   41.3       58.5   18.5\n",
      "5  180.8   10.8       58.4   12.9\n"
     ]
    }
   ],
   "source": [
    "import pandas as pd\n",
    "import numpy as np\n",
    "\n",
    "# YOUR CODE HERE\n",
    "adv = pd.read_csv(\"Advertising.csv\", index_col=0)\n",
    "\n",
    "# Print first entries of adv\n",
    "print(adv.head())"
   ]
  },
  {
   "cell_type": "code",
   "execution_count": null,
   "metadata": {
    "deletable": false,
    "editable": false,
    "nbgrader": {
     "cell_type": "code",
     "checksum": "153dde91a1e162a99da85702adf3ebaf",
     "grade": true,
     "grade_id": "cell-b1115ea7f17d9f4b",
     "locked": true,
     "points": 1,
     "schema_version": 3,
     "solution": false,
     "task": false
    }
   },
   "outputs": [],
   "source": []
  },
  {
   "attachments": {},
   "cell_type": "markdown",
   "metadata": {
    "deletable": false,
    "editable": false,
    "nbgrader": {
     "cell_type": "markdown",
     "checksum": "3a35e7a7c55c984eb935f96d087772d3",
     "grade": false,
     "grade_id": "cell-0713d6f72c588992",
     "locked": true,
     "schema_version": 3,
     "solution": false,
     "task": false
    }
   },
   "source": [
    "For convenience, we extract the values from this `pandas`-DataFrame.\n",
    "This can be done with the method `to_numpy()`, which returns a `numpy` array.\n",
    "\n",
    "**Task**: Extract the data in the following manner:\n",
    "- `X` is of shape `(200, 3)` and contains all predictor variables, i.e., the values from the columns `TV`, `Radio` and `Newspaper`.\n",
    "- `Y` is of shape `(200,)` and contains the dependent variable `Sales`"
   ]
  },
  {
   "cell_type": "code",
   "execution_count": 7,
   "metadata": {
    "deletable": false,
    "nbgrader": {
     "cell_type": "code",
     "checksum": "c2c554648df65c96215bbe534fcaf0c4",
     "grade": false,
     "grade_id": "cell-f0d1c2f7e6986c87",
     "locked": false,
     "schema_version": 3,
     "solution": true,
     "task": false
    }
   },
   "outputs": [],
   "source": [
    "# YOUR CODE HERE\n",
    "X = adv[['TV','radio','newspaper']].to_numpy()\n",
    "Y = adv[['sales']].to_numpy().squeeze()"
   ]
  },
  {
   "cell_type": "code",
   "execution_count": null,
   "metadata": {
    "deletable": false,
    "editable": false,
    "nbgrader": {
     "cell_type": "code",
     "checksum": "0b91058562061f21c2418b29e5656bb0",
     "grade": true,
     "grade_id": "cell-6af75eca942f8185",
     "locked": true,
     "points": 1,
     "schema_version": 3,
     "solution": false,
     "task": false
    }
   },
   "outputs": [],
   "source": []
  },
  {
   "attachments": {},
   "cell_type": "markdown",
   "metadata": {
    "deletable": false,
    "editable": false,
    "nbgrader": {
     "cell_type": "markdown",
     "checksum": "f1ecec5f41e61370a2ea2369742d7d29",
     "grade": false,
     "grade_id": "cell-c3813c2ad099722c",
     "locked": true,
     "schema_version": 3,
     "solution": false,
     "task": false
    }
   },
   "source": [
    "Note that the variables `X` and `Y` contain only the values itself, and no further information like the column title.\n",
    "\n",
    "Using the `numpy` function `hsplit`, we can split an array horizontally.\n",
    "This will become handy in many circumstances.\n",
    "Here, we split the 2-dimensional numpy array `X` into three \n",
    "**2**-dimensional slices `tv`, `radio` and `news`.\n",
    "Note that the returned arrays have still the second dimension (which is one)!"
   ]
  },
  {
   "cell_type": "code",
   "execution_count": 8,
   "metadata": {},
   "outputs": [],
   "source": [
    "tv, radio, news = np.hsplit(X,3)"
   ]
  },
  {
   "attachments": {},
   "cell_type": "markdown",
   "metadata": {
    "deletable": false,
    "editable": false,
    "nbgrader": {
     "cell_type": "markdown",
     "checksum": "402f895645bf6cf1ad9923d94116dc1f",
     "grade": false,
     "grade_id": "cell-c7db8c95353caebf",
     "locked": true,
     "schema_version": 3,
     "solution": false,
     "task": false
    }
   },
   "source": [
    "Compute for each of the 3 predictor variables **TV**, **radio** and **newspaper** simple (1-dimensional) linear regressions, e.g.\n",
    "\n",
    "$$ y^{TV}_i \\approx \\beta_0^{TV} + \\beta_1^{TV} \\, x_i^{TV}$$\n",
    "\n",
    "Use the following function:\n",
    "\n",
    "    from sklearn.linear_model import LinearRegression\n",
    "    \n",
    "Store the intercepts, i.e., the values $\\beta_0$ in variables\n",
    "       \n",
    "    intercept_tv, intercept_radio and intercept_news\n",
    "    \n",
    "and the linear coefficients, i.e., the values $\\beta_1$ in variables\n",
    "\n",
    "    lincoef_tv, lincoef_radio and lincoef_news\n",
    "\n",
    "To print your results in a nice fashion, you can use a command similar to this f-string\n",
    "\n",
    "    print(f'y = {intercept_tv} + {lincoef_tv} x TV'))\n",
    "\n",
    "or alternatively by\n",
    "\n",
    "    print('y = %5.4f + %5.4f x TV' % (intercept, lincoef))"
   ]
  },
  {
   "cell_type": "code",
   "execution_count": 19,
   "metadata": {
    "deletable": false,
    "nbgrader": {
     "cell_type": "code",
     "checksum": "e0455dd47c54c42d8fe3169ed3b2ba99",
     "grade": false,
     "grade_id": "cell-5cb14fe0e222492c",
     "locked": false,
     "schema_version": 3,
     "solution": true,
     "task": false
    }
   },
   "outputs": [
    {
     "name": "stdout",
     "output_type": "stream",
     "text": [
      "y = 7.033 + 0.04754 x TV\n",
      "y = 9.312 + 0.2025 x Radio\n",
      "y = 12.35 + 0.05469 x News\n"
     ]
    }
   ],
   "source": [
    "from sklearn.linear_model import LinearRegression\n",
    "\n",
    "# YOUR CODE HERE\n",
    "\n",
    "\n",
    "#TV\n",
    "model_tv = LinearRegression()\n",
    "model_tv.fit(tv,Y)\n",
    "intercept_tv = model_tv.intercept_\n",
    "lincoef_tv = model_tv.coef_\n",
    "\n",
    "#Radio\n",
    "model_radio = LinearRegression()\n",
    "model_radio.fit(radio,Y)\n",
    "intercept_radio = model_radio.intercept_\n",
    "lincoef_radio = model_radio.coef_\n",
    "\n",
    "#newspaper\n",
    "model_news = LinearRegression()\n",
    "model_news.fit(news,Y)\n",
    "intercept_news = model_news.intercept_\n",
    "lincoef_news = model_news.coef_\n",
    "\n",
    "print(f'y = {intercept_tv:5.4} + {model_tv.coef_[0]:5.4} x TV')\n",
    "print(f'y = {intercept_radio:5.4} + {model_radio.coef_[0]:5.4} x Radio')\n",
    "print(f'y = {intercept_news:5.4} + {model_news.coef_[0]:5.4} x News')"
   ]
  },
  {
   "cell_type": "code",
   "execution_count": null,
   "metadata": {
    "deletable": false,
    "editable": false,
    "nbgrader": {
     "cell_type": "code",
     "checksum": "752247a510bd3d4ccbc9a941f3198b3b",
     "grade": true,
     "grade_id": "cell-ed24b27d868aff40",
     "locked": true,
     "points": 1,
     "schema_version": 3,
     "solution": false,
     "task": false
    }
   },
   "outputs": [],
   "source": []
  },
  {
   "attachments": {},
   "cell_type": "markdown",
   "metadata": {
    "deletable": false,
    "editable": false,
    "nbgrader": {
     "cell_type": "markdown",
     "checksum": "34e4746ae58d5f7641531e3e9c2c9fc0",
     "grade": false,
     "grade_id": "cell-2378584d8a1f548e",
     "locked": true,
     "schema_version": 3,
     "solution": false,
     "task": false
    }
   },
   "source": [
    "You should observe, that the regression coefficients for **TV** and **newspaper** are very similar.\n",
    "As you already know from the lecture, it is not satisfying from a mathematical point of view to restrict our investigation to the absolute values of the coefficients.\n"
   ]
  },
  {
   "attachments": {},
   "cell_type": "markdown",
   "metadata": {
    "deletable": false,
    "editable": false,
    "nbgrader": {
     "cell_type": "markdown",
     "checksum": "386f92a3f2de18cd35777ad05ec18193",
     "grade": false,
     "grade_id": "cell-9dcac39726863767",
     "locked": true,
     "schema_version": 3,
     "solution": false,
     "task": false
    }
   },
   "source": [
    "### Part B: Assessing the quality of a linear fit."
   ]
  },
  {
   "attachments": {},
   "cell_type": "markdown",
   "metadata": {
    "deletable": false,
    "editable": false,
    "nbgrader": {
     "cell_type": "markdown",
     "checksum": "123dd3fcbf359c0286e13fc6633d05c5",
     "grade": false,
     "grade_id": "cell-7dacc35e5815f3a5",
     "locked": true,
     "schema_version": 3,
     "solution": false,
     "task": false
    }
   },
   "source": [
    "In the lecture you learned about different measures for assessing the quality of a linear fit.\n",
    "In the last exercise, we already implemented a function to compute the mean squared error (MSE).\n",
    "\n",
    "This time, we want to compare the $R^2$ scores. You can use the method `score()` of a `LinearRegression` to get the $R^2$ values.\n",
    "Remember that this value is the proportion of variability in $Y$ explained using **TV**, **radio** or **newspaper** as predictor in a 1-dimensional linear regression fit.\n",
    "\n",
    "**Task**: Compute the $R^2$ scores and store them in variables\n",
    "    \n",
    "    R2_tv, R2_radio, R2_news"
   ]
  },
  {
   "cell_type": "code",
   "execution_count": 20,
   "metadata": {
    "deletable": false,
    "nbgrader": {
     "cell_type": "code",
     "checksum": "4c9021fae88e5026f06552e4b278e329",
     "grade": false,
     "grade_id": "cell-fd3b6790a9e543c0",
     "locked": false,
     "schema_version": 3,
     "solution": true,
     "task": false
    }
   },
   "outputs": [
    {
     "name": "stdout",
     "output_type": "stream",
     "text": [
      "R^2 for TV:         0.611875050850071\n",
      "R^2 for radio:      0.33203245544529525\n",
      "R^2 for newspaper:  0.05212044544430516\n"
     ]
    }
   ],
   "source": [
    "# YOUR CODE HERE\n",
    "R2_tv = model_tv.score(tv, Y)\n",
    "R2_radio = model_radio.score(radio, Y)\n",
    "R2_news = model_news.score(news, Y)\n",
    "\n",
    "print(\"R^2 for TV:        \", R2_tv)\n",
    "print(\"R^2 for radio:     \", R2_radio)\n",
    "print(\"R^2 for newspaper: \", R2_news)"
   ]
  },
  {
   "cell_type": "code",
   "execution_count": null,
   "metadata": {
    "deletable": false,
    "editable": false,
    "nbgrader": {
     "cell_type": "code",
     "checksum": "133ae6a51e6cb1d3e5c0d8bbd611d043",
     "grade": true,
     "grade_id": "cell-b9cdf81fe534585a",
     "locked": true,
     "points": 1,
     "schema_version": 3,
     "solution": false,
     "task": false
    }
   },
   "outputs": [],
   "source": []
  },
  {
   "attachments": {},
   "cell_type": "markdown",
   "metadata": {
    "deletable": false,
    "editable": false,
    "nbgrader": {
     "cell_type": "markdown",
     "checksum": "1944b019d0db47c8d75345c8482dbc13",
     "grade": false,
     "grade_id": "cell-e6c81f03de06675e",
     "locked": true,
     "schema_version": 3,
     "solution": false,
     "task": false
    }
   },
   "source": [
    "### Part C: Predicting values"
   ]
  },
  {
   "attachments": {},
   "cell_type": "markdown",
   "metadata": {
    "deletable": false,
    "editable": false,
    "nbgrader": {
     "cell_type": "markdown",
     "checksum": "7b4e69b10861871257c1acf6460a9e49",
     "grade": false,
     "grade_id": "cell-b65ec8a3bc2c16fe",
     "locked": true,
     "schema_version": 3,
     "solution": false,
     "task": false
    }
   },
   "source": [
    "Now we want to compute the predicted value of sales if we restrict our prediction to one input, i.e. **TV**, **radio** or **newspaper**, respectively.\n",
    "Predict the values $\\hat{y}^{TV}$, $\\hat{y}^{radio}$ and $\\hat{y}^{newspaper}$ using the `LinearRegression`-method `predict()` and store them in variables\n",
    "\n",
    "    y_tv, y_radio, y_news"
   ]
  },
  {
   "cell_type": "code",
   "execution_count": 21,
   "metadata": {
    "deletable": false,
    "nbgrader": {
     "cell_type": "code",
     "checksum": "6fe1e5444a4de153ad0630265e51d1a0",
     "grade": false,
     "grade_id": "cell-9e5459d7aaa2dfc8",
     "locked": false,
     "schema_version": 3,
     "solution": true,
     "task": false
    }
   },
   "outputs": [],
   "source": [
    "# YOUR CODE HERE\n",
    "y_tv = model_tv.predict(tv)\n",
    "y_radio = model_radio.predict(radio)\n",
    "y_news = model_news.predict(news)"
   ]
  },
  {
   "cell_type": "code",
   "execution_count": null,
   "metadata": {
    "deletable": false,
    "editable": false,
    "nbgrader": {
     "cell_type": "code",
     "checksum": "a00d3736fac58b97cdb74d86fbb40b1c",
     "grade": true,
     "grade_id": "cell-71f652a968725ea2",
     "locked": true,
     "points": 1,
     "schema_version": 3,
     "solution": false,
     "task": false
    }
   },
   "outputs": [],
   "source": []
  },
  {
   "attachments": {},
   "cell_type": "markdown",
   "metadata": {
    "deletable": false,
    "editable": false,
    "nbgrader": {
     "cell_type": "markdown",
     "checksum": "1b294422955180ff2a4638e58d440a52",
     "grade": false,
     "grade_id": "cell-c6dc30d1720b73ba",
     "locked": true,
     "schema_version": 3,
     "solution": false,
     "task": false
    }
   },
   "source": [
    "### Part D: Plotting\n",
    "Plot the datapoints as well as the corresponding regression line for each of the inputs  **TV**, **radio** or **newspaper**.\n",
    "\n",
    "You can use the functions `subplots` or `fig.add_subplot` to arrange the plots in one figure."
   ]
  },
  {
   "cell_type": "code",
   "execution_count": 22,
   "metadata": {
    "deletable": false,
    "nbgrader": {
     "cell_type": "code",
     "checksum": "30331b1e6bf24bcf82d20fb8e3865fc1",
     "grade": true,
     "grade_id": "cell-f5323561f0d02b4a",
     "locked": false,
     "points": 1,
     "schema_version": 3,
     "solution": true,
     "task": false
    }
   },
   "outputs": [
    {
     "data": {
      "image/png": "[encoded data removed]",
      "text/plain": [
       "<Figure size 1600x900 with 3 Axes>"
      ]
     },
     "metadata": {},
     "output_type": "display_data"
    }
   ],
   "source": [
    "# We plot our findings using subplots\n",
    "import matplotlib.pyplot as plt\n",
    "plt.rcParams['figure.figsize'] = (16,9)\n",
    "\n",
    "fig = plt.figure()\n",
    "fig.add_subplot(1,3,1)\n",
    "\n",
    "# YOUR CODE HERE\n",
    "plt.scatter(tv, Y, color='blue', label='Data points')\n",
    "plt.plot(tv, y_tv, color='red', label='Regression line')\n",
    "plt.legend()\n",
    "plt.title('Lin. regr. TV')\n",
    "\n",
    "fig.add_subplot(1,3,2)\n",
    "\n",
    "# YOUR CODE HERE\n",
    "plt.scatter(radio, Y, color='blue', label='Data points')\n",
    "plt.plot(radio, y_radio, color='red', label='Regression line')\n",
    "plt.legend()\n",
    "plt.title('Lin. regr. radio')\n",
    "\n",
    "fig.add_subplot(1,3,3)\n",
    "\n",
    "# YOUR CODE HERE\n",
    "plt.scatter(news, Y, color='blue', label='Data points')\n",
    "plt.plot(news, y_news, color='red', label='Regression line')\n",
    "plt.legend()\n",
    "plt.title('Lin. regr. newspaper');"
   ]
  },
  {
   "attachments": {},
   "cell_type": "markdown",
   "metadata": {
    "deletable": false,
    "editable": false,
    "nbgrader": {
     "cell_type": "markdown",
     "checksum": "24d2034cda81ed9fcfe261c49bdd6039",
     "grade": false,
     "grade_id": "cell-401054cc7de3483c",
     "locked": true,
     "schema_version": 3,
     "solution": false,
     "task": false
    }
   },
   "source": [
    "### Part E: Statistical functions"
   ]
  },
  {
   "attachments": {},
   "cell_type": "markdown",
   "metadata": {
    "deletable": false,
    "editable": false,
    "nbgrader": {
     "cell_type": "markdown",
     "checksum": "c203526afd8ce0c21957ed327c1f1135",
     "grade": false,
     "grade_id": "cell-cfb5b1ec4cd3129f",
     "locked": true,
     "schema_version": 3,
     "solution": false,
     "task": false
    }
   },
   "source": [
    "Take a closer look at the correlation matrix for the `DataFrame` `adv`.\n",
    "You can use the method `corr()` that is implemented for pandas \n",
    "`DataFrames`.\n",
    "Which features are correlated most strongly?"
   ]
  },
  {
   "cell_type": "code",
   "execution_count": 23,
   "metadata": {},
   "outputs": [
    {
     "data": {
      "text/html": [
       "<div>\n",
       "<style scoped>\n",
       "    .dataframe tbody tr th:only-of-type {\n",
       "        vertical-align: middle;\n",
       "    }\n",
       "\n",
       "    .dataframe tbody tr th {\n",
       "        vertical-align: top;\n",
       "    }\n",
       "\n",
       "    .dataframe thead th {\n",
       "        text-align: right;\n",
       "    }\n",
       "</style>\n",
       "<table border=\"1\" class=\"dataframe\">\n",
       "  <thead>\n",
       "    <tr style=\"text-align: right;\">\n",
       "      <th></th>\n",
       "      <th>TV</th>\n",
       "      <th>radio</th>\n",
       "      <th>newspaper</th>\n",
       "      <th>sales</th>\n",
       "    </tr>\n",
       "  </thead>\n",
       "  <tbody>\n",
       "    <tr>\n",
       "      <th>TV</th>\n",
       "      <td>1.000000</td>\n",
       "      <td>0.054809</td>\n",
       "      <td>0.056648</td>\n",
       "      <td>0.782224</td>\n",
       "    </tr>\n",
       "    <tr>\n",
       "      <th>radio</th>\n",
       "      <td>0.054809</td>\n",
       "      <td>1.000000</td>\n",
       "      <td>0.354104</td>\n",
       "      <td>0.576223</td>\n",
       "    </tr>\n",
       "    <tr>\n",
       "      <th>newspaper</th>\n",
       "      <td>0.056648</td>\n",
       "      <td>0.354104</td>\n",
       "      <td>1.000000</td>\n",
       "      <td>0.228299</td>\n",
       "    </tr>\n",
       "    <tr>\n",
       "      <th>sales</th>\n",
       "      <td>0.782224</td>\n",
       "      <td>0.576223</td>\n",
       "      <td>0.228299</td>\n",
       "      <td>1.000000</td>\n",
       "    </tr>\n",
       "  </tbody>\n",
       "</table>\n",
       "</div>"
      ],
      "text/plain": [
       "                 TV     radio  newspaper     sales\n",
       "TV         1.000000  0.054809   0.056648  0.782224\n",
       "radio      0.054809  1.000000   0.354104  0.576223\n",
       "newspaper  0.056648  0.354104   1.000000  0.228299\n",
       "sales      0.782224  0.576223   0.228299  1.000000"
      ]
     },
     "execution_count": 23,
     "metadata": {},
     "output_type": "execute_result"
    }
   ],
   "source": [
    "adv.corr()"
   ]
  },
  {
   "attachments": {},
   "cell_type": "markdown",
   "metadata": {
    "deletable": false,
    "editable": false,
    "nbgrader": {
     "cell_type": "markdown",
     "checksum": "ec35b4e0c80c3e4cee4a2bd3d0396171",
     "grade": false,
     "grade_id": "cell-aada4e9553f481e3",
     "locked": true,
     "schema_version": 3,
     "solution": false,
     "task": false
    }
   },
   "source": [
    "Name the two **features**, that are correlated most strongly in the next cell!"
   ]
  },
  {
   "attachments": {},
   "cell_type": "markdown",
   "metadata": {
    "deletable": false,
    "nbgrader": {
     "cell_type": "markdown",
     "checksum": "e8fd522b3d24dca209b8dafbd21e2da4",
     "grade": true,
     "grade_id": "cell-3d9e79b4a9566134",
     "locked": false,
     "points": 1,
     "schema_version": 3,
     "solution": true,
     "task": false
    }
   },
   "source": [
    "YOUR ANSWER HERE: \n",
    "Radio and Newspaper"
   ]
  },
  {
   "attachments": {},
   "cell_type": "markdown",
   "metadata": {
    "deletable": false,
    "editable": false,
    "nbgrader": {
     "cell_type": "markdown",
     "checksum": "eb0a7888e4b4bcda728ee32481cff7fb",
     "grade": false,
     "grade_id": "cell-458b47c419d16a4b",
     "locked": true,
     "schema_version": 3,
     "solution": false,
     "task": false
    }
   },
   "source": [
    "Investigate the statistical significance of the medium **newspaper** in a linear regression involving only this feature. Use a **t-test** for this purpose as described in the lecture notes or in the book *An Introduction to Statistical Learning*.\n",
    "\n",
    "You should observe the following values:\n",
    "\n",
    "|Coefficient | Estimate | SE | t-statistic | p-value|\n",
    "|:-----------|----------|----|-------------|--------|\n",
    "| $\\beta_0$  | 12.351 | 0.621 | 19.88 | < 0.0001 |\n",
    "| $\\beta_{newspaper}$ | 0.055 | 0.017 | 3.30 | 0.00115\n",
    "\n",
    "\n",
    "You should use `scipy` to get the $t$-distribution using\n",
    "\n",
    "    from scipy.stats import t\n",
    "    \n",
    "The cumulative distribution function at a point `x` for `n` degrees of freedom can than be called by\n",
    "\n",
    "    t.cdf(x, n)"
   ]
  },
  {
   "cell_type": "code",
   "execution_count": 25,
   "metadata": {
    "deletable": false,
    "nbgrader": {
     "cell_type": "code",
     "checksum": "0710cee847709422d5133ef7cf24518b",
     "grade": true,
     "grade_id": "cell-02461ff24a250328",
     "locked": false,
     "points": 3,
     "schema_version": 3,
     "solution": true,
     "task": false
    }
   },
   "outputs": [
    {
     "name": "stdout",
     "output_type": "stream",
     "text": [
      "Intercept: 12.3514\n",
      "Lin. coef:  0.0547\n",
      "\n",
      "std-error Intercept:  0.6214\n",
      "std-error Lin. coef:  0.0166\n",
      "\n",
      "t-statistic Intercept:  19.88\n",
      "t-statistic Lin. coef:   3.30\n",
      "\n",
      "P-value Intercept: 0.00000\n",
      "P-value Lin. coef: 0.00115\n"
     ]
    },
    {
     "name": "stderr",
     "output_type": "stream",
     "text": [
      "C:\\Users\\Shobhit Maurya\\AppData\\Local\\Temp\\ipykernel_26572\\3920967631.py:22: DeprecationWarning: Conversion of an array with ndim > 0 to a scalar is deprecated, and will error in future. Ensure you extract a single element from your array before performing this operation. (Deprecated NumPy 1.25.)\n",
      "  print(\"Lin. coef: %7.4f\" % beta_1)\n",
      "C:\\Users\\Shobhit Maurya\\AppData\\Local\\Temp\\ipykernel_26572\\3920967631.py:28: DeprecationWarning: Conversion of an array with ndim > 0 to a scalar is deprecated, and will error in future. Ensure you extract a single element from your array before performing this operation. (Deprecated NumPy 1.25.)\n",
      "  print(\"t-statistic Lin. coef: %6.2f\" % tstat_1)\n",
      "C:\\Users\\Shobhit Maurya\\AppData\\Local\\Temp\\ipykernel_26572\\3920967631.py:31: DeprecationWarning: Conversion of an array with ndim > 0 to a scalar is deprecated, and will error in future. Ensure you extract a single element from your array before performing this operation. (Deprecated NumPy 1.25.)\n",
      "  print(\"P-value Lin. coef: %7.5f\" % pval_1)\n"
     ]
    }
   ],
   "source": [
    "# Import the t-distribution from scipy\n",
    "from scipy.stats import t\n",
    "\n",
    "# YOUR CODE HERE\n",
    "n = len(Y)\n",
    "beta_0 = model_news.intercept_\n",
    "beta_1 = model_news.coef_\n",
    "\n",
    "noise = Y - y_news\n",
    "sum_squared_x_dev = np.sum((news - news.mean()) ** 2)\n",
    "sigma_squared = np.sum(noise ** 2) / (n - 2)\n",
    "\n",
    "SE_beta_0_squared = sigma_squared * (1 / n + news.mean() ** 2 / sum_squared_x_dev)\n",
    "SE0 = np.sqrt(SE_beta_0_squared)\n",
    "SE1 = np.sqrt(sigma_squared / sum_squared_x_dev)\n",
    "tstat_0 = (beta_0-0)/SE0\n",
    "tstat_1 = (beta_1-0)/SE1\n",
    "pval_0 = 2 * (1 - t.cdf(tstat_0, n-2))\n",
    "pval_1 = 2 * (1 - t.cdf(tstat_1, n-2))\n",
    "# Print information\n",
    "print(\"Intercept: %7.4f\" % beta_0)\n",
    "print(\"Lin. coef: %7.4f\" % beta_1)\n",
    "print(\"\")\n",
    "print(\"std-error Intercept: %7.4f\" %  SE0)\n",
    "print(\"std-error Lin. coef: %7.4f\" % SE1)\n",
    "print(\"\")\n",
    "print(\"t-statistic Intercept: %6.2f\" % tstat_0)\n",
    "print(\"t-statistic Lin. coef: %6.2f\" % tstat_1)\n",
    "print(\"\")\n",
    "print(\"P-value Intercept: %7.5f\" % pval_0)\n",
    "print(\"P-value Lin. coef: %7.5f\" % pval_1)"
   ]
  },
  {
   "attachments": {},
   "cell_type": "markdown",
   "metadata": {
    "deletable": false,
    "editable": false,
    "nbgrader": {
     "cell_type": "markdown",
     "checksum": "c10e82bc5e5cc7337589d489dd9d9523",
     "grade": false,
     "grade_id": "cell-91dad72be05aa690",
     "locked": true,
     "schema_version": 3,
     "solution": false,
     "task": false
    }
   },
   "source": [
    "### Part F: Linear regression on all predictors"
   ]
  },
  {
   "attachments": {},
   "cell_type": "markdown",
   "metadata": {
    "deletable": false,
    "editable": false,
    "nbgrader": {
     "cell_type": "markdown",
     "checksum": "449129914ded779ca4d314ed4e5dd438",
     "grade": false,
     "grade_id": "cell-bf81a003e3efc4f8",
     "locked": true,
     "schema_version": 3,
     "solution": false,
     "task": false
    }
   },
   "source": [
    "Now construct a linear regression on all three predictor variables, i.e.\n",
    "\n",
    "$$y_i ≈ \\beta_0 + \\beta_{TV} x^{TV}_i + \\beta_{radio} x^{radio}_i + \\beta_{newspaper} x^{newspaper}_i$$\n",
    "\n",
    "Ensure that the intercept and linear regression coefficients are stored in the variables\n",
    "\n",
    "    beta_0, beta_tv, beta_radio and beta_news"
   ]
  },
  {
   "cell_type": "code",
   "execution_count": 26,
   "metadata": {
    "deletable": false,
    "nbgrader": {
     "cell_type": "code",
     "checksum": "ff72f2ca6f70c41a81c2cd4885650d83",
     "grade": false,
     "grade_id": "cell-59ddc25633526b2d",
     "locked": false,
     "schema_version": 3,
     "solution": true,
     "task": false
    }
   },
   "outputs": [
    {
     "name": "stdout",
     "output_type": "stream",
     "text": [
      "y = 12.3514 + 0.0475 x TV + 0.2025 x radio + 0.0547 x newspaper\n"
     ]
    },
    {
     "name": "stderr",
     "output_type": "stream",
     "text": [
      "C:\\Users\\Shobhit Maurya\\AppData\\Local\\Temp\\ipykernel_26572\\54923334.py:5: DeprecationWarning: Conversion of an array with ndim > 0 to a scalar is deprecated, and will error in future. Ensure you extract a single element from your array before performing this operation. (Deprecated NumPy 1.25.)\n",
      "  print('y = %5.4f + %5.4f x TV + %5.4f x radio + %5.4f x newspaper' % (beta_0, beta_tv, beta_radio, beta_news))\n"
     ]
    }
   ],
   "source": [
    "# YOUR CODE HERE\n",
    "beta_tv = model_tv.coef_\n",
    "beta_radio = model_radio.coef_\n",
    "beta_news = beta_1\n",
    "print('y = %5.4f + %5.4f x TV + %5.4f x radio + %5.4f x newspaper' % (beta_0, beta_tv, beta_radio, beta_news))"
   ]
  },
  {
   "cell_type": "code",
   "execution_count": null,
   "metadata": {
    "deletable": false,
    "editable": false,
    "nbgrader": {
     "cell_type": "code",
     "checksum": "34927dd0ef04dd40efa81b92af1d59a5",
     "grade": true,
     "grade_id": "cell-cd23d2ff6972429b",
     "locked": true,
     "points": 1,
     "schema_version": 3,
     "solution": false,
     "task": false
    }
   },
   "outputs": [],
   "source": []
  },
  {
   "attachments": {},
   "cell_type": "markdown",
   "metadata": {},
   "source": [
    "What portion of the variance (between 0 and 1) is explained by this linear regression fit? Store your answer in the variable `explained_var`."
   ]
  },
  {
   "cell_type": "code",
   "execution_count": 27,
   "metadata": {
    "deletable": false,
    "nbgrader": {
     "cell_type": "code",
     "checksum": "d54de71df8d393960cf28d2075e589bd",
     "grade": false,
     "grade_id": "cell-9cb2dad97c8c9bf5",
     "locked": false,
     "schema_version": 3,
     "solution": true,
     "task": false
    }
   },
   "outputs": [],
   "source": [
    "# YOUR CODE HERE\n",
    "model_X = LinearRegression()\n",
    "model_X.fit(X,Y)\n",
    "explained_var = model_X.score(X,Y)"
   ]
  },
  {
   "cell_type": "code",
   "execution_count": 28,
   "metadata": {
    "deletable": false,
    "editable": false,
    "nbgrader": {
     "cell_type": "code",
     "checksum": "b92bfbccdcc7db52b276587d0d799aa8",
     "grade": true,
     "grade_id": "cell-66b0fe342bdf5b49",
     "locked": true,
     "points": 1,
     "schema_version": 3,
     "solution": false,
     "task": false
    }
   },
   "outputs": [
    {
     "name": "stdout",
     "output_type": "stream",
     "text": [
      "The portion of the variance that can be explained by the full model is about 0.897211\n"
     ]
    }
   ],
   "source": [
    "print('The portion of the variance that can be explained by the full model is about %8.6f' % explained_var)\n"
   ]
  },
  {
   "attachments": {},
   "cell_type": "markdown",
   "metadata": {},
   "source": [
    "Now perform a linear regression that incorporates only the predictors **TV** and **radio**.\n",
    "Compute the $R^2$-value of this linear regression model and compare it to the $R^2$-value of the full multiple linear regression."
   ]
  },
  {
   "cell_type": "code",
   "execution_count": 29,
   "metadata": {
    "deletable": false,
    "nbgrader": {
     "cell_type": "code",
     "checksum": "edd1d18a9dc1f3d8653c5fdc4ab659aa",
     "grade": false,
     "grade_id": "cell-caee2298f250d394",
     "locked": false,
     "schema_version": 3,
     "solution": true,
     "task": false
    }
   },
   "outputs": [],
   "source": [
    "# YOUR CODE HERE\n",
    "tv_radio = np.column_stack((tv,radio))\n",
    "model_tv_radio = LinearRegression()\n",
    "model_tv_radio.fit(tv_radio,Y)\n",
    "R2_tv_radio = model_tv_radio.score(tv_radio,Y)"
   ]
  },
  {
   "cell_type": "code",
   "execution_count": 30,
   "metadata": {
    "deletable": false,
    "editable": false,
    "nbgrader": {
     "cell_type": "code",
     "checksum": "91d08d7fd84051ca3ae902008c1f59f8",
     "grade": true,
     "grade_id": "cell-664727b9fc60e7e8",
     "locked": true,
     "points": 1,
     "schema_version": 3,
     "solution": false,
     "task": false
    }
   },
   "outputs": [
    {
     "name": "stdout",
     "output_type": "stream",
     "text": [
      "The R^2 score for the model using TV and Radio as predictors is 0.897194\n"
     ]
    }
   ],
   "source": [
    "print('The R^2 score for the model using TV and Radio as predictors is %8.6f' % R2_tv_radio)\n"
   ]
  },
  {
   "attachments": {},
   "cell_type": "markdown",
   "metadata": {
    "deletable": false,
    "editable": false,
    "nbgrader": {
     "cell_type": "markdown",
     "checksum": "da3d310525232db52a9684eec7e0d3c8",
     "grade": false,
     "grade_id": "cell-65414ef00986b932",
     "locked": true,
     "schema_version": 3,
     "solution": false,
     "task": false
    }
   },
   "source": [
    "You should observe that the $R^2$-score for the linear regression fit incorporating all three features is only marginally larger than the score using only **TV** and **radio** for the prediction.\n",
    "Thus, it might be sufficient to exclude the **feature** newspaper from our prediction.\n",
    "\n",
    "The procedure we did today is called *feature selection* is should be one of the first steps in every statistical learning problem."
   ]
  },
  {
   "attachments": {},
   "cell_type": "markdown",
   "metadata": {
    "deletable": false,
    "editable": false,
    "nbgrader": {
     "cell_type": "markdown",
     "checksum": "76d33883f409361c682068b194f257fe",
     "grade": false,
     "grade_id": "cell-694eb0d911bd5ca5",
     "locked": true,
     "schema_version": 3,
     "solution": false,
     "task": false
    }
   },
   "source": [
    "### Part G: Computing the t-statistic for the full model\n",
    "\n",
    "We have already seen, that the **t-test** comes in handy when one has to decide whether a coefficient for a single feature is significant or not.\n",
    "As has been outlined in the lecture, one can also use the t-test in a multiple linear regression fit\n",
    "\n",
    "$$ Y = X \\beta + \\varepsilon $$\n",
    "\n",
    "while the intercept is incorporated into $X$ by stacking a column containing only ones in front of the original matrix $X$.\n",
    "\n",
    "The formula to compute the test statistic in this generalized setting is\n",
    "\n",
    "$$ t_j = \\frac{\\hat{\\beta}_j}{\\hat{\\sigma} \\sqrt{v_j}}, $$\n",
    "\n",
    "while $\\hat \\beta_j$ is the $j$-th entry of the coefficient vector\n",
    "\n",
    "$$ \\hat \\beta = (X^\\top X)^{-1} X^\\top y, $$\n",
    "\n",
    "$\\hat{\\sigma}$ is the unbiased estimate of $\\sigma$, which is determined by\n",
    "\n",
    "$$ \\hat{\\sigma} = \\sqrt{\\frac{1}{n-p-1} \\, \\sum_{i=1}^n (y_i - \\hat{y}_i)^2} $$\n",
    "\n",
    "and $v_j$ is the $j$-th diagonal element of the matrix $(X^\\top X)^{-1}$.\n",
    "\n",
    "Then $t_j$ is distributed according to a $t$-distribution with $n-p-1$ degrees of freedom (dofs). \n",
    "\n",
    "**Task**: Compute the values in the following statistic and try to print it in a similar way. \n",
    "\n",
    "|  Coefficient     | Estimate  | SE    | t-statistic | p-value |\n",
    "|:-----------------|-----------|-------|-------------|---------|\n",
    "| $\\beta_0$        | 2.939     |0.3119 | 9.42        | < 0.0001|\n",
    "| $\\beta_{TV}$     | 0.046     |0.0014 | 32.81       | < 0.0001|\n",
    "| $\\beta_{radio}$  | 0.189     |0.0086 | 21.89       | < 0.0001|\n",
    "| $\\beta_{news}$   | −0.001    |0.0059 | −0.18       | 0.8599  |\n",
    "\n",
    "\n"
   ]
  },
  {
   "cell_type": "code",
   "execution_count": null,
   "metadata": {
    "deletable": false,
    "nbgrader": {
     "cell_type": "code",
     "checksum": "58c7450ce29d9163c261b6459343e995",
     "grade": true,
     "grade_id": "cell-5de872312430d808",
     "locked": false,
     "points": 3,
     "schema_version": 3,
     "solution": true,
     "task": false
    }
   },
   "outputs": [],
   "source": []
  }
 ],
 "metadata": {
  "kernelspec": {
   "display_name": "Python 3 (ipykernel)",
   "language": "python",
   "name": "python3"
  },
  "language_info": {
   "codemirror_mode": {
    "name": "ipython",
    "version": 3
   },
   "file_extension": ".py",
   "mimetype": "text/x-python",
   "name": "python",
   "nbconvert_exporter": "python",
   "pygments_lexer": "ipython3",
   "version": "3.13.0"
  }
 },
 "nbformat": 4,
 "nbformat_minor": 4
}
